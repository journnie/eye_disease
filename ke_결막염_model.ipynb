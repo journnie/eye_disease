{
 "cells": [
  {
   "cell_type": "markdown",
   "metadata": {},
   "source": [
    "# 반려견 안구질환 진단 예측 프로젝트 - 두부는 단단"
   ]
  },
  {
   "cell_type": "code",
   "execution_count": 1,
   "metadata": {
    "ExecuteTime": {
     "end_time": "2024-03-28T09:23:45.543185Z",
     "start_time": "2024-03-28T09:23:45.540633Z"
    }
   },
   "outputs": [],
   "source": [
    "# 라이브러리 임포트\n",
    "import os\n",
    "import glob\n",
    "import json\n",
    "import pandas as pd"
   ]
  },
  {
   "cell_type": "code",
   "execution_count": 2,
   "metadata": {
    "ExecuteTime": {
     "end_time": "2024-03-28T09:23:46.903928Z",
     "start_time": "2024-03-28T09:23:45.649851Z"
    }
   },
   "outputs": [],
   "source": [
    "# 데이터프레임 생성\n",
    "df = pd.DataFrame(columns=[\"breed\", \"age\", \"gender\", \"eye_position\", \"lesions\", \"label_disease_lv_1\", \"label_disease_lv_2\", \"label_disease_lv_3\", \"path\", \"img_path\"])\n",
    "\n",
    "# 디렉토리 경로\n",
    "directory_paths = [r\"D:\\반려동물 안구질환 데이터\\1.Training\\결막염\\유무\"]\n",
    "\n",
    "# 빈 리스트 생성\n",
    "data_list = []\n",
    "\n",
    "# 디렉토리 내 JSON 파일 읽기\n",
    "for directory_path in directory_paths:\n",
    "    for filename in os.listdir(directory_path):\n",
    "        if filename.endswith('.json'):\n",
    "            with open(os.path.join(directory_path, filename), 'r', encoding='utf-8') as file:\n",
    "                json_data = json.load(file)\n",
    "\n",
    "                # 데이터프레임 생성을 위한 정보 추출\n",
    "                breed = json_data[\"images\"][\"meta\"][\"breed\"]\n",
    "                age = json_data[\"images\"][\"meta\"][\"age\"]\n",
    "                gender = json_data[\"images\"][\"meta\"][\"gender\"]\n",
    "                eye_position = json_data[\"images\"][\"meta\"][\"eye_position\"]\n",
    "                lesions = json_data[\"label\"][\"label_disease_nm\"]\n",
    "                label_disease_lv_1 = json_data[\"label\"][\"label_disease_lv_1\"]\n",
    "                label_disease_lv_2 = json_data[\"label\"][\"label_disease_lv_2\"]\n",
    "                label_disease_lv_3 = json_data[\"label\"][\"label_disease_lv_3\"]\n",
    "                img_path = os.path.join(directory_path, json_data[\"label\"][\"label_filename\"])\n",
    "\n",
    "                # 데이터 리스트에 추가\n",
    "                data_list.append([breed, age, gender, eye_position, lesions, label_disease_lv_1, label_disease_lv_2, label_disease_lv_3, img_path])\n",
    "\n"
   ]
  },
  {
   "cell_type": "code",
   "execution_count": 3,
   "metadata": {
    "ExecuteTime": {
     "end_time": "2024-03-28T09:23:46.928153Z",
     "start_time": "2024-03-28T09:23:46.905202Z"
    },
    "collapsed": false
   },
   "outputs": [
    {
     "data": {
      "text/html": [
       "<div>\n",
       "<style scoped>\n",
       "    .dataframe tbody tr th:only-of-type {\n",
       "        vertical-align: middle;\n",
       "    }\n",
       "\n",
       "    .dataframe tbody tr th {\n",
       "        vertical-align: top;\n",
       "    }\n",
       "\n",
       "    .dataframe thead th {\n",
       "        text-align: right;\n",
       "    }\n",
       "</style>\n",
       "<table border=\"1\" class=\"dataframe\">\n",
       "  <thead>\n",
       "    <tr style=\"text-align: right;\">\n",
       "      <th></th>\n",
       "      <th>breed</th>\n",
       "      <th>age</th>\n",
       "      <th>gender</th>\n",
       "      <th>eye_position</th>\n",
       "      <th>lesions</th>\n",
       "      <th>label_disease_lv_1</th>\n",
       "      <th>label_disease_lv_2</th>\n",
       "      <th>label_disease_lv_3</th>\n",
       "      <th>img_path</th>\n",
       "    </tr>\n",
       "  </thead>\n",
       "  <tbody>\n",
       "    <tr>\n",
       "      <th>0</th>\n",
       "      <td>시츄</td>\n",
       "      <td>12.0</td>\n",
       "      <td>0.0</td>\n",
       "      <td>왼쪽눈</td>\n",
       "      <td>결막염</td>\n",
       "      <td>유</td>\n",
       "      <td>유</td>\n",
       "      <td>유</td>\n",
       "      <td>D:\\반려동물 안구질환 데이터\\1.Training\\결막염\\유무\\crop_D0_02f...</td>\n",
       "    </tr>\n",
       "    <tr>\n",
       "      <th>1</th>\n",
       "      <td>시츄</td>\n",
       "      <td>13.0</td>\n",
       "      <td>0.0</td>\n",
       "      <td>왼쪽눈</td>\n",
       "      <td>결막염</td>\n",
       "      <td>유</td>\n",
       "      <td>유</td>\n",
       "      <td>유</td>\n",
       "      <td>D:\\반려동물 안구질환 데이터\\1.Training\\결막염\\유무\\crop_D0_02f...</td>\n",
       "    </tr>\n",
       "    <tr>\n",
       "      <th>2</th>\n",
       "      <td>시츄</td>\n",
       "      <td>12.0</td>\n",
       "      <td>0.0</td>\n",
       "      <td>왼쪽눈</td>\n",
       "      <td>결막염</td>\n",
       "      <td>유</td>\n",
       "      <td>유</td>\n",
       "      <td>유</td>\n",
       "      <td>D:\\반려동물 안구질환 데이터\\1.Training\\결막염\\유무\\crop_D0_02f...</td>\n",
       "    </tr>\n",
       "    <tr>\n",
       "      <th>3</th>\n",
       "      <td>시츄</td>\n",
       "      <td>11.0</td>\n",
       "      <td>1.0</td>\n",
       "      <td>왼쪽눈</td>\n",
       "      <td>결막염</td>\n",
       "      <td>유</td>\n",
       "      <td>유</td>\n",
       "      <td>유</td>\n",
       "      <td>D:\\반려동물 안구질환 데이터\\1.Training\\결막염\\유무\\crop_D0_02f...</td>\n",
       "    </tr>\n",
       "    <tr>\n",
       "      <th>4</th>\n",
       "      <td>시츄</td>\n",
       "      <td>13.0</td>\n",
       "      <td>0.0</td>\n",
       "      <td>왼쪽눈</td>\n",
       "      <td>결막염</td>\n",
       "      <td>무</td>\n",
       "      <td>유</td>\n",
       "      <td>유</td>\n",
       "      <td>D:\\반려동물 안구질환 데이터\\1.Training\\결막염\\유무\\crop_D0_030...</td>\n",
       "    </tr>\n",
       "    <tr>\n",
       "      <th>...</th>\n",
       "      <td>...</td>\n",
       "      <td>...</td>\n",
       "      <td>...</td>\n",
       "      <td>...</td>\n",
       "      <td>...</td>\n",
       "      <td>...</td>\n",
       "      <td>...</td>\n",
       "      <td>...</td>\n",
       "      <td>...</td>\n",
       "    </tr>\n",
       "    <tr>\n",
       "      <th>19193</th>\n",
       "      <td>보스턴 테리어</td>\n",
       "      <td>6.0</td>\n",
       "      <td>0.0</td>\n",
       "      <td>왼쪽눈</td>\n",
       "      <td>결막염</td>\n",
       "      <td>유</td>\n",
       "      <td>유</td>\n",
       "      <td>유</td>\n",
       "      <td>D:\\반려동물 안구질환 데이터\\1.Training\\결막염\\유무\\crop_D9_316...</td>\n",
       "    </tr>\n",
       "    <tr>\n",
       "      <th>19194</th>\n",
       "      <td>샤페이</td>\n",
       "      <td>3.0</td>\n",
       "      <td>0.0</td>\n",
       "      <td>오른쪽눈</td>\n",
       "      <td>결막염</td>\n",
       "      <td>유</td>\n",
       "      <td>유</td>\n",
       "      <td>유</td>\n",
       "      <td>D:\\반려동물 안구질환 데이터\\1.Training\\결막염\\유무\\crop_D9_316...</td>\n",
       "    </tr>\n",
       "    <tr>\n",
       "      <th>19195</th>\n",
       "      <td>믹스</td>\n",
       "      <td>10.0</td>\n",
       "      <td>1.0</td>\n",
       "      <td>오른쪽눈</td>\n",
       "      <td>결막염</td>\n",
       "      <td>무</td>\n",
       "      <td>유</td>\n",
       "      <td>유</td>\n",
       "      <td>D:\\반려동물 안구질환 데이터\\1.Training\\결막염\\유무\\crop_D9_319...</td>\n",
       "    </tr>\n",
       "    <tr>\n",
       "      <th>19196</th>\n",
       "      <td>시바</td>\n",
       "      <td>3.0</td>\n",
       "      <td>1.0</td>\n",
       "      <td>오른쪽눈</td>\n",
       "      <td>결막염</td>\n",
       "      <td>유</td>\n",
       "      <td>유</td>\n",
       "      <td>유</td>\n",
       "      <td>D:\\반려동물 안구질환 데이터\\1.Training\\결막염\\유무\\crop_D9_319...</td>\n",
       "    </tr>\n",
       "    <tr>\n",
       "      <th>19197</th>\n",
       "      <td>캐벌리어 킹 찰스 스파니엘</td>\n",
       "      <td>3.0</td>\n",
       "      <td>1.0</td>\n",
       "      <td>오른쪽눈</td>\n",
       "      <td>결막염</td>\n",
       "      <td>유</td>\n",
       "      <td>유</td>\n",
       "      <td>유</td>\n",
       "      <td>D:\\반려동물 안구질환 데이터\\1.Training\\결막염\\유무\\crop_D9_31a...</td>\n",
       "    </tr>\n",
       "  </tbody>\n",
       "</table>\n",
       "<p>19198 rows × 9 columns</p>\n",
       "</div>"
      ],
      "text/plain": [
       "                breed   age  gender eye_position lesions label_disease_lv_1  \\\n",
       "0                  시츄  12.0     0.0          왼쪽눈     결막염                  유   \n",
       "1                  시츄  13.0     0.0          왼쪽눈     결막염                  유   \n",
       "2                  시츄  12.0     0.0          왼쪽눈     결막염                  유   \n",
       "3                  시츄  11.0     1.0          왼쪽눈     결막염                  유   \n",
       "4                  시츄  13.0     0.0          왼쪽눈     결막염                  무   \n",
       "...               ...   ...     ...          ...     ...                ...   \n",
       "19193         보스턴 테리어   6.0     0.0          왼쪽눈     결막염                  유   \n",
       "19194             샤페이   3.0     0.0         오른쪽눈     결막염                  유   \n",
       "19195              믹스  10.0     1.0         오른쪽눈     결막염                  무   \n",
       "19196              시바   3.0     1.0         오른쪽눈     결막염                  유   \n",
       "19197  캐벌리어 킹 찰스 스파니엘   3.0     1.0         오른쪽눈     결막염                  유   \n",
       "\n",
       "      label_disease_lv_2 label_disease_lv_3  \\\n",
       "0                      유                  유   \n",
       "1                      유                  유   \n",
       "2                      유                  유   \n",
       "3                      유                  유   \n",
       "4                      유                  유   \n",
       "...                  ...                ...   \n",
       "19193                  유                  유   \n",
       "19194                  유                  유   \n",
       "19195                  유                  유   \n",
       "19196                  유                  유   \n",
       "19197                  유                  유   \n",
       "\n",
       "                                                img_path  \n",
       "0      D:\\반려동물 안구질환 데이터\\1.Training\\결막염\\유무\\crop_D0_02f...  \n",
       "1      D:\\반려동물 안구질환 데이터\\1.Training\\결막염\\유무\\crop_D0_02f...  \n",
       "2      D:\\반려동물 안구질환 데이터\\1.Training\\결막염\\유무\\crop_D0_02f...  \n",
       "3      D:\\반려동물 안구질환 데이터\\1.Training\\결막염\\유무\\crop_D0_02f...  \n",
       "4      D:\\반려동물 안구질환 데이터\\1.Training\\결막염\\유무\\crop_D0_030...  \n",
       "...                                                  ...  \n",
       "19193  D:\\반려동물 안구질환 데이터\\1.Training\\결막염\\유무\\crop_D9_316...  \n",
       "19194  D:\\반려동물 안구질환 데이터\\1.Training\\결막염\\유무\\crop_D9_316...  \n",
       "19195  D:\\반려동물 안구질환 데이터\\1.Training\\결막염\\유무\\crop_D9_319...  \n",
       "19196  D:\\반려동물 안구질환 데이터\\1.Training\\결막염\\유무\\crop_D9_319...  \n",
       "19197  D:\\반려동물 안구질환 데이터\\1.Training\\결막염\\유무\\crop_D9_31a...  \n",
       "\n",
       "[19198 rows x 9 columns]"
      ]
     },
     "execution_count": 3,
     "metadata": {},
     "output_type": "execute_result"
    }
   ],
   "source": [
    "# 데이터프레임 생성\n",
    "df = pd.DataFrame(data_list, columns=[\"breed\", \"age\", \"gender\", \"eye_position\", \"lesions\", \"label_disease_lv_1\", \"label_disease_lv_2\", \"label_disease_lv_3\", \"img_path\"])\n",
    "df"
   ]
  },
  {
   "cell_type": "code",
   "execution_count": 4,
   "metadata": {
    "ExecuteTime": {
     "end_time": "2024-03-28T09:23:46.959786Z",
     "start_time": "2024-03-28T09:23:46.928153Z"
    }
   },
   "outputs": [
    {
     "data": {
      "text/plain": [
       "(19198, 9)"
      ]
     },
     "execution_count": 4,
     "metadata": {},
     "output_type": "execute_result"
    }
   ],
   "source": [
    "df.shape"
   ]
  },
  {
   "cell_type": "code",
   "execution_count": 5,
   "metadata": {
    "ExecuteTime": {
     "end_time": "2024-03-28T09:23:46.982465Z",
     "start_time": "2024-03-28T09:23:46.962227Z"
    }
   },
   "outputs": [
    {
     "name": "stdout",
     "output_type": "stream",
     "text": [
      "<class 'pandas.core.frame.DataFrame'>\n",
      "RangeIndex: 19198 entries, 0 to 19197\n",
      "Data columns (total 9 columns):\n",
      " #   Column              Non-Null Count  Dtype  \n",
      "---  ------              --------------  -----  \n",
      " 0   breed               19198 non-null  object \n",
      " 1   age                 19198 non-null  float64\n",
      " 2   gender              19198 non-null  float64\n",
      " 3   eye_position        19198 non-null  object \n",
      " 4   lesions             19198 non-null  object \n",
      " 5   label_disease_lv_1  19198 non-null  object \n",
      " 6   label_disease_lv_2  19198 non-null  object \n",
      " 7   label_disease_lv_3  19198 non-null  object \n",
      " 8   img_path            19198 non-null  object \n",
      "dtypes: float64(2), object(7)\n",
      "memory usage: 1.3+ MB\n"
     ]
    }
   ],
   "source": [
    "df.info()"
   ]
  },
  {
   "cell_type": "code",
   "execution_count": 6,
   "metadata": {
    "ExecuteTime": {
     "end_time": "2024-03-28T09:23:46.989794Z",
     "start_time": "2024-03-28T09:23:46.983466Z"
    },
    "collapsed": false
   },
   "outputs": [],
   "source": [
    "# 이미지 데이터 시각화\n",
    "from PIL import Image\n",
    "import plotly.graph_objects as go\n",
    "import plotly.express as px\n",
    "from plotly.subplots import make_subplots\n",
    "import matplotlib.pyplot as plt\n",
    "import seaborn as sns"
   ]
  },
  {
   "cell_type": "code",
   "execution_count": 7,
   "metadata": {},
   "outputs": [
    {
     "name": "stdout",
     "output_type": "stream",
     "text": [
      "0\n"
     ]
    }
   ],
   "source": [
    "# 확장자 없는 애 찾기\n",
    "img_path_list = list(df['img_path'])\n",
    "\n",
    "no_file=0\n",
    "for idx, img_path in enumerate(img_path_list):\n",
    "    if os.path.exists(img_path):\n",
    "        pass\n",
    "        # print(f\"File exists: {img_path}\")\n",
    "    else:\n",
    "        print(idx)\n",
    "        no_file += 1\n",
    "        print(f\"File does not exist: {img_path}\")\n",
    "        \n",
    "print(no_file)"
   ]
  },
  {
   "cell_type": "code",
   "execution_count": 8,
   "metadata": {
    "ExecuteTime": {
     "end_time": "2024-03-28T09:24:23.771493Z",
     "start_time": "2024-03-28T09:23:46.990943Z"
    },
    "collapsed": false
   },
   "outputs": [],
   "source": [
    "# 이미지 데이터 사이즈 변경\n",
    "import numpy as np\n",
    "df['image_pixel'] = df['img_path'].map(lambda x: np.asarray(Image.open(x).resize((50, 50))))"
   ]
  },
  {
   "cell_type": "code",
   "execution_count": 9,
   "metadata": {
    "ExecuteTime": {
     "end_time": "2024-03-28T09:24:33.791558Z",
     "start_time": "2024-03-28T09:24:23.772903Z"
    },
    "collapsed": false
   },
   "outputs": [
    {
     "data": {
      "text/html": [
       "<div>\n",
       "<style scoped>\n",
       "    .dataframe tbody tr th:only-of-type {\n",
       "        vertical-align: middle;\n",
       "    }\n",
       "\n",
       "    .dataframe tbody tr th {\n",
       "        vertical-align: top;\n",
       "    }\n",
       "\n",
       "    .dataframe thead th {\n",
       "        text-align: right;\n",
       "    }\n",
       "</style>\n",
       "<table border=\"1\" class=\"dataframe\">\n",
       "  <thead>\n",
       "    <tr style=\"text-align: right;\">\n",
       "      <th></th>\n",
       "      <th>breed</th>\n",
       "      <th>age</th>\n",
       "      <th>gender</th>\n",
       "      <th>eye_position</th>\n",
       "      <th>lesions</th>\n",
       "      <th>label_disease_lv_1</th>\n",
       "      <th>label_disease_lv_2</th>\n",
       "      <th>label_disease_lv_3</th>\n",
       "      <th>img_path</th>\n",
       "      <th>image_pixel</th>\n",
       "    </tr>\n",
       "  </thead>\n",
       "  <tbody>\n",
       "    <tr>\n",
       "      <th>0</th>\n",
       "      <td>시츄</td>\n",
       "      <td>12.0</td>\n",
       "      <td>0.0</td>\n",
       "      <td>왼쪽눈</td>\n",
       "      <td>결막염</td>\n",
       "      <td>유</td>\n",
       "      <td>유</td>\n",
       "      <td>유</td>\n",
       "      <td>D:\\반려동물 안구질환 데이터\\1.Training\\결막염\\유무\\crop_D0_02f...</td>\n",
       "      <td>[[[0, 0, 0], [0, 0, 0], [0, 0, 0], [0, 0, 0], ...</td>\n",
       "    </tr>\n",
       "    <tr>\n",
       "      <th>1</th>\n",
       "      <td>시츄</td>\n",
       "      <td>13.0</td>\n",
       "      <td>0.0</td>\n",
       "      <td>왼쪽눈</td>\n",
       "      <td>결막염</td>\n",
       "      <td>유</td>\n",
       "      <td>유</td>\n",
       "      <td>유</td>\n",
       "      <td>D:\\반려동물 안구질환 데이터\\1.Training\\결막염\\유무\\crop_D0_02f...</td>\n",
       "      <td>[[[0, 0, 0], [0, 0, 0], [0, 0, 0], [0, 0, 0], ...</td>\n",
       "    </tr>\n",
       "    <tr>\n",
       "      <th>2</th>\n",
       "      <td>시츄</td>\n",
       "      <td>12.0</td>\n",
       "      <td>0.0</td>\n",
       "      <td>왼쪽눈</td>\n",
       "      <td>결막염</td>\n",
       "      <td>유</td>\n",
       "      <td>유</td>\n",
       "      <td>유</td>\n",
       "      <td>D:\\반려동물 안구질환 데이터\\1.Training\\결막염\\유무\\crop_D0_02f...</td>\n",
       "      <td>[[[0, 0, 0], [0, 0, 0], [0, 0, 0], [0, 0, 0], ...</td>\n",
       "    </tr>\n",
       "    <tr>\n",
       "      <th>3</th>\n",
       "      <td>시츄</td>\n",
       "      <td>11.0</td>\n",
       "      <td>1.0</td>\n",
       "      <td>왼쪽눈</td>\n",
       "      <td>결막염</td>\n",
       "      <td>유</td>\n",
       "      <td>유</td>\n",
       "      <td>유</td>\n",
       "      <td>D:\\반려동물 안구질환 데이터\\1.Training\\결막염\\유무\\crop_D0_02f...</td>\n",
       "      <td>[[[0, 0, 0], [0, 0, 0], [0, 0, 0], [0, 0, 0], ...</td>\n",
       "    </tr>\n",
       "    <tr>\n",
       "      <th>4</th>\n",
       "      <td>시츄</td>\n",
       "      <td>13.0</td>\n",
       "      <td>0.0</td>\n",
       "      <td>왼쪽눈</td>\n",
       "      <td>결막염</td>\n",
       "      <td>무</td>\n",
       "      <td>유</td>\n",
       "      <td>유</td>\n",
       "      <td>D:\\반려동물 안구질환 데이터\\1.Training\\결막염\\유무\\crop_D0_030...</td>\n",
       "      <td>[[[0, 0, 0], [0, 0, 0], [0, 0, 0], [0, 0, 0], ...</td>\n",
       "    </tr>\n",
       "    <tr>\n",
       "      <th>...</th>\n",
       "      <td>...</td>\n",
       "      <td>...</td>\n",
       "      <td>...</td>\n",
       "      <td>...</td>\n",
       "      <td>...</td>\n",
       "      <td>...</td>\n",
       "      <td>...</td>\n",
       "      <td>...</td>\n",
       "      <td>...</td>\n",
       "      <td>...</td>\n",
       "    </tr>\n",
       "    <tr>\n",
       "      <th>19193</th>\n",
       "      <td>보스턴 테리어</td>\n",
       "      <td>6.0</td>\n",
       "      <td>0.0</td>\n",
       "      <td>왼쪽눈</td>\n",
       "      <td>결막염</td>\n",
       "      <td>유</td>\n",
       "      <td>유</td>\n",
       "      <td>유</td>\n",
       "      <td>D:\\반려동물 안구질환 데이터\\1.Training\\결막염\\유무\\crop_D9_316...</td>\n",
       "      <td>[[[0, 0, 0], [0, 0, 0], [0, 0, 0], [0, 0, 0], ...</td>\n",
       "    </tr>\n",
       "    <tr>\n",
       "      <th>19194</th>\n",
       "      <td>샤페이</td>\n",
       "      <td>3.0</td>\n",
       "      <td>0.0</td>\n",
       "      <td>오른쪽눈</td>\n",
       "      <td>결막염</td>\n",
       "      <td>유</td>\n",
       "      <td>유</td>\n",
       "      <td>유</td>\n",
       "      <td>D:\\반려동물 안구질환 데이터\\1.Training\\결막염\\유무\\crop_D9_316...</td>\n",
       "      <td>[[[5, 3, 3], [4, 3, 2], [4, 1, 1], [5, 2, 2], ...</td>\n",
       "    </tr>\n",
       "    <tr>\n",
       "      <th>19195</th>\n",
       "      <td>믹스</td>\n",
       "      <td>10.0</td>\n",
       "      <td>1.0</td>\n",
       "      <td>오른쪽눈</td>\n",
       "      <td>결막염</td>\n",
       "      <td>무</td>\n",
       "      <td>유</td>\n",
       "      <td>유</td>\n",
       "      <td>D:\\반려동물 안구질환 데이터\\1.Training\\결막염\\유무\\crop_D9_319...</td>\n",
       "      <td>[[[0, 0, 0], [0, 0, 0], [0, 0, 0], [0, 0, 0], ...</td>\n",
       "    </tr>\n",
       "    <tr>\n",
       "      <th>19196</th>\n",
       "      <td>시바</td>\n",
       "      <td>3.0</td>\n",
       "      <td>1.0</td>\n",
       "      <td>오른쪽눈</td>\n",
       "      <td>결막염</td>\n",
       "      <td>유</td>\n",
       "      <td>유</td>\n",
       "      <td>유</td>\n",
       "      <td>D:\\반려동물 안구질환 데이터\\1.Training\\결막염\\유무\\crop_D9_319...</td>\n",
       "      <td>[[[0, 0, 0], [0, 0, 0], [0, 0, 0], [0, 0, 0], ...</td>\n",
       "    </tr>\n",
       "    <tr>\n",
       "      <th>19197</th>\n",
       "      <td>캐벌리어 킹 찰스 스파니엘</td>\n",
       "      <td>3.0</td>\n",
       "      <td>1.0</td>\n",
       "      <td>오른쪽눈</td>\n",
       "      <td>결막염</td>\n",
       "      <td>유</td>\n",
       "      <td>유</td>\n",
       "      <td>유</td>\n",
       "      <td>D:\\반려동물 안구질환 데이터\\1.Training\\결막염\\유무\\crop_D9_31a...</td>\n",
       "      <td>[[[0, 0, 0], [0, 0, 0], [0, 0, 0], [0, 0, 0], ...</td>\n",
       "    </tr>\n",
       "  </tbody>\n",
       "</table>\n",
       "<p>19198 rows × 10 columns</p>\n",
       "</div>"
      ],
      "text/plain": [
       "                breed   age  gender eye_position lesions label_disease_lv_1  \\\n",
       "0                  시츄  12.0     0.0          왼쪽눈     결막염                  유   \n",
       "1                  시츄  13.0     0.0          왼쪽눈     결막염                  유   \n",
       "2                  시츄  12.0     0.0          왼쪽눈     결막염                  유   \n",
       "3                  시츄  11.0     1.0          왼쪽눈     결막염                  유   \n",
       "4                  시츄  13.0     0.0          왼쪽눈     결막염                  무   \n",
       "...               ...   ...     ...          ...     ...                ...   \n",
       "19193         보스턴 테리어   6.0     0.0          왼쪽눈     결막염                  유   \n",
       "19194             샤페이   3.0     0.0         오른쪽눈     결막염                  유   \n",
       "19195              믹스  10.0     1.0         오른쪽눈     결막염                  무   \n",
       "19196              시바   3.0     1.0         오른쪽눈     결막염                  유   \n",
       "19197  캐벌리어 킹 찰스 스파니엘   3.0     1.0         오른쪽눈     결막염                  유   \n",
       "\n",
       "      label_disease_lv_2 label_disease_lv_3  \\\n",
       "0                      유                  유   \n",
       "1                      유                  유   \n",
       "2                      유                  유   \n",
       "3                      유                  유   \n",
       "4                      유                  유   \n",
       "...                  ...                ...   \n",
       "19193                  유                  유   \n",
       "19194                  유                  유   \n",
       "19195                  유                  유   \n",
       "19196                  유                  유   \n",
       "19197                  유                  유   \n",
       "\n",
       "                                                img_path  \\\n",
       "0      D:\\반려동물 안구질환 데이터\\1.Training\\결막염\\유무\\crop_D0_02f...   \n",
       "1      D:\\반려동물 안구질환 데이터\\1.Training\\결막염\\유무\\crop_D0_02f...   \n",
       "2      D:\\반려동물 안구질환 데이터\\1.Training\\결막염\\유무\\crop_D0_02f...   \n",
       "3      D:\\반려동물 안구질환 데이터\\1.Training\\결막염\\유무\\crop_D0_02f...   \n",
       "4      D:\\반려동물 안구질환 데이터\\1.Training\\결막염\\유무\\crop_D0_030...   \n",
       "...                                                  ...   \n",
       "19193  D:\\반려동물 안구질환 데이터\\1.Training\\결막염\\유무\\crop_D9_316...   \n",
       "19194  D:\\반려동물 안구질환 데이터\\1.Training\\결막염\\유무\\crop_D9_316...   \n",
       "19195  D:\\반려동물 안구질환 데이터\\1.Training\\결막염\\유무\\crop_D9_319...   \n",
       "19196  D:\\반려동물 안구질환 데이터\\1.Training\\결막염\\유무\\crop_D9_319...   \n",
       "19197  D:\\반려동물 안구질환 데이터\\1.Training\\결막염\\유무\\crop_D9_31a...   \n",
       "\n",
       "                                             image_pixel  \n",
       "0      [[[0, 0, 0], [0, 0, 0], [0, 0, 0], [0, 0, 0], ...  \n",
       "1      [[[0, 0, 0], [0, 0, 0], [0, 0, 0], [0, 0, 0], ...  \n",
       "2      [[[0, 0, 0], [0, 0, 0], [0, 0, 0], [0, 0, 0], ...  \n",
       "3      [[[0, 0, 0], [0, 0, 0], [0, 0, 0], [0, 0, 0], ...  \n",
       "4      [[[0, 0, 0], [0, 0, 0], [0, 0, 0], [0, 0, 0], ...  \n",
       "...                                                  ...  \n",
       "19193  [[[0, 0, 0], [0, 0, 0], [0, 0, 0], [0, 0, 0], ...  \n",
       "19194  [[[5, 3, 3], [4, 3, 2], [4, 1, 1], [5, 2, 2], ...  \n",
       "19195  [[[0, 0, 0], [0, 0, 0], [0, 0, 0], [0, 0, 0], ...  \n",
       "19196  [[[0, 0, 0], [0, 0, 0], [0, 0, 0], [0, 0, 0], ...  \n",
       "19197  [[[0, 0, 0], [0, 0, 0], [0, 0, 0], [0, 0, 0], ...  \n",
       "\n",
       "[19198 rows x 10 columns]"
      ]
     },
     "execution_count": 9,
     "metadata": {},
     "output_type": "execute_result"
    }
   ],
   "source": [
    "df"
   ]
  },
  {
   "cell_type": "markdown",
   "metadata": {
    "collapsed": false
   },
   "source": [
    "## 전처리"
   ]
  },
  {
   "cell_type": "markdown",
   "metadata": {
    "collapsed": false
   },
   "source": [
    "### 눈 위치 인덱싱"
   ]
  },
  {
   "cell_type": "code",
   "execution_count": 11,
   "metadata": {
    "ExecuteTime": {
     "end_time": "2024-03-28T09:24:33.831037Z",
     "start_time": "2024-03-28T09:24:33.797768Z"
    },
    "collapsed": false
   },
   "outputs": [
    {
     "data": {
      "text/plain": [
       "array(['왼쪽눈', '오른쪽눈'], dtype=object)"
      ]
     },
     "execution_count": 11,
     "metadata": {},
     "output_type": "execute_result"
    }
   ],
   "source": [
    "df['eye_position'].unique()"
   ]
  },
  {
   "cell_type": "code",
   "execution_count": 12,
   "metadata": {
    "ExecuteTime": {
     "start_time": "2024-03-28T09:24:33.834075Z"
    },
    "collapsed": false,
    "is_executing": true
   },
   "outputs": [
    {
     "name": "stdout",
     "output_type": "stream",
     "text": [
      "[0 1]\n"
     ]
    }
   ],
   "source": [
    "# Dictionary mapping eye_position values to numeric representations\n",
    "eye_position_mapping = {\n",
    "    '왼쪽눈': 0,\n",
    "    '오른쪽눈': 1\n",
    "}\n",
    "\n",
    "# Replace eye_position values with numeric representations\n",
    "df['eye_position'] = df['eye_position'].map(eye_position_mapping)\n",
    "\n",
    "# Print unique numeric representations\n",
    "print(df['eye_position'].unique())\n"
   ]
  },
  {
   "cell_type": "markdown",
   "metadata": {
    "collapsed": false
   },
   "source": [
    "### 성별, 나이 정수형"
   ]
  },
  {
   "cell_type": "code",
   "execution_count": 13,
   "metadata": {
    "collapsed": false,
    "is_executing": true
   },
   "outputs": [],
   "source": [
    "df['age'] = df['age'].astype(int)\n",
    "df['gender'] = df['gender'].astype(int)"
   ]
  },
  {
   "cell_type": "markdown",
   "metadata": {
    "collapsed": false
   },
   "source": [
    "### 증상 무:0 유:1"
   ]
  },
  {
   "cell_type": "code",
   "execution_count": 14,
   "metadata": {
    "collapsed": false,
    "is_executing": true
   },
   "outputs": [
    {
     "name": "stdout",
     "output_type": "stream",
     "text": [
      "[1 0]\n",
      "[1 0]\n",
      "[1 0]\n"
     ]
    }
   ],
   "source": [
    "# Define a function to map values to 0 or 1\n",
    "def map_to_binary(value):\n",
    "    return 0 if value == '무' else 1\n",
    "\n",
    "# Apply the function to the specified columns\n",
    "columns_to_map = ['label_disease_lv_1', 'label_disease_lv_2', 'label_disease_lv_3']\n",
    "for column in columns_to_map:\n",
    "    df[column] = df[column].apply(lambda x: map_to_binary(x))\n",
    "\n",
    "# Print unique values to verify the transformation\n",
    "for column in columns_to_map:\n",
    "    print(df[column].unique())\n"
   ]
  },
  {
   "cell_type": "code",
   "execution_count": 15,
   "metadata": {
    "collapsed": false,
    "is_executing": true
   },
   "outputs": [
    {
     "name": "stdout",
     "output_type": "stream",
     "text": [
      "<class 'pandas.core.frame.DataFrame'>\n",
      "RangeIndex: 19198 entries, 0 to 19197\n",
      "Data columns (total 10 columns):\n",
      " #   Column              Non-Null Count  Dtype \n",
      "---  ------              --------------  ----- \n",
      " 0   breed               19198 non-null  object\n",
      " 1   age                 19198 non-null  int32 \n",
      " 2   gender              19198 non-null  int32 \n",
      " 3   eye_position        19198 non-null  int64 \n",
      " 4   lesions             19198 non-null  object\n",
      " 5   label_disease_lv_1  19198 non-null  int64 \n",
      " 6   label_disease_lv_2  19198 non-null  int64 \n",
      " 7   label_disease_lv_3  19198 non-null  int64 \n",
      " 8   img_path            19198 non-null  object\n",
      " 9   image_pixel         19198 non-null  object\n",
      "dtypes: int32(2), int64(4), object(4)\n",
      "memory usage: 1.3+ MB\n"
     ]
    }
   ],
   "source": [
    "df.info()"
   ]
  },
  {
   "cell_type": "markdown",
   "metadata": {
    "collapsed": false
   },
   "source": [
    "#### 하나라도 유증상이면 1"
   ]
  },
  {
   "cell_type": "code",
   "execution_count": 16,
   "metadata": {
    "collapsed": false,
    "is_executing": true
   },
   "outputs": [
    {
     "name": "stdout",
     "output_type": "stream",
     "text": [
      "[1 0]\n"
     ]
    }
   ],
   "source": [
    "def check_disease_presence(row):\n",
    "    if row['label_disease_lv_1'] == 0 and row['label_disease_lv_2'] == 0 and row['label_disease_lv_3'] == 0:\n",
    "        return 0\n",
    "    else:\n",
    "        return 1\n",
    "\n",
    "df['path'] = df.apply(check_disease_presence, axis=1)\n",
    "\n",
    "print(df['path'].unique())"
   ]
  },
  {
   "cell_type": "markdown",
   "metadata": {
    "collapsed": false
   },
   "source": [
    "## EDA"
   ]
  },
  {
   "cell_type": "code",
   "execution_count": 17,
   "metadata": {
    "collapsed": false,
    "is_executing": true
   },
   "outputs": [
    {
     "data": {
      "image/png": "[encoded data removed]",
      "text/plain": [
       "<Figure size 2200x3200 with 14 Axes>"
      ]
     },
     "metadata": {},
     "output_type": "display_data"
    }
   ],
   "source": [
    "plt.figure(figsize=(22, 32))\n",
    "for i in range(14):\n",
    "    plt.subplot(7, 5, i + 1)\n",
    "    #plt.imshow(np.squeeze(sample_data['image_pixel'][i])) # 이미지 데이터의 차원을 3차원에서 2차원으로 \n",
    "    plt.imshow(df['image_pixel'][i])  # np.squeeze 안해도 잘 보임\n",
    "    plt.title(df['path'][i])\n",
    "    plt.axis(\"off\")\n",
    "plt.show();"
   ]
  },
  {
   "cell_type": "code",
   "execution_count": 18,
   "metadata": {
    "collapsed": false,
    "is_executing": true
   },
   "outputs": [
    {
     "data": {
      "image/png": "[encoded data removed]",
      "text/plain": [
       "<Figure size 640x480 with 1 Axes>"
      ]
     },
     "metadata": {},
     "output_type": "display_data"
    }
   ],
   "source": [
    "# Extract the x and y values from the groupby count\n",
    "x_values = [0, 1]\n",
    "y_values = df.groupby('path').size().values  # Use size() instead of count()\n",
    "\n",
    "# Plot the bar chart\n",
    "plt.bar(x_values, y_values)\n",
    "plt.show()"
   ]
  },
  {
   "cell_type": "code",
   "execution_count": 19,
   "metadata": {
    "collapsed": false,
    "is_executing": true
   },
   "outputs": [
    {
     "data": {
      "text/html": [
       "<div>\n",
       "<style scoped>\n",
       "    .dataframe tbody tr th:only-of-type {\n",
       "        vertical-align: middle;\n",
       "    }\n",
       "\n",
       "    .dataframe tbody tr th {\n",
       "        vertical-align: top;\n",
       "    }\n",
       "\n",
       "    .dataframe thead th {\n",
       "        text-align: right;\n",
       "    }\n",
       "</style>\n",
       "<table border=\"1\" class=\"dataframe\">\n",
       "  <thead>\n",
       "    <tr style=\"text-align: right;\">\n",
       "      <th></th>\n",
       "      <th>breed</th>\n",
       "      <th>age</th>\n",
       "      <th>gender</th>\n",
       "      <th>eye_position</th>\n",
       "      <th>lesions</th>\n",
       "      <th>label_disease_lv_1</th>\n",
       "      <th>label_disease_lv_2</th>\n",
       "      <th>label_disease_lv_3</th>\n",
       "      <th>img_path</th>\n",
       "      <th>image_pixel</th>\n",
       "      <th>path</th>\n",
       "    </tr>\n",
       "  </thead>\n",
       "  <tbody>\n",
       "    <tr>\n",
       "      <th>0</th>\n",
       "      <td>시츄</td>\n",
       "      <td>12</td>\n",
       "      <td>0</td>\n",
       "      <td>0</td>\n",
       "      <td>결막염</td>\n",
       "      <td>1</td>\n",
       "      <td>1</td>\n",
       "      <td>1</td>\n",
       "      <td>D:\\반려동물 안구질환 데이터\\1.Training\\결막염\\유무\\crop_D0_02f...</td>\n",
       "      <td>[[[0, 0, 0], [0, 0, 0], [0, 0, 0], [0, 0, 0], ...</td>\n",
       "      <td>1</td>\n",
       "    </tr>\n",
       "    <tr>\n",
       "      <th>1</th>\n",
       "      <td>시츄</td>\n",
       "      <td>13</td>\n",
       "      <td>0</td>\n",
       "      <td>0</td>\n",
       "      <td>결막염</td>\n",
       "      <td>1</td>\n",
       "      <td>1</td>\n",
       "      <td>1</td>\n",
       "      <td>D:\\반려동물 안구질환 데이터\\1.Training\\결막염\\유무\\crop_D0_02f...</td>\n",
       "      <td>[[[0, 0, 0], [0, 0, 0], [0, 0, 0], [0, 0, 0], ...</td>\n",
       "      <td>1</td>\n",
       "    </tr>\n",
       "    <tr>\n",
       "      <th>2</th>\n",
       "      <td>시츄</td>\n",
       "      <td>12</td>\n",
       "      <td>0</td>\n",
       "      <td>0</td>\n",
       "      <td>결막염</td>\n",
       "      <td>1</td>\n",
       "      <td>1</td>\n",
       "      <td>1</td>\n",
       "      <td>D:\\반려동물 안구질환 데이터\\1.Training\\결막염\\유무\\crop_D0_02f...</td>\n",
       "      <td>[[[0, 0, 0], [0, 0, 0], [0, 0, 0], [0, 0, 0], ...</td>\n",
       "      <td>1</td>\n",
       "    </tr>\n",
       "    <tr>\n",
       "      <th>3</th>\n",
       "      <td>시츄</td>\n",
       "      <td>11</td>\n",
       "      <td>1</td>\n",
       "      <td>0</td>\n",
       "      <td>결막염</td>\n",
       "      <td>1</td>\n",
       "      <td>1</td>\n",
       "      <td>1</td>\n",
       "      <td>D:\\반려동물 안구질환 데이터\\1.Training\\결막염\\유무\\crop_D0_02f...</td>\n",
       "      <td>[[[0, 0, 0], [0, 0, 0], [0, 0, 0], [0, 0, 0], ...</td>\n",
       "      <td>1</td>\n",
       "    </tr>\n",
       "    <tr>\n",
       "      <th>4</th>\n",
       "      <td>시츄</td>\n",
       "      <td>13</td>\n",
       "      <td>0</td>\n",
       "      <td>0</td>\n",
       "      <td>결막염</td>\n",
       "      <td>0</td>\n",
       "      <td>1</td>\n",
       "      <td>1</td>\n",
       "      <td>D:\\반려동물 안구질환 데이터\\1.Training\\결막염\\유무\\crop_D0_030...</td>\n",
       "      <td>[[[0, 0, 0], [0, 0, 0], [0, 0, 0], [0, 0, 0], ...</td>\n",
       "      <td>1</td>\n",
       "    </tr>\n",
       "    <tr>\n",
       "      <th>...</th>\n",
       "      <td>...</td>\n",
       "      <td>...</td>\n",
       "      <td>...</td>\n",
       "      <td>...</td>\n",
       "      <td>...</td>\n",
       "      <td>...</td>\n",
       "      <td>...</td>\n",
       "      <td>...</td>\n",
       "      <td>...</td>\n",
       "      <td>...</td>\n",
       "      <td>...</td>\n",
       "    </tr>\n",
       "    <tr>\n",
       "      <th>19193</th>\n",
       "      <td>보스턴 테리어</td>\n",
       "      <td>6</td>\n",
       "      <td>0</td>\n",
       "      <td>0</td>\n",
       "      <td>결막염</td>\n",
       "      <td>1</td>\n",
       "      <td>1</td>\n",
       "      <td>1</td>\n",
       "      <td>D:\\반려동물 안구질환 데이터\\1.Training\\결막염\\유무\\crop_D9_316...</td>\n",
       "      <td>[[[0, 0, 0], [0, 0, 0], [0, 0, 0], [0, 0, 0], ...</td>\n",
       "      <td>1</td>\n",
       "    </tr>\n",
       "    <tr>\n",
       "      <th>19194</th>\n",
       "      <td>샤페이</td>\n",
       "      <td>3</td>\n",
       "      <td>0</td>\n",
       "      <td>1</td>\n",
       "      <td>결막염</td>\n",
       "      <td>1</td>\n",
       "      <td>1</td>\n",
       "      <td>1</td>\n",
       "      <td>D:\\반려동물 안구질환 데이터\\1.Training\\결막염\\유무\\crop_D9_316...</td>\n",
       "      <td>[[[5, 3, 3], [4, 3, 2], [4, 1, 1], [5, 2, 2], ...</td>\n",
       "      <td>1</td>\n",
       "    </tr>\n",
       "    <tr>\n",
       "      <th>19195</th>\n",
       "      <td>믹스</td>\n",
       "      <td>10</td>\n",
       "      <td>1</td>\n",
       "      <td>1</td>\n",
       "      <td>결막염</td>\n",
       "      <td>0</td>\n",
       "      <td>1</td>\n",
       "      <td>1</td>\n",
       "      <td>D:\\반려동물 안구질환 데이터\\1.Training\\결막염\\유무\\crop_D9_319...</td>\n",
       "      <td>[[[0, 0, 0], [0, 0, 0], [0, 0, 0], [0, 0, 0], ...</td>\n",
       "      <td>1</td>\n",
       "    </tr>\n",
       "    <tr>\n",
       "      <th>19196</th>\n",
       "      <td>시바</td>\n",
       "      <td>3</td>\n",
       "      <td>1</td>\n",
       "      <td>1</td>\n",
       "      <td>결막염</td>\n",
       "      <td>1</td>\n",
       "      <td>1</td>\n",
       "      <td>1</td>\n",
       "      <td>D:\\반려동물 안구질환 데이터\\1.Training\\결막염\\유무\\crop_D9_319...</td>\n",
       "      <td>[[[0, 0, 0], [0, 0, 0], [0, 0, 0], [0, 0, 0], ...</td>\n",
       "      <td>1</td>\n",
       "    </tr>\n",
       "    <tr>\n",
       "      <th>19197</th>\n",
       "      <td>캐벌리어 킹 찰스 스파니엘</td>\n",
       "      <td>3</td>\n",
       "      <td>1</td>\n",
       "      <td>1</td>\n",
       "      <td>결막염</td>\n",
       "      <td>1</td>\n",
       "      <td>1</td>\n",
       "      <td>1</td>\n",
       "      <td>D:\\반려동물 안구질환 데이터\\1.Training\\결막염\\유무\\crop_D9_31a...</td>\n",
       "      <td>[[[0, 0, 0], [0, 0, 0], [0, 0, 0], [0, 0, 0], ...</td>\n",
       "      <td>1</td>\n",
       "    </tr>\n",
       "  </tbody>\n",
       "</table>\n",
       "<p>19198 rows × 11 columns</p>\n",
       "</div>"
      ],
      "text/plain": [
       "                breed  age  gender  eye_position lesions  label_disease_lv_1  \\\n",
       "0                  시츄   12       0             0     결막염                   1   \n",
       "1                  시츄   13       0             0     결막염                   1   \n",
       "2                  시츄   12       0             0     결막염                   1   \n",
       "3                  시츄   11       1             0     결막염                   1   \n",
       "4                  시츄   13       0             0     결막염                   0   \n",
       "...               ...  ...     ...           ...     ...                 ...   \n",
       "19193         보스턴 테리어    6       0             0     결막염                   1   \n",
       "19194             샤페이    3       0             1     결막염                   1   \n",
       "19195              믹스   10       1             1     결막염                   0   \n",
       "19196              시바    3       1             1     결막염                   1   \n",
       "19197  캐벌리어 킹 찰스 스파니엘    3       1             1     결막염                   1   \n",
       "\n",
       "       label_disease_lv_2  label_disease_lv_3  \\\n",
       "0                       1                   1   \n",
       "1                       1                   1   \n",
       "2                       1                   1   \n",
       "3                       1                   1   \n",
       "4                       1                   1   \n",
       "...                   ...                 ...   \n",
       "19193                   1                   1   \n",
       "19194                   1                   1   \n",
       "19195                   1                   1   \n",
       "19196                   1                   1   \n",
       "19197                   1                   1   \n",
       "\n",
       "                                                img_path  \\\n",
       "0      D:\\반려동물 안구질환 데이터\\1.Training\\결막염\\유무\\crop_D0_02f...   \n",
       "1      D:\\반려동물 안구질환 데이터\\1.Training\\결막염\\유무\\crop_D0_02f...   \n",
       "2      D:\\반려동물 안구질환 데이터\\1.Training\\결막염\\유무\\crop_D0_02f...   \n",
       "3      D:\\반려동물 안구질환 데이터\\1.Training\\결막염\\유무\\crop_D0_02f...   \n",
       "4      D:\\반려동물 안구질환 데이터\\1.Training\\결막염\\유무\\crop_D0_030...   \n",
       "...                                                  ...   \n",
       "19193  D:\\반려동물 안구질환 데이터\\1.Training\\결막염\\유무\\crop_D9_316...   \n",
       "19194  D:\\반려동물 안구질환 데이터\\1.Training\\결막염\\유무\\crop_D9_316...   \n",
       "19195  D:\\반려동물 안구질환 데이터\\1.Training\\결막염\\유무\\crop_D9_319...   \n",
       "19196  D:\\반려동물 안구질환 데이터\\1.Training\\결막염\\유무\\crop_D9_319...   \n",
       "19197  D:\\반려동물 안구질환 데이터\\1.Training\\결막염\\유무\\crop_D9_31a...   \n",
       "\n",
       "                                             image_pixel  path  \n",
       "0      [[[0, 0, 0], [0, 0, 0], [0, 0, 0], [0, 0, 0], ...     1  \n",
       "1      [[[0, 0, 0], [0, 0, 0], [0, 0, 0], [0, 0, 0], ...     1  \n",
       "2      [[[0, 0, 0], [0, 0, 0], [0, 0, 0], [0, 0, 0], ...     1  \n",
       "3      [[[0, 0, 0], [0, 0, 0], [0, 0, 0], [0, 0, 0], ...     1  \n",
       "4      [[[0, 0, 0], [0, 0, 0], [0, 0, 0], [0, 0, 0], ...     1  \n",
       "...                                                  ...   ...  \n",
       "19193  [[[0, 0, 0], [0, 0, 0], [0, 0, 0], [0, 0, 0], ...     1  \n",
       "19194  [[[5, 3, 3], [4, 3, 2], [4, 1, 1], [5, 2, 2], ...     1  \n",
       "19195  [[[0, 0, 0], [0, 0, 0], [0, 0, 0], [0, 0, 0], ...     1  \n",
       "19196  [[[0, 0, 0], [0, 0, 0], [0, 0, 0], [0, 0, 0], ...     1  \n",
       "19197  [[[0, 0, 0], [0, 0, 0], [0, 0, 0], [0, 0, 0], ...     1  \n",
       "\n",
       "[19198 rows x 11 columns]"
      ]
     },
     "execution_count": 19,
     "metadata": {},
     "output_type": "execute_result"
    }
   ],
   "source": [
    "df"
   ]
  },
  {
   "cell_type": "code",
   "execution_count": 20,
   "metadata": {
    "collapsed": false,
    "is_executing": true
   },
   "outputs": [
    {
     "name": "stdout",
     "output_type": "stream",
     "text": [
      "(19198, 50, 50, 3)\n",
      "(19198, 1)\n"
     ]
    }
   ],
   "source": [
    "# 이미지 데이터를 numpy 형식으로 변환\n",
    "X_aug = df['image_pixel'].to_numpy()\n",
    "X_aug = np.stack(X_aug, axis=0)\n",
    "Y_aug = np.array(df.iloc[:, -1:])\n",
    "print(X_aug.shape)\n",
    "print(Y_aug.shape)"
   ]
  },
  {
   "cell_type": "markdown",
   "metadata": {
    "collapsed": false
   },
   "source": [
    "## model"
   ]
  },
  {
   "cell_type": "code",
   "execution_count": 21,
   "metadata": {
    "collapsed": false,
    "is_executing": true
   },
   "outputs": [
    {
     "name": "stdout",
     "output_type": "stream",
     "text": [
      "WARNING:tensorflow:From C:\\Users\\asiae\\AppData\\Roaming\\Python\\Python311\\site-packages\\keras\\src\\losses.py:2976: The name tf.losses.sparse_softmax_cross_entropy is deprecated. Please use tf.compat.v1.losses.sparse_softmax_cross_entropy instead.\n",
      "\n"
     ]
    }
   ],
   "source": [
    "import tensorflow as tf\n",
    "from tensorflow.keras.preprocessing import image\n",
    "from tensorflow.keras.preprocessing.image import ImageDataGenerator\n",
    "from tensorflow.keras.models import Sequential\n",
    "from tensorflow.keras.layers import Conv2D, Flatten, Dense, MaxPool2D\n",
    "from tensorflow.keras.callbacks import ReduceLROnPlateau, EarlyStopping\n",
    "\n",
    "from sklearn.model_selection import train_test_split\n",
    "from sklearn.metrics import classification_report, confusion_matrix"
   ]
  },
  {
   "cell_type": "code",
   "execution_count": 22,
   "metadata": {
    "collapsed": false,
    "is_executing": true
   },
   "outputs": [],
   "source": [
    "X_train, X_test, Y_train, Y_test = train_test_split(X_aug, Y_aug, test_size=0.2, random_state=3)"
   ]
  },
  {
   "cell_type": "code",
   "execution_count": 23,
   "metadata": {
    "collapsed": false,
    "is_executing": true
   },
   "outputs": [
    {
     "data": {
      "text/plain": [
       "(15358, 50, 50, 3)"
      ]
     },
     "execution_count": 23,
     "metadata": {},
     "output_type": "execute_result"
    }
   ],
   "source": [
    "X_train.shape"
   ]
  },
  {
   "cell_type": "code",
   "execution_count": 24,
   "metadata": {
    "collapsed": false,
    "is_executing": true
   },
   "outputs": [],
   "source": [
    "test_datagen = ImageDataGenerator(rescale = 1./255)\n",
    "test_datagen.fit(X_test)"
   ]
  },
  {
   "cell_type": "code",
   "execution_count": 25,
   "metadata": {
    "collapsed": false,
    "is_executing": true
   },
   "outputs": [],
   "source": [
    "def create_model():\n",
    "    model = Sequential()\n",
    "    model.add(Conv2D(16, kernel_size=(3, 3), input_shape=[50, 50, 3], activation='relu', padding='same'))\n",
    "    model.add(MaxPool2D(pool_size=(2, 2)))\n",
    "\n",
    "    model.add(Conv2D(32, kernel_size=(3, 3), activation='relu', padding='same'))\n",
    "    model.add(MaxPool2D(pool_size=(2, 2), padding='same'))\n",
    "\n",
    "    model.add(Conv2D(64, kernel_size=(3, 3), activation='relu', padding='same'))\n",
    "    model.add(MaxPool2D(pool_size=(2, 2), padding='same'))\n",
    "\n",
    "    model.add(Conv2D(128, kernel_size=(3, 3), activation='relu', padding='same'))\n",
    "    model.add(MaxPool2D(pool_size=(2, 2), padding='same'))\n",
    "\n",
    "    model.add(Flatten())\n",
    "    model.add(Dense(32, activation='relu'))\n",
    "    model.add(Dense(7, activation='sigmoid'))\n",
    "\n",
    "    optimizer = tf.keras.optimizers.Adam(learning_rate=0.001)\n",
    "\n",
    "    model.compile(loss='sparse_categorical_crossentropy',\n",
    "                  optimizer='Adam',\n",
    "                  metrics=['accuracy'])\n",
    "    print(model.summary())\n",
    "    return model"
   ]
  },
  {
   "cell_type": "code",
   "execution_count": 26,
   "metadata": {
    "collapsed": false,
    "is_executing": true
   },
   "outputs": [],
   "source": [
    "def train_model(model, X_train, Y_train, EPOCHS):\n",
    "    early_stop = EarlyStopping(monitor='val_loss', patience=10, verbose=1, mode='auto')\n",
    "    reduce_lr = ReduceLROnPlateau(monitor='val_loss', factor=0.1, patience=3, verbose=1, mode='auto')\n",
    "    print(\"Training model...\")\n",
    "    history = model.fit(X_train, Y_train, validation_split=0.2, batch_size=64, epochs=50,\n",
    "                        callbacks=[reduce_lr, early_stop])\n",
    "    return history"
   ]
  },
  {
   "cell_type": "code",
   "execution_count": 27,
   "metadata": {
    "collapsed": false,
    "is_executing": true
   },
   "outputs": [],
   "source": [
    "def plot_model_training_curve(history):\n",
    "    fig = make_subplots(rows=1, cols=2, subplot_titles=['Model Accuracy', 'Model Loss'])\n",
    "    fig.add_trace(\n",
    "        go.Scatter(\n",
    "            y=history.history['accuracy'], name='train_acc'), row=1, col=1)\n",
    "    fig.add_trace(\n",
    "        go.Scatter(\n",
    "            y=history.history['val_accuracy'], name='val_acc'), row=1, col=1)\n",
    "    fig.add_trace(\n",
    "        go.Scatter(\n",
    "            y=history.history['loss'], name='train_loss'), row=1, col=2)\n",
    "    fig.add_trace(\n",
    "        go.Scatter(\n",
    "            y=history.history['val_loss'], name='val_loss'), row=1, col=2)\n",
    "    fig.show()"
   ]
  },
  {
   "cell_type": "code",
   "execution_count": 28,
   "metadata": {
    "collapsed": false,
    "is_executing": true
   },
   "outputs": [
    {
     "name": "stdout",
     "output_type": "stream",
     "text": [
      "WARNING:tensorflow:From C:\\Users\\asiae\\AppData\\Roaming\\Python\\Python311\\site-packages\\keras\\src\\backend.py:873: The name tf.get_default_graph is deprecated. Please use tf.compat.v1.get_default_graph instead.\n",
      "\n",
      "WARNING:tensorflow:From C:\\Users\\asiae\\AppData\\Roaming\\Python\\Python311\\site-packages\\keras\\src\\layers\\pooling\\max_pooling2d.py:161: The name tf.nn.max_pool is deprecated. Please use tf.nn.max_pool2d instead.\n",
      "\n",
      "WARNING:tensorflow:From C:\\Users\\asiae\\AppData\\Roaming\\Python\\Python311\\site-packages\\keras\\src\\optimizers\\__init__.py:309: The name tf.train.Optimizer is deprecated. Please use tf.compat.v1.train.Optimizer instead.\n",
      "\n",
      "Model: \"sequential\"\n",
      "_________________________________________________________________\n",
      " Layer (type)                Output Shape              Param #   \n",
      "=================================================================\n",
      " conv2d (Conv2D)             (None, 50, 50, 16)        448       \n",
      "                                                                 \n",
      " max_pooling2d (MaxPooling2  (None, 25, 25, 16)        0         \n",
      " D)                                                              \n",
      "                                                                 \n",
      " conv2d_1 (Conv2D)           (None, 25, 25, 32)        4640      \n",
      "                                                                 \n",
      " max_pooling2d_1 (MaxPoolin  (None, 13, 13, 32)        0         \n",
      " g2D)                                                            \n",
      "                                                                 \n",
      " conv2d_2 (Conv2D)           (None, 13, 13, 64)        18496     \n",
      "                                                                 \n",
      " max_pooling2d_2 (MaxPoolin  (None, 7, 7, 64)          0         \n",
      " g2D)                                                            \n",
      "                                                                 \n",
      " conv2d_3 (Conv2D)           (None, 7, 7, 128)         73856     \n",
      "                                                                 \n",
      " max_pooling2d_3 (MaxPoolin  (None, 4, 4, 128)         0         \n",
      " g2D)                                                            \n",
      "                                                                 \n",
      " flatten (Flatten)           (None, 2048)              0         \n",
      "                                                                 \n",
      " dense (Dense)               (None, 32)                65568     \n",
      "                                                                 \n",
      " dense_1 (Dense)             (None, 7)                 231       \n",
      "                                                                 \n",
      "=================================================================\n",
      "Total params: 163239 (637.65 KB)\n",
      "Trainable params: 163239 (637.65 KB)\n",
      "Non-trainable params: 0 (0.00 Byte)\n",
      "_________________________________________________________________\n",
      "None\n",
      "Training model...\n",
      "Epoch 1/50\n",
      "WARNING:tensorflow:From C:\\Users\\asiae\\AppData\\Roaming\\Python\\Python311\\site-packages\\keras\\src\\utils\\tf_utils.py:492: The name tf.ragged.RaggedTensorValue is deprecated. Please use tf.compat.v1.ragged.RaggedTensorValue instead.\n",
      "\n",
      "WARNING:tensorflow:From C:\\Users\\asiae\\AppData\\Roaming\\Python\\Python311\\site-packages\\keras\\src\\engine\\base_layer_utils.py:384: The name tf.executing_eagerly_outside_functions is deprecated. Please use tf.compat.v1.executing_eagerly_outside_functions instead.\n",
      "\n",
      "192/192 [==============================] - 4s 16ms/step - loss: 0.4114 - accuracy: 0.9354 - val_loss: 0.0821 - val_accuracy: 0.9723 - lr: 0.0010\n",
      "Epoch 2/50\n",
      "192/192 [==============================] - 3s 15ms/step - loss: 0.0633 - accuracy: 0.9801 - val_loss: 0.1395 - val_accuracy: 0.9583 - lr: 0.0010\n",
      "Epoch 3/50\n",
      "192/192 [==============================] - 3s 15ms/step - loss: 0.0439 - accuracy: 0.9855 - val_loss: 0.0568 - val_accuracy: 0.9837 - lr: 0.0010\n",
      "Epoch 4/50\n",
      "192/192 [==============================] - 3s 15ms/step - loss: 0.0298 - accuracy: 0.9909 - val_loss: 0.0537 - val_accuracy: 0.9821 - lr: 0.0010\n",
      "Epoch 5/50\n",
      "192/192 [==============================] - 3s 15ms/step - loss: 0.0199 - accuracy: 0.9933 - val_loss: 0.0856 - val_accuracy: 0.9785 - lr: 0.0010\n",
      "Epoch 6/50\n",
      "192/192 [==============================] - 3s 15ms/step - loss: 0.0185 - accuracy: 0.9929 - val_loss: 0.0793 - val_accuracy: 0.9808 - lr: 0.0010\n",
      "Epoch 7/50\n",
      "191/192 [============================>.] - ETA: 0s - loss: 0.0141 - accuracy: 0.9944\n",
      "Epoch 7: ReduceLROnPlateau reducing learning rate to 0.00010000000474974513.\n",
      "192/192 [==============================] - 3s 15ms/step - loss: 0.0140 - accuracy: 0.9945 - val_loss: 0.0703 - val_accuracy: 0.9834 - lr: 0.0010\n",
      "Epoch 8/50\n",
      "192/192 [==============================] - 3s 15ms/step - loss: 0.0053 - accuracy: 0.9984 - val_loss: 0.0556 - val_accuracy: 0.9847 - lr: 1.0000e-04\n",
      "Epoch 9/50\n",
      "192/192 [==============================] - 3s 16ms/step - loss: 0.0027 - accuracy: 0.9998 - val_loss: 0.0567 - val_accuracy: 0.9863 - lr: 1.0000e-04\n",
      "Epoch 10/50\n",
      "191/192 [============================>.] - ETA: 0s - loss: 0.0018 - accuracy: 1.0000\n",
      "Epoch 10: ReduceLROnPlateau reducing learning rate to 1.0000000474974514e-05.\n",
      "192/192 [==============================] - 3s 15ms/step - loss: 0.0018 - accuracy: 1.0000 - val_loss: 0.0576 - val_accuracy: 0.9867 - lr: 1.0000e-04\n",
      "Epoch 11/50\n",
      "192/192 [==============================] - 3s 15ms/step - loss: 0.0014 - accuracy: 1.0000 - val_loss: 0.0584 - val_accuracy: 0.9876 - lr: 1.0000e-05\n",
      "Epoch 12/50\n",
      "192/192 [==============================] - 3s 15ms/step - loss: 0.0013 - accuracy: 1.0000 - val_loss: 0.0585 - val_accuracy: 0.9876 - lr: 1.0000e-05\n",
      "Epoch 13/50\n",
      "189/192 [============================>.] - ETA: 0s - loss: 0.0013 - accuracy: 1.0000\n",
      "Epoch 13: ReduceLROnPlateau reducing learning rate to 1.0000000656873453e-06.\n",
      "192/192 [==============================] - 3s 15ms/step - loss: 0.0013 - accuracy: 1.0000 - val_loss: 0.0591 - val_accuracy: 0.9880 - lr: 1.0000e-05\n",
      "Epoch 14/50\n",
      "192/192 [==============================] - 3s 15ms/step - loss: 0.0012 - accuracy: 1.0000 - val_loss: 0.0591 - val_accuracy: 0.9880 - lr: 1.0000e-06\n",
      "Epoch 14: early stopping\n"
     ]
    },
    {
     "data": {
      "application/vnd.plotly.v1+json": {
       "config": {
        "plotlyServerURL": "https://plot.ly"
       },
       "data": [
        {
         "name": "train_acc",
         "type": "scatter",
         "xaxis": "x",
         "y": [
          0.9353736042976379,
          0.9800586104393005,
          0.9855119585990906,
          0.9908839464187622,
          0.9933257102966309,
          0.9929187893867493,
          0.9944652318954468,
          0.9983721375465393,
          0.9997557997703552,
          1,
          1,
          1,
          1,
          1
         ],
         "yaxis": "y"
        },
        {
         "name": "val_acc",
         "type": "scatter",
         "xaxis": "x",
         "y": [
          0.9723307490348816,
          0.9583333134651184,
          0.9837239384651184,
          0.9820963740348816,
          0.978515625,
          0.9807942509651184,
          0.9833984375,
          0.9847005009651184,
          0.986328125,
          0.9866536259651184,
          0.9876301884651184,
          0.9876301884651184,
          0.9879557490348816,
          0.9879557490348816
         ],
         "yaxis": "y"
        },
        {
         "name": "train_loss",
         "type": "scatter",
         "xaxis": "x2",
         "y": [
          0.4113682508468628,
          0.0633164644241333,
          0.04386712983250618,
          0.02977997064590454,
          0.019924849271774292,
          0.018471049144864082,
          0.014044870622456074,
          0.005341804586350918,
          0.0026603913865983486,
          0.001767626847140491,
          0.0013716364046558738,
          0.0013255757512524724,
          0.0012864283053204417,
          0.0012498315190896392
         ],
         "yaxis": "y2"
        },
        {
         "name": "val_loss",
         "type": "scatter",
         "xaxis": "x2",
         "y": [
          0.08209194242954254,
          0.13949698209762573,
          0.0568486750125885,
          0.05372042953968048,
          0.0855724886059761,
          0.07932236045598984,
          0.07031939178705215,
          0.05563035234808922,
          0.05665099620819092,
          0.057591259479522705,
          0.05840867757797241,
          0.05854688212275505,
          0.05907554551959038,
          0.059081654995679855
         ],
         "yaxis": "y2"
        }
       ],
       "layout": {
        "annotations": [
         {
          "font": {
           "size": 16
          },
          "showarrow": false,
          "text": "Model Accuracy",
          "x": 0.225,
          "xanchor": "center",
          "xref": "paper",
          "y": 1,
          "yanchor": "bottom",
          "yref": "paper"
         },
         {
          "font": {
           "size": 16
          },
          "showarrow": false,
          "text": "Model Loss",
          "x": 0.775,
          "xanchor": "center",
          "xref": "paper",
          "y": 1,
          "yanchor": "bottom",
          "yref": "paper"
         }
        ],
        "template": {
         "data": {
          "bar": [
           {
            "error_x": {
             "color": "#2a3f5f"
            },
            "error_y": {
             "color": "#2a3f5f"
            },
            "marker": {
             "line": {
              "color": "#E5ECF6",
              "width": 0.5
             },
             "pattern": {
              "fillmode": "overlay",
              "size": 10,
              "solidity": 0.2
             }
            },
            "type": "bar"
           }
          ],
          "barpolar": [
           {
            "marker": {
             "line": {
              "color": "#E5ECF6",
              "width": 0.5
             },
             "pattern": {
              "fillmode": "overlay",
              "size": 10,
              "solidity": 0.2
             }
            },
            "type": "barpolar"
           }
          ],
          "carpet": [
           {
            "aaxis": {
             "endlinecolor": "#2a3f5f",
             "gridcolor": "white",
             "linecolor": "white",
             "minorgridcolor": "white",
             "startlinecolor": "#2a3f5f"
            },
            "baxis": {
             "endlinecolor": "#2a3f5f",
             "gridcolor": "white",
             "linecolor": "white",
             "minorgridcolor": "white",
             "startlinecolor": "#2a3f5f"
            },
            "type": "carpet"
           }
          ],
          "choropleth": [
           {
            "colorbar": {
             "outlinewidth": 0,
             "ticks": ""
            },
            "type": "choropleth"
           }
          ],
          "contour": [
           {
            "colorbar": {
             "outlinewidth": 0,
             "ticks": ""
            },
            "colorscale": [
             [
              0,
              "#0d0887"
             ],
             [
              0.1111111111111111,
              "#46039f"
             ],
             [
              0.2222222222222222,
              "#7201a8"
             ],
             [
              0.3333333333333333,
              "#9c179e"
             ],
             [
              0.4444444444444444,
              "#bd3786"
             ],
             [
              0.5555555555555556,
              "#d8576b"
             ],
             [
              0.6666666666666666,
              "#ed7953"
             ],
             [
              0.7777777777777778,
              "#fb9f3a"
             ],
             [
              0.8888888888888888,
              "#fdca26"
             ],
             [
              1,
              "#f0f921"
             ]
            ],
            "type": "contour"
           }
          ],
          "contourcarpet": [
           {
            "colorbar": {
             "outlinewidth": 0,
             "ticks": ""
            },
            "type": "contourcarpet"
           }
          ],
          "heatmap": [
           {
            "colorbar": {
             "outlinewidth": 0,
             "ticks": ""
            },
            "colorscale": [
             [
              0,
              "#0d0887"
             ],
             [
              0.1111111111111111,
              "#46039f"
             ],
             [
              0.2222222222222222,
              "#7201a8"
             ],
             [
              0.3333333333333333,
              "#9c179e"
             ],
             [
              0.4444444444444444,
              "#bd3786"
             ],
             [
              0.5555555555555556,
              "#d8576b"
             ],
             [
              0.6666666666666666,
              "#ed7953"
             ],
             [
              0.7777777777777778,
              "#fb9f3a"
             ],
             [
              0.8888888888888888,
              "#fdca26"
             ],
             [
              1,
              "#f0f921"
             ]
            ],
            "type": "heatmap"
           }
          ],
          "heatmapgl": [
           {
            "colorbar": {
             "outlinewidth": 0,
             "ticks": ""
            },
            "colorscale": [
             [
              0,
              "#0d0887"
             ],
             [
              0.1111111111111111,
              "#46039f"
             ],
             [
              0.2222222222222222,
              "#7201a8"
             ],
             [
              0.3333333333333333,
              "#9c179e"
             ],
             [
              0.4444444444444444,
              "#bd3786"
             ],
             [
              0.5555555555555556,
              "#d8576b"
             ],
             [
              0.6666666666666666,
              "#ed7953"
             ],
             [
              0.7777777777777778,
              "#fb9f3a"
             ],
             [
              0.8888888888888888,
              "#fdca26"
             ],
             [
              1,
              "#f0f921"
             ]
            ],
            "type": "heatmapgl"
           }
          ],
          "histogram": [
           {
            "marker": {
             "pattern": {
              "fillmode": "overlay",
              "size": 10,
              "solidity": 0.2
             }
            },
            "type": "histogram"
           }
          ],
          "histogram2d": [
           {
            "colorbar": {
             "outlinewidth": 0,
             "ticks": ""
            },
            "colorscale": [
             [
              0,
              "#0d0887"
             ],
             [
              0.1111111111111111,
              "#46039f"
             ],
             [
              0.2222222222222222,
              "#7201a8"
             ],
             [
              0.3333333333333333,
              "#9c179e"
             ],
             [
              0.4444444444444444,
              "#bd3786"
             ],
             [
              0.5555555555555556,
              "#d8576b"
             ],
             [
              0.6666666666666666,
              "#ed7953"
             ],
             [
              0.7777777777777778,
              "#fb9f3a"
             ],
             [
              0.8888888888888888,
              "#fdca26"
             ],
             [
              1,
              "#f0f921"
             ]
            ],
            "type": "histogram2d"
           }
          ],
          "histogram2dcontour": [
           {
            "colorbar": {
             "outlinewidth": 0,
             "ticks": ""
            },
            "colorscale": [
             [
              0,
              "#0d0887"
             ],
             [
              0.1111111111111111,
              "#46039f"
             ],
             [
              0.2222222222222222,
              "#7201a8"
             ],
             [
              0.3333333333333333,
              "#9c179e"
             ],
             [
              0.4444444444444444,
              "#bd3786"
             ],
             [
              0.5555555555555556,
              "#d8576b"
             ],
             [
              0.6666666666666666,
              "#ed7953"
             ],
             [
              0.7777777777777778,
              "#fb9f3a"
             ],
             [
              0.8888888888888888,
              "#fdca26"
             ],
             [
              1,
              "#f0f921"
             ]
            ],
            "type": "histogram2dcontour"
           }
          ],
          "mesh3d": [
           {
            "colorbar": {
             "outlinewidth": 0,
             "ticks": ""
            },
            "type": "mesh3d"
           }
          ],
          "parcoords": [
           {
            "line": {
             "colorbar": {
              "outlinewidth": 0,
              "ticks": ""
             }
            },
            "type": "parcoords"
           }
          ],
          "pie": [
           {
            "automargin": true,
            "type": "pie"
           }
          ],
          "scatter": [
           {
            "fillpattern": {
             "fillmode": "overlay",
             "size": 10,
             "solidity": 0.2
            },
            "type": "scatter"
           }
          ],
          "scatter3d": [
           {
            "line": {
             "colorbar": {
              "outlinewidth": 0,
              "ticks": ""
             }
            },
            "marker": {
             "colorbar": {
              "outlinewidth": 0,
              "ticks": ""
             }
            },
            "type": "scatter3d"
           }
          ],
          "scattercarpet": [
           {
            "marker": {
             "colorbar": {
              "outlinewidth": 0,
              "ticks": ""
             }
            },
            "type": "scattercarpet"
           }
          ],
          "scattergeo": [
           {
            "marker": {
             "colorbar": {
              "outlinewidth": 0,
              "ticks": ""
             }
            },
            "type": "scattergeo"
           }
          ],
          "scattergl": [
           {
            "marker": {
             "colorbar": {
              "outlinewidth": 0,
              "ticks": ""
             }
            },
            "type": "scattergl"
           }
          ],
          "scattermapbox": [
           {
            "marker": {
             "colorbar": {
              "outlinewidth": 0,
              "ticks": ""
             }
            },
            "type": "scattermapbox"
           }
          ],
          "scatterpolar": [
           {
            "marker": {
             "colorbar": {
              "outlinewidth": 0,
              "ticks": ""
             }
            },
            "type": "scatterpolar"
           }
          ],
          "scatterpolargl": [
           {
            "marker": {
             "colorbar": {
              "outlinewidth": 0,
              "ticks": ""
             }
            },
            "type": "scatterpolargl"
           }
          ],
          "scatterternary": [
           {
            "marker": {
             "colorbar": {
              "outlinewidth": 0,
              "ticks": ""
             }
            },
            "type": "scatterternary"
           }
          ],
          "surface": [
           {
            "colorbar": {
             "outlinewidth": 0,
             "ticks": ""
            },
            "colorscale": [
             [
              0,
              "#0d0887"
             ],
             [
              0.1111111111111111,
              "#46039f"
             ],
             [
              0.2222222222222222,
              "#7201a8"
             ],
             [
              0.3333333333333333,
              "#9c179e"
             ],
             [
              0.4444444444444444,
              "#bd3786"
             ],
             [
              0.5555555555555556,
              "#d8576b"
             ],
             [
              0.6666666666666666,
              "#ed7953"
             ],
             [
              0.7777777777777778,
              "#fb9f3a"
             ],
             [
              0.8888888888888888,
              "#fdca26"
             ],
             [
              1,
              "#f0f921"
             ]
            ],
            "type": "surface"
           }
          ],
          "table": [
           {
            "cells": {
             "fill": {
              "color": "#EBF0F8"
             },
             "line": {
              "color": "white"
             }
            },
            "header": {
             "fill": {
              "color": "#C8D4E3"
             },
             "line": {
              "color": "white"
             }
            },
            "type": "table"
           }
          ]
         },
         "layout": {
          "annotationdefaults": {
           "arrowcolor": "#2a3f5f",
           "arrowhead": 0,
           "arrowwidth": 1
          },
          "autotypenumbers": "strict",
          "coloraxis": {
           "colorbar": {
            "outlinewidth": 0,
            "ticks": ""
           }
          },
          "colorscale": {
           "diverging": [
            [
             0,
             "#8e0152"
            ],
            [
             0.1,
             "#c51b7d"
            ],
            [
             0.2,
             "#de77ae"
            ],
            [
             0.3,
             "#f1b6da"
            ],
            [
             0.4,
             "#fde0ef"
            ],
            [
             0.5,
             "#f7f7f7"
            ],
            [
             0.6,
             "#e6f5d0"
            ],
            [
             0.7,
             "#b8e186"
            ],
            [
             0.8,
             "#7fbc41"
            ],
            [
             0.9,
             "#4d9221"
            ],
            [
             1,
             "#276419"
            ]
           ],
           "sequential": [
            [
             0,
             "#0d0887"
            ],
            [
             0.1111111111111111,
             "#46039f"
            ],
            [
             0.2222222222222222,
             "#7201a8"
            ],
            [
             0.3333333333333333,
             "#9c179e"
            ],
            [
             0.4444444444444444,
             "#bd3786"
            ],
            [
             0.5555555555555556,
             "#d8576b"
            ],
            [
             0.6666666666666666,
             "#ed7953"
            ],
            [
             0.7777777777777778,
             "#fb9f3a"
            ],
            [
             0.8888888888888888,
             "#fdca26"
            ],
            [
             1,
             "#f0f921"
            ]
           ],
           "sequentialminus": [
            [
             0,
             "#0d0887"
            ],
            [
             0.1111111111111111,
             "#46039f"
            ],
            [
             0.2222222222222222,
             "#7201a8"
            ],
            [
             0.3333333333333333,
             "#9c179e"
            ],
            [
             0.4444444444444444,
             "#bd3786"
            ],
            [
             0.5555555555555556,
             "#d8576b"
            ],
            [
             0.6666666666666666,
             "#ed7953"
            ],
            [
             0.7777777777777778,
             "#fb9f3a"
            ],
            [
             0.8888888888888888,
             "#fdca26"
            ],
            [
             1,
             "#f0f921"
            ]
           ]
          },
          "colorway": [
           "#636efa",
           "#EF553B",
           "#00cc96",
           "#ab63fa",
           "#FFA15A",
           "#19d3f3",
           "#FF6692",
           "#B6E880",
           "#FF97FF",
           "#FECB52"
          ],
          "font": {
           "color": "#2a3f5f"
          },
          "geo": {
           "bgcolor": "white",
           "lakecolor": "white",
           "landcolor": "#E5ECF6",
           "showlakes": true,
           "showland": true,
           "subunitcolor": "white"
          },
          "hoverlabel": {
           "align": "left"
          },
          "hovermode": "closest",
          "mapbox": {
           "style": "light"
          },
          "paper_bgcolor": "white",
          "plot_bgcolor": "#E5ECF6",
          "polar": {
           "angularaxis": {
            "gridcolor": "white",
            "linecolor": "white",
            "ticks": ""
           },
           "bgcolor": "#E5ECF6",
           "radialaxis": {
            "gridcolor": "white",
            "linecolor": "white",
            "ticks": ""
           }
          },
          "scene": {
           "xaxis": {
            "backgroundcolor": "#E5ECF6",
            "gridcolor": "white",
            "gridwidth": 2,
            "linecolor": "white",
            "showbackground": true,
            "ticks": "",
            "zerolinecolor": "white"
           },
           "yaxis": {
            "backgroundcolor": "#E5ECF6",
            "gridcolor": "white",
            "gridwidth": 2,
            "linecolor": "white",
            "showbackground": true,
            "ticks": "",
            "zerolinecolor": "white"
           },
           "zaxis": {
            "backgroundcolor": "#E5ECF6",
            "gridcolor": "white",
            "gridwidth": 2,
            "linecolor": "white",
            "showbackground": true,
            "ticks": "",
            "zerolinecolor": "white"
           }
          },
          "shapedefaults": {
           "line": {
            "color": "#2a3f5f"
           }
          },
          "ternary": {
           "aaxis": {
            "gridcolor": "white",
            "linecolor": "white",
            "ticks": ""
           },
           "baxis": {
            "gridcolor": "white",
            "linecolor": "white",
            "ticks": ""
           },
           "bgcolor": "#E5ECF6",
           "caxis": {
            "gridcolor": "white",
            "linecolor": "white",
            "ticks": ""
           }
          },
          "title": {
           "x": 0.05
          },
          "xaxis": {
           "automargin": true,
           "gridcolor": "white",
           "linecolor": "white",
           "ticks": "",
           "title": {
            "standoff": 15
           },
           "zerolinecolor": "white",
           "zerolinewidth": 2
          },
          "yaxis": {
           "automargin": true,
           "gridcolor": "white",
           "linecolor": "white",
           "ticks": "",
           "title": {
            "standoff": 15
           },
           "zerolinecolor": "white",
           "zerolinewidth": 2
          }
         }
        },
        "xaxis": {
         "anchor": "y",
         "domain": [
          0,
          0.45
         ]
        },
        "xaxis2": {
         "anchor": "y2",
         "domain": [
          0.55,
          1
         ]
        },
        "yaxis": {
         "anchor": "x",
         "domain": [
          0,
          1
         ]
        },
        "yaxis2": {
         "anchor": "x2",
         "domain": [
          0,
          1
         ]
        }
       }
      }
     },
     "metadata": {},
     "output_type": "display_data"
    }
   ],
   "source": [
    "model = create_model()\n",
    "history = train_model(model, X_train, Y_train, EPOCHS=50)\n",
    "plot_model_training_curve(history)"
   ]
  },
  {
   "cell_type": "code",
   "execution_count": 35,
   "metadata": {
    "collapsed": false,
    "is_executing": true
   },
   "outputs": [
    {
     "name": "stdout",
     "output_type": "stream",
     "text": [
      "Score: loss of 0.04382617771625519; accuracy of 98.80208373069763%\n"
     ]
    },
    {
     "name": "stderr",
     "output_type": "stream",
     "text": [
      "C:\\Users\\asiae\\AppData\\Roaming\\Python\\Python311\\site-packages\\keras\\src\\engine\\training.py:3103: UserWarning:\n",
      "\n",
      "You are saving your model as an HDF5 file via `model.save()`. This file format is considered legacy. We recommend using instead the native Keras format, e.g. `model.save('my_model.keras')`.\n",
      "\n"
     ]
    }
   ],
   "source": [
    "# 전체 데이터에 대한 성능 평가 및 저장\n",
    "scores = model.evaluate(X_test, Y_test, verbose=0)\n",
    "print(f'Score: {model.metrics_names[0]} of {scores[0]}; {model.metrics_names[1]} of {scores[1]*100}%')\n",
    "model_file = 'conjunctivitis.h5'\n",
    "model.save(model_file)"
   ]
  },
  {
   "cell_type": "markdown",
   "metadata": {},
   "source": [
    "## validation 데이터로 검증"
   ]
  },
  {
   "cell_type": "markdown",
   "metadata": {},
   "source": [
    "### validation 데이터 전처리"
   ]
  },
  {
   "cell_type": "code",
   "execution_count": 30,
   "metadata": {},
   "outputs": [],
   "source": [
    "# 데이터프레임 생성\n",
    "val_df = pd.DataFrame(columns=[\"breed\", \"age\", \"gender\", \"eye_position\", \"lesions\", \"label_disease_lv_1\", \"label_disease_lv_2\", \"label_disease_lv_3\", \"path\", \"img_path\"])\n",
    "\n",
    "# 디렉토리 경로\n",
    "val_directory_paths = [r\"D:\\반려동물 안구질환 데이터\\2.Validation\\결막염\\유무\"]\n",
    "\n",
    "# 빈 리스트 생성\n",
    "val_data_list = []\n",
    "\n",
    "# 디렉토리 내 JSON 파일 읽기\n",
    "for directory_path in val_directory_paths:\n",
    "    for filename in os.listdir(directory_path):\n",
    "        if filename.endswith('.json'):\n",
    "            with open(os.path.join(directory_path, filename), 'r', encoding='utf-8') as file:\n",
    "                json_data = json.load(file)\n",
    "\n",
    "                # 데이터프레임 생성을 위한 정보 추출\n",
    "                breed = json_data[\"images\"][\"meta\"][\"breed\"]\n",
    "                age = json_data[\"images\"][\"meta\"][\"age\"]\n",
    "                gender = json_data[\"images\"][\"meta\"][\"gender\"]\n",
    "                eye_position = json_data[\"images\"][\"meta\"][\"eye_position\"]\n",
    "                lesions = json_data[\"label\"][\"label_disease_nm\"]\n",
    "                label_disease_lv_1 = json_data[\"label\"][\"label_disease_lv_1\"]\n",
    "                label_disease_lv_2 = json_data[\"label\"][\"label_disease_lv_2\"]\n",
    "                label_disease_lv_3 = json_data[\"label\"][\"label_disease_lv_3\"]\n",
    "                img_path = os.path.join(directory_path, json_data[\"label\"][\"label_filename\"])\n",
    "\n",
    "                # 데이터 리스트에 추가\n",
    "                val_data_list.append([breed, age, gender, eye_position, lesions, label_disease_lv_1, label_disease_lv_2, label_disease_lv_3, img_path])"
   ]
  },
  {
   "cell_type": "code",
   "execution_count": 31,
   "metadata": {},
   "outputs": [
    {
     "data": {
      "text/html": [
       "<div>\n",
       "<style scoped>\n",
       "    .dataframe tbody tr th:only-of-type {\n",
       "        vertical-align: middle;\n",
       "    }\n",
       "\n",
       "    .dataframe tbody tr th {\n",
       "        vertical-align: top;\n",
       "    }\n",
       "\n",
       "    .dataframe thead th {\n",
       "        text-align: right;\n",
       "    }\n",
       "</style>\n",
       "<table border=\"1\" class=\"dataframe\">\n",
       "  <thead>\n",
       "    <tr style=\"text-align: right;\">\n",
       "      <th></th>\n",
       "      <th>breed</th>\n",
       "      <th>age</th>\n",
       "      <th>gender</th>\n",
       "      <th>eye_position</th>\n",
       "      <th>lesions</th>\n",
       "      <th>label_disease_lv_1</th>\n",
       "      <th>label_disease_lv_2</th>\n",
       "      <th>label_disease_lv_3</th>\n",
       "      <th>img_path</th>\n",
       "    </tr>\n",
       "  </thead>\n",
       "  <tbody>\n",
       "    <tr>\n",
       "      <th>0</th>\n",
       "      <td>푸들</td>\n",
       "      <td>1.0</td>\n",
       "      <td>0.0</td>\n",
       "      <td>왼쪽눈</td>\n",
       "      <td>결막염</td>\n",
       "      <td>유</td>\n",
       "      <td>유</td>\n",
       "      <td>유</td>\n",
       "      <td>D:\\반려동물 안구질환 데이터\\2.Validation\\결막염\\유무\\crop_D0_0...</td>\n",
       "    </tr>\n",
       "    <tr>\n",
       "      <th>1</th>\n",
       "      <td>토이 푸들</td>\n",
       "      <td>6.0</td>\n",
       "      <td>1.0</td>\n",
       "      <td>오른쪽눈</td>\n",
       "      <td>결막염</td>\n",
       "      <td>무</td>\n",
       "      <td>무</td>\n",
       "      <td>무</td>\n",
       "      <td>D:\\반려동물 안구질환 데이터\\2.Validation\\결막염\\유무\\crop_D0_0...</td>\n",
       "    </tr>\n",
       "    <tr>\n",
       "      <th>2</th>\n",
       "      <td>포메라니안</td>\n",
       "      <td>8.0</td>\n",
       "      <td>1.0</td>\n",
       "      <td>오른쪽눈</td>\n",
       "      <td>결막염</td>\n",
       "      <td>무</td>\n",
       "      <td>무</td>\n",
       "      <td>무</td>\n",
       "      <td>D:\\반려동물 안구질환 데이터\\2.Validation\\결막염\\유무\\crop_D0_0...</td>\n",
       "    </tr>\n",
       "    <tr>\n",
       "      <th>3</th>\n",
       "      <td>닥스훈트</td>\n",
       "      <td>3.0</td>\n",
       "      <td>1.0</td>\n",
       "      <td>오른쪽눈</td>\n",
       "      <td>결막염</td>\n",
       "      <td>무</td>\n",
       "      <td>무</td>\n",
       "      <td>무</td>\n",
       "      <td>D:\\반려동물 안구질환 데이터\\2.Validation\\결막염\\유무\\crop_D0_0...</td>\n",
       "    </tr>\n",
       "    <tr>\n",
       "      <th>4</th>\n",
       "      <td>말티즈</td>\n",
       "      <td>0.0</td>\n",
       "      <td>1.0</td>\n",
       "      <td>오른쪽눈</td>\n",
       "      <td>결막염</td>\n",
       "      <td>무</td>\n",
       "      <td>무</td>\n",
       "      <td>무</td>\n",
       "      <td>D:\\반려동물 안구질환 데이터\\2.Validation\\결막염\\유무\\crop_D0_0...</td>\n",
       "    </tr>\n",
       "    <tr>\n",
       "      <th>...</th>\n",
       "      <td>...</td>\n",
       "      <td>...</td>\n",
       "      <td>...</td>\n",
       "      <td>...</td>\n",
       "      <td>...</td>\n",
       "      <td>...</td>\n",
       "      <td>...</td>\n",
       "      <td>...</td>\n",
       "      <td>...</td>\n",
       "    </tr>\n",
       "    <tr>\n",
       "      <th>2398</th>\n",
       "      <td>포메라니안</td>\n",
       "      <td>4.0</td>\n",
       "      <td>1.0</td>\n",
       "      <td>왼쪽눈</td>\n",
       "      <td>결막염</td>\n",
       "      <td>무</td>\n",
       "      <td>무</td>\n",
       "      <td>무</td>\n",
       "      <td>D:\\반려동물 안구질환 데이터\\2.Validation\\결막염\\유무\\crop_D9_2...</td>\n",
       "    </tr>\n",
       "    <tr>\n",
       "      <th>2399</th>\n",
       "      <td>재패니즈 스피츠</td>\n",
       "      <td>3.0</td>\n",
       "      <td>0.0</td>\n",
       "      <td>오른쪽눈</td>\n",
       "      <td>결막염</td>\n",
       "      <td>무</td>\n",
       "      <td>무</td>\n",
       "      <td>무</td>\n",
       "      <td>D:\\반려동물 안구질환 데이터\\2.Validation\\결막염\\유무\\crop_D9_2...</td>\n",
       "    </tr>\n",
       "    <tr>\n",
       "      <th>2400</th>\n",
       "      <td>시츄</td>\n",
       "      <td>8.0</td>\n",
       "      <td>1.0</td>\n",
       "      <td>왼쪽눈</td>\n",
       "      <td>결막염</td>\n",
       "      <td>유</td>\n",
       "      <td>유</td>\n",
       "      <td>유</td>\n",
       "      <td>D:\\반려동물 안구질환 데이터\\2.Validation\\결막염\\유무\\crop_D9_3...</td>\n",
       "    </tr>\n",
       "    <tr>\n",
       "      <th>2401</th>\n",
       "      <td>말티즈</td>\n",
       "      <td>9.0</td>\n",
       "      <td>0.0</td>\n",
       "      <td>왼쪽눈</td>\n",
       "      <td>결막염</td>\n",
       "      <td>유</td>\n",
       "      <td>유</td>\n",
       "      <td>유</td>\n",
       "      <td>D:\\반려동물 안구질환 데이터\\2.Validation\\결막염\\유무\\crop_D9_3...</td>\n",
       "    </tr>\n",
       "    <tr>\n",
       "      <th>2402</th>\n",
       "      <td>시츄</td>\n",
       "      <td>7.0</td>\n",
       "      <td>0.0</td>\n",
       "      <td>오른쪽눈</td>\n",
       "      <td>결막염</td>\n",
       "      <td>무</td>\n",
       "      <td>유</td>\n",
       "      <td>유</td>\n",
       "      <td>D:\\반려동물 안구질환 데이터\\2.Validation\\결막염\\유무\\crop_D9_3...</td>\n",
       "    </tr>\n",
       "  </tbody>\n",
       "</table>\n",
       "<p>2403 rows × 9 columns</p>\n",
       "</div>"
      ],
      "text/plain": [
       "         breed  age  gender eye_position lesions label_disease_lv_1  \\\n",
       "0           푸들  1.0     0.0          왼쪽눈     결막염                  유   \n",
       "1        토이 푸들  6.0     1.0         오른쪽눈     결막염                  무   \n",
       "2        포메라니안  8.0     1.0         오른쪽눈     결막염                  무   \n",
       "3         닥스훈트  3.0     1.0         오른쪽눈     결막염                  무   \n",
       "4          말티즈  0.0     1.0         오른쪽눈     결막염                  무   \n",
       "...        ...  ...     ...          ...     ...                ...   \n",
       "2398     포메라니안  4.0     1.0          왼쪽눈     결막염                  무   \n",
       "2399  재패니즈 스피츠  3.0     0.0         오른쪽눈     결막염                  무   \n",
       "2400        시츄  8.0     1.0          왼쪽눈     결막염                  유   \n",
       "2401       말티즈  9.0     0.0          왼쪽눈     결막염                  유   \n",
       "2402        시츄  7.0     0.0         오른쪽눈     결막염                  무   \n",
       "\n",
       "     label_disease_lv_2 label_disease_lv_3  \\\n",
       "0                     유                  유   \n",
       "1                     무                  무   \n",
       "2                     무                  무   \n",
       "3                     무                  무   \n",
       "4                     무                  무   \n",
       "...                 ...                ...   \n",
       "2398                  무                  무   \n",
       "2399                  무                  무   \n",
       "2400                  유                  유   \n",
       "2401                  유                  유   \n",
       "2402                  유                  유   \n",
       "\n",
       "                                               img_path  \n",
       "0     D:\\반려동물 안구질환 데이터\\2.Validation\\결막염\\유무\\crop_D0_0...  \n",
       "1     D:\\반려동물 안구질환 데이터\\2.Validation\\결막염\\유무\\crop_D0_0...  \n",
       "2     D:\\반려동물 안구질환 데이터\\2.Validation\\결막염\\유무\\crop_D0_0...  \n",
       "3     D:\\반려동물 안구질환 데이터\\2.Validation\\결막염\\유무\\crop_D0_0...  \n",
       "4     D:\\반려동물 안구질환 데이터\\2.Validation\\결막염\\유무\\crop_D0_0...  \n",
       "...                                                 ...  \n",
       "2398  D:\\반려동물 안구질환 데이터\\2.Validation\\결막염\\유무\\crop_D9_2...  \n",
       "2399  D:\\반려동물 안구질환 데이터\\2.Validation\\결막염\\유무\\crop_D9_2...  \n",
       "2400  D:\\반려동물 안구질환 데이터\\2.Validation\\결막염\\유무\\crop_D9_3...  \n",
       "2401  D:\\반려동물 안구질환 데이터\\2.Validation\\결막염\\유무\\crop_D9_3...  \n",
       "2402  D:\\반려동물 안구질환 데이터\\2.Validation\\결막염\\유무\\crop_D9_3...  \n",
       "\n",
       "[2403 rows x 9 columns]"
      ]
     },
     "execution_count": 31,
     "metadata": {},
     "output_type": "execute_result"
    }
   ],
   "source": [
    "# 데이터프레임 생성\n",
    "val_df = pd.DataFrame(val_data_list, columns=[\"breed\", \"age\", \"gender\", \"eye_position\", \"lesions\", \"label_disease_lv_1\", \"label_disease_lv_2\", \"label_disease_lv_3\", \"img_path\"])\n",
    "val_df"
   ]
  },
  {
   "cell_type": "code",
   "execution_count": 32,
   "metadata": {},
   "outputs": [
    {
     "name": "stdout",
     "output_type": "stream",
     "text": [
      "0\n"
     ]
    }
   ],
   "source": [
    "# 확장자 없는 애 찾기\n",
    "val_img_path_list = list(val_df['img_path'])\n",
    "\n",
    "no_file=0\n",
    "for idx, img_path in enumerate(val_img_path_list):\n",
    "    if os.path.exists(img_path):\n",
    "        pass\n",
    "        # print(f\"File exists: {img_path}\")\n",
    "    else:\n",
    "        print(idx)\n",
    "        no_file += 1\n",
    "        print(f\"File does not exist: {img_path}\")\n",
    "        \n",
    "print(no_file)"
   ]
  },
  {
   "cell_type": "code",
   "execution_count": 33,
   "metadata": {},
   "outputs": [
    {
     "name": "stdout",
     "output_type": "stream",
     "text": [
      "[1 0]\n",
      "[1 0]\n",
      "[1 0]\n",
      "[1 0]\n"
     ]
    }
   ],
   "source": [
    "# 이미지 데이터 사이즈 변경\n",
    "import numpy as np\n",
    "val_df['image_pixel'] = val_df['img_path'].map(lambda x: np.asarray(Image.open(x).resize((50,50))))\n",
    "\n",
    "# Define a function to map values to 0 or 1\n",
    "def map_to_binary(value):\n",
    "    return 0 if value == '무' else 1\n",
    "\n",
    "# Apply the function to the specified columns\n",
    "columns_to_map = ['label_disease_lv_1', 'label_disease_lv_2', 'label_disease_lv_3']\n",
    "for column in columns_to_map:\n",
    "    val_df[column] = val_df[column].apply(lambda x: map_to_binary(x))\n",
    "\n",
    "# Print unique values to verify the transformation\n",
    "for column in columns_to_map:\n",
    "    print(val_df[column].unique())\n",
    "\n",
    "def check_disease_presence(row):\n",
    "    if row['label_disease_lv_1'] == 0 and row['label_disease_lv_2'] == 0 and row['label_disease_lv_3'] == 0:\n",
    "        return 0\n",
    "    else:\n",
    "        return 1\n",
    "\n",
    "val_df['path'] = val_df.apply(check_disease_presence, axis=1)\n",
    "\n",
    "print(val_df['path'].unique())"
   ]
  },
  {
   "cell_type": "code",
   "execution_count": 34,
   "metadata": {},
   "outputs": [
    {
     "name": "stdout",
     "output_type": "stream",
     "text": [
      "Test Loss: 0.0197311881929636\n",
      "Test Accuracy: 0.9955724477767944\n"
     ]
    }
   ],
   "source": [
    "# 1. 모델 불러오기\n",
    "from keras.models import load_model\n",
    "model = load_model('conjunctivitis.h5')\n",
    "\n",
    "# 2. 모델 컴파일\n",
    "model.compile(optimizer='adam', loss='sparse_categorical_crossentropy', metrics=['accuracy'])\n",
    "\n",
    "\n",
    "# 3. Evaluate the model on the test data\n",
    "loss, accuracy = model.evaluate(X_aug, Y_aug, verbose=0)\n",
    "print(f'Test Loss: {loss}')\n",
    "print(f'Test Accuracy: {accuracy}')"
   ]
  }
 ],
 "metadata": {
  "anaconda-cloud": {},
  "kernelspec": {
   "display_name": "Python 3 (ipykernel)",
   "language": "python",
   "name": "python3"
  },
  "language_info": {
   "codemirror_mode": {
    "name": "ipython",
    "version": 3
   },
   "file_extension": ".py",
   "mimetype": "text/x-python",
   "name": "python",
   "nbconvert_exporter": "python",
   "pygments_lexer": "ipython3",
   "version": "3.11.5"
  },
  "latex_envs": {
   "LaTeX_envs_menu_present": true,
   "autoclose": false,
   "autocomplete": true,
   "bibliofile": "biblio.bib",
   "cite_by": "apalike",
   "current_citInitial": 1,
   "eqLabelWithNumbers": true,
   "eqNumInitial": 1,
   "hotkeys": {
    "equation": "Ctrl-E",
    "itemize": "Ctrl-I"
   },
   "labels_anchors": false,
   "latex_user_defs": false,
   "report_style_numbering": false,
   "user_envs_cfg": false
  },
  "nav_menu": {},
  "toc": {
   "base_numbering": 1,
   "nav_menu": {
    "height": "400px",
    "width": "252px"
   },
   "number_sections": false,
   "sideBar": true,
   "skip_h1_title": false,
   "title_cell": "Table of Contents",
   "title_sidebar": "Contents",
   "toc_cell": false,
   "toc_position": {
    "height": "545px",
    "left": "0px",
    "right": "1154px",
    "top": "111px",
    "width": "212px"
   },
   "toc_section_display": "block",
   "toc_window_display": false
  },
  "toc_position": {
   "height": "503px",
   "left": "0px",
   "right": "952.167px",
   "top": "107px",
   "width": "300px"
  }
 },
 "nbformat": 4,
 "nbformat_minor": 2
}
