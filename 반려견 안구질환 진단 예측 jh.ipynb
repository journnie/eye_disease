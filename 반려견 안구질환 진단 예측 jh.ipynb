{
 "cells": [
  {
   "cell_type": "markdown",
   "metadata": {},
   "source": [
    "# 반려견 안구질환 진단 예측 프로젝트 - 두부는 단단"
   ]
  },
  {
   "cell_type": "code",
   "execution_count": 4,
   "metadata": {
    "ExecuteTime": {
     "end_time": "2024-03-27T08:19:28.461418Z",
     "start_time": "2024-03-27T08:19:28.458558Z"
    }
   },
   "outputs": [],
   "source": [
    "# 라이브러리 임포트\n",
    "import os\n",
    "import glob\n",
    "import json\n",
    "import pandas as pd"
   ]
  },
  {
   "cell_type": "code",
   "outputs": [],
   "source": [
    "import os\n",
    "import glob\n",
    "import pandas as pd\n",
    "\n",
    "# Directory containing JSON files\n",
    "directory_paths = [r\"D:\\153.반려동물 안구질환 데이터\\1.Training\\결막염\\유\",\n",
    "                   r\"D:\\153.반려동물 안구질환 데이터\\1.Training\\결막염\\무\"]\n",
    "\n",
    "# List to store data\n",
    "data_list = []\n",
    "\n",
    "\n",
    "\n",
    "df = pd.DataFrame(data_list, columns=[\"breed\", \"age\", \"gender\", \"eye_position\", \"lesions\", \"Path\", \"disease_lv_1\", \"disease_lv_2\", \"disease_lv_3\", \"img_path\"])\n",
    "\n",
    "\n",
    "\n",
    "# Iterate over JSON files\n",
    "for directory_path in directory_paths:\n",
    "    for file_path in glob.glob(os.path.join(directory_path, \"*.json\")):\n",
    "        with open(file_path, 'r', encoding='utf-8') as file:\n",
    "            json_data = json.load(file)\n",
    "            # Extract required fields\n",
    "            image_meta = json_data.get('images', {}).get('meta', {})\n",
    "            label_info = json_data.get('label', {})\n",
    "            data = {\n",
    "                \"img_path\": os.path.join(directory_path, json_data[\"images\"][\"meta\"][\"file_name\"]),\n",
    "                \"gender\": image_meta.get(\"gender\", \"\"),\n",
    "                \"age\": image_meta.get(\"age\", \"\"),\n",
    "                \"breed\": image_meta.get(\"breed\", \"\"),\n",
    "                \"eye_position\": image_meta.get(\"eye_position\", \"\"),\n",
    "                \"lesions\": label_info.get(\"label_disease_nm\", \"\"),\n",
    "                \"label_disease_lv_1\": label_info.get(\"label_disease_lv_1\", \"\"),\n",
    "                \"label_disease_lv_2\": label_info.get(\"label_disease_lv_2\", \"\"),\n",
    "                \"label_disease_lv_3\": label_info.get(\"label_disease_lv_3\", \"\")\n",
    "            }\n",
    "            data_list.append(data)\n",
    "\n",
    "# Create DataFrame\n",
    "df = pd.DataFrame(data_list)\n"
   ],
   "metadata": {
    "collapsed": false,
    "ExecuteTime": {
     "end_time": "2024-03-28T01:45:40.110490Z",
     "start_time": "2024-03-28T01:44:57.183449Z"
    }
   },
   "execution_count": 37
  },
  {
   "cell_type": "code",
   "outputs": [
    {
     "data": {
      "text/plain": "                                                img_path  gender   age  \\\n0      D:\\153.반려동물 안구질환 데이터\\1.Training\\결막염\\유\\D0_02f99...     0.0  12.0   \n1      D:\\153.반려동물 안구질환 데이터\\1.Training\\결막염\\유\\D0_02fa2...     0.0  13.0   \n2      D:\\153.반려동물 안구질환 데이터\\1.Training\\결막염\\유\\D0_02fa7...     0.0  12.0   \n3      D:\\153.반려동물 안구질환 데이터\\1.Training\\결막염\\유\\D0_02fb4...     1.0  11.0   \n4      D:\\153.반려동물 안구질환 데이터\\1.Training\\결막염\\유\\D0_03075...     0.0  13.0   \n...                                                  ...     ...   ...   \n19193  D:\\153.반려동물 안구질환 데이터\\1.Training\\결막염\\무\\D9_2b6ac...     0.0   0.0   \n19194  D:\\153.반려동물 안구질환 데이터\\1.Training\\결막염\\무\\D9_2b7f9...     0.0   2.0   \n19195  D:\\153.반려동물 안구질환 데이터\\1.Training\\결막염\\무\\D9_2b828...     0.0   1.0   \n19196  D:\\153.반려동물 안구질환 데이터\\1.Training\\결막염\\무\\D9_2be88...     1.0   2.0   \n19197  D:\\153.반려동물 안구질환 데이터\\1.Training\\결막염\\무\\D9_2c073...     1.0  12.0   \n\n           breed eye_position lesions label_disease_lv_1 label_disease_lv_2  \\\n0             시츄          왼쪽눈     결막염                  유                  유   \n1             시츄          왼쪽눈     결막염                  유                  유   \n2             시츄          왼쪽눈     결막염                  유                  유   \n3             시츄          왼쪽눈     결막염                  유                  유   \n4             시츄          왼쪽눈     결막염                  무                  유   \n...          ...          ...     ...                ...                ...   \n19193      포메라니안          왼쪽눈     결막염                  무                  무   \n19194  래브라도 리트리버         오른쪽눈     결막염                  무                  무   \n19195       도베르만         오른쪽눈     결막염                  무                  무   \n19196     비숑 프리제          왼쪽눈     결막염                  무                  무   \n19197   재패니즈 스피츠          왼쪽눈     결막염                  무                  무   \n\n      label_disease_lv_3  \n0                      유  \n1                      유  \n2                      유  \n3                      유  \n4                      유  \n...                  ...  \n19193                  무  \n19194                  무  \n19195                  무  \n19196                  무  \n19197                  무  \n\n[19198 rows x 9 columns]",
      "text/html": "<div>\n<style scoped>\n    .dataframe tbody tr th:only-of-type {\n        vertical-align: middle;\n    }\n\n    .dataframe tbody tr th {\n        vertical-align: top;\n    }\n\n    .dataframe thead th {\n        text-align: right;\n    }\n</style>\n<table border=\"1\" class=\"dataframe\">\n  <thead>\n    <tr style=\"text-align: right;\">\n      <th></th>\n      <th>img_path</th>\n      <th>gender</th>\n      <th>age</th>\n      <th>breed</th>\n      <th>eye_position</th>\n      <th>lesions</th>\n      <th>label_disease_lv_1</th>\n      <th>label_disease_lv_2</th>\n      <th>label_disease_lv_3</th>\n    </tr>\n  </thead>\n  <tbody>\n    <tr>\n      <th>0</th>\n      <td>D:\\153.반려동물 안구질환 데이터\\1.Training\\결막염\\유\\D0_02f99...</td>\n      <td>0.0</td>\n      <td>12.0</td>\n      <td>시츄</td>\n      <td>왼쪽눈</td>\n      <td>결막염</td>\n      <td>유</td>\n      <td>유</td>\n      <td>유</td>\n    </tr>\n    <tr>\n      <th>1</th>\n      <td>D:\\153.반려동물 안구질환 데이터\\1.Training\\결막염\\유\\D0_02fa2...</td>\n      <td>0.0</td>\n      <td>13.0</td>\n      <td>시츄</td>\n      <td>왼쪽눈</td>\n      <td>결막염</td>\n      <td>유</td>\n      <td>유</td>\n      <td>유</td>\n    </tr>\n    <tr>\n      <th>2</th>\n      <td>D:\\153.반려동물 안구질환 데이터\\1.Training\\결막염\\유\\D0_02fa7...</td>\n      <td>0.0</td>\n      <td>12.0</td>\n      <td>시츄</td>\n      <td>왼쪽눈</td>\n      <td>결막염</td>\n      <td>유</td>\n      <td>유</td>\n      <td>유</td>\n    </tr>\n    <tr>\n      <th>3</th>\n      <td>D:\\153.반려동물 안구질환 데이터\\1.Training\\결막염\\유\\D0_02fb4...</td>\n      <td>1.0</td>\n      <td>11.0</td>\n      <td>시츄</td>\n      <td>왼쪽눈</td>\n      <td>결막염</td>\n      <td>유</td>\n      <td>유</td>\n      <td>유</td>\n    </tr>\n    <tr>\n      <th>4</th>\n      <td>D:\\153.반려동물 안구질환 데이터\\1.Training\\결막염\\유\\D0_03075...</td>\n      <td>0.0</td>\n      <td>13.0</td>\n      <td>시츄</td>\n      <td>왼쪽눈</td>\n      <td>결막염</td>\n      <td>무</td>\n      <td>유</td>\n      <td>유</td>\n    </tr>\n    <tr>\n      <th>...</th>\n      <td>...</td>\n      <td>...</td>\n      <td>...</td>\n      <td>...</td>\n      <td>...</td>\n      <td>...</td>\n      <td>...</td>\n      <td>...</td>\n      <td>...</td>\n    </tr>\n    <tr>\n      <th>19193</th>\n      <td>D:\\153.반려동물 안구질환 데이터\\1.Training\\결막염\\무\\D9_2b6ac...</td>\n      <td>0.0</td>\n      <td>0.0</td>\n      <td>포메라니안</td>\n      <td>왼쪽눈</td>\n      <td>결막염</td>\n      <td>무</td>\n      <td>무</td>\n      <td>무</td>\n    </tr>\n    <tr>\n      <th>19194</th>\n      <td>D:\\153.반려동물 안구질환 데이터\\1.Training\\결막염\\무\\D9_2b7f9...</td>\n      <td>0.0</td>\n      <td>2.0</td>\n      <td>래브라도 리트리버</td>\n      <td>오른쪽눈</td>\n      <td>결막염</td>\n      <td>무</td>\n      <td>무</td>\n      <td>무</td>\n    </tr>\n    <tr>\n      <th>19195</th>\n      <td>D:\\153.반려동물 안구질환 데이터\\1.Training\\결막염\\무\\D9_2b828...</td>\n      <td>0.0</td>\n      <td>1.0</td>\n      <td>도베르만</td>\n      <td>오른쪽눈</td>\n      <td>결막염</td>\n      <td>무</td>\n      <td>무</td>\n      <td>무</td>\n    </tr>\n    <tr>\n      <th>19196</th>\n      <td>D:\\153.반려동물 안구질환 데이터\\1.Training\\결막염\\무\\D9_2be88...</td>\n      <td>1.0</td>\n      <td>2.0</td>\n      <td>비숑 프리제</td>\n      <td>왼쪽눈</td>\n      <td>결막염</td>\n      <td>무</td>\n      <td>무</td>\n      <td>무</td>\n    </tr>\n    <tr>\n      <th>19197</th>\n      <td>D:\\153.반려동물 안구질환 데이터\\1.Training\\결막염\\무\\D9_2c073...</td>\n      <td>1.0</td>\n      <td>12.0</td>\n      <td>재패니즈 스피츠</td>\n      <td>왼쪽눈</td>\n      <td>결막염</td>\n      <td>무</td>\n      <td>무</td>\n      <td>무</td>\n    </tr>\n  </tbody>\n</table>\n<p>19198 rows × 9 columns</p>\n</div>"
     },
     "execution_count": 38,
     "metadata": {},
     "output_type": "execute_result"
    }
   ],
   "source": [
    "df"
   ],
   "metadata": {
    "collapsed": false,
    "ExecuteTime": {
     "end_time": "2024-03-28T01:45:46.224756Z",
     "start_time": "2024-03-28T01:45:46.213949Z"
    }
   },
   "execution_count": 38
  }
 ],
 "metadata": {
  "anaconda-cloud": {},
  "kernelspec": {
   "display_name": "Python 3 (ipykernel)",
   "language": "python",
   "name": "python3"
  },
  "language_info": {
   "codemirror_mode": {
    "name": "ipython",
    "version": 3
   },
   "file_extension": ".py",
   "mimetype": "text/x-python",
   "name": "python",
   "nbconvert_exporter": "python",
   "pygments_lexer": "ipython3",
   "version": "3.11.5"
  },
  "latex_envs": {
   "LaTeX_envs_menu_present": true,
   "autoclose": false,
   "autocomplete": true,
   "bibliofile": "biblio.bib",
   "cite_by": "apalike",
   "current_citInitial": 1,
   "eqLabelWithNumbers": true,
   "eqNumInitial": 1,
   "hotkeys": {
    "equation": "Ctrl-E",
    "itemize": "Ctrl-I"
   },
   "labels_anchors": false,
   "latex_user_defs": false,
   "report_style_numbering": false,
   "user_envs_cfg": false
  },
  "nav_menu": {},
  "toc": {
   "base_numbering": 1,
   "nav_menu": {
    "height": "400px",
    "width": "252px"
   },
   "number_sections": false,
   "sideBar": true,
   "skip_h1_title": false,
   "title_cell": "Table of Contents",
   "title_sidebar": "Contents",
   "toc_cell": false,
   "toc_position": {
    "height": "545px",
    "left": "0px",
    "right": "1154px",
    "top": "111px",
    "width": "212px"
   },
   "toc_section_display": "block",
   "toc_window_display": false
  },
  "toc_position": {
   "height": "503px",
   "left": "0px",
   "right": "952.167px",
   "top": "107px",
   "width": "300px"
  }
 },
 "nbformat": 4,
 "nbformat_minor": 2
}
