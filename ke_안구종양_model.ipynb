{
 "cells": [
  {
   "cell_type": "markdown",
   "metadata": {},
   "source": [
    "# 반려견 안구질환 진단 예측 프로젝트 - 두부는 단단"
   ]
  },
  {
   "cell_type": "code",
   "execution_count": 2,
   "metadata": {
    "ExecuteTime": {
     "end_time": "2024-03-28T09:23:45.543185Z",
     "start_time": "2024-03-28T09:23:45.540633Z"
    }
   },
   "outputs": [],
   "source": [
    "# 라이브러리 임포트\n",
    "import os\n",
    "import glob\n",
    "import json\n",
    "import pandas as pd"
   ]
  },
  {
   "cell_type": "code",
   "execution_count": 4,
   "metadata": {
    "ExecuteTime": {
     "end_time": "2024-03-28T09:23:46.903928Z",
     "start_time": "2024-03-28T09:23:45.649851Z"
    }
   },
   "outputs": [],
   "source": [
    "# 데이터프레임 생성\n",
    "df = pd.DataFrame(columns=[\"breed\", \"age\", \"gender\", \"eye_position\", \"lesions\", \"label_disease_lv_1\", \"label_disease_lv_2\", \"label_disease_lv_3\", \"path\", \"img_path\"])\n",
    "\n",
    "# 디렉토리 경로\n",
    "directory_paths = [r\"D:\\반려동물 안구질환 데이터\\1.Training\\안검종양\"]\n",
    "\n",
    "# 빈 리스트 생성\n",
    "data_list = []\n",
    "\n",
    "# 디렉토리 내 JSON 파일 읽기\n",
    "for directory_path in directory_paths:\n",
    "    for filename in os.listdir(directory_path):\n",
    "        if filename.endswith('.json'):\n",
    "            with open(os.path.join(directory_path, filename), 'r', encoding='utf-8') as file:\n",
    "                json_data = json.load(file)\n",
    "\n",
    "                # 데이터프레임 생성을 위한 정보 추출\n",
    "                breed = json_data[\"images\"][\"meta\"][\"breed\"]\n",
    "                age = json_data[\"images\"][\"meta\"][\"age\"]\n",
    "                gender = json_data[\"images\"][\"meta\"][\"gender\"]\n",
    "                eye_position = json_data[\"images\"][\"meta\"][\"eye_position\"]\n",
    "                lesions = json_data[\"label\"][\"label_disease_nm\"]\n",
    "                label_disease_lv_1 = json_data[\"label\"][\"label_disease_lv_1\"]\n",
    "                label_disease_lv_2 = json_data[\"label\"][\"label_disease_lv_2\"]\n",
    "                label_disease_lv_3 = json_data[\"label\"][\"label_disease_lv_3\"]\n",
    "                img_path = os.path.join(directory_path, json_data[\"label\"][\"label_filename\"])\n",
    "\n",
    "                # 데이터 리스트에 추가\n",
    "                data_list.append([breed, age, gender, eye_position, lesions, label_disease_lv_1, label_disease_lv_2, label_disease_lv_3, img_path])"
   ]
  },
  {
   "cell_type": "code",
   "execution_count": 5,
   "metadata": {
    "ExecuteTime": {
     "end_time": "2024-03-28T09:23:46.928153Z",
     "start_time": "2024-03-28T09:23:46.905202Z"
    },
    "collapsed": false
   },
   "outputs": [
    {
     "data": {
      "text/html": [
       "<div>\n",
       "<style scoped>\n",
       "    .dataframe tbody tr th:only-of-type {\n",
       "        vertical-align: middle;\n",
       "    }\n",
       "\n",
       "    .dataframe tbody tr th {\n",
       "        vertical-align: top;\n",
       "    }\n",
       "\n",
       "    .dataframe thead th {\n",
       "        text-align: right;\n",
       "    }\n",
       "</style>\n",
       "<table border=\"1\" class=\"dataframe\">\n",
       "  <thead>\n",
       "    <tr style=\"text-align: right;\">\n",
       "      <th></th>\n",
       "      <th>breed</th>\n",
       "      <th>age</th>\n",
       "      <th>gender</th>\n",
       "      <th>eye_position</th>\n",
       "      <th>lesions</th>\n",
       "      <th>label_disease_lv_1</th>\n",
       "      <th>label_disease_lv_2</th>\n",
       "      <th>label_disease_lv_3</th>\n",
       "      <th>img_path</th>\n",
       "    </tr>\n",
       "  </thead>\n",
       "  <tbody>\n",
       "    <tr>\n",
       "      <th>0</th>\n",
       "      <td>요크셔 테리어</td>\n",
       "      <td>16.0</td>\n",
       "      <td>0.0</td>\n",
       "      <td>왼쪽눈</td>\n",
       "      <td>안검종양</td>\n",
       "      <td>유</td>\n",
       "      <td>유</td>\n",
       "      <td>유</td>\n",
       "      <td>D:\\반려동물 안구질환 데이터\\1.Training\\안검종양\\crop_D0_030b3...</td>\n",
       "    </tr>\n",
       "    <tr>\n",
       "      <th>1</th>\n",
       "      <td>포메라니안</td>\n",
       "      <td>4.0</td>\n",
       "      <td>0.0</td>\n",
       "      <td>오른쪽눈</td>\n",
       "      <td>안검종양</td>\n",
       "      <td>무</td>\n",
       "      <td>무</td>\n",
       "      <td>무</td>\n",
       "      <td>D:\\반려동물 안구질환 데이터\\1.Training\\안검종양\\crop_D0_04133...</td>\n",
       "    </tr>\n",
       "    <tr>\n",
       "      <th>2</th>\n",
       "      <td>비숑 프리제</td>\n",
       "      <td>1.0</td>\n",
       "      <td>1.0</td>\n",
       "      <td>오른쪽눈</td>\n",
       "      <td>안검종양</td>\n",
       "      <td>무</td>\n",
       "      <td>무</td>\n",
       "      <td>무</td>\n",
       "      <td>D:\\반려동물 안구질환 데이터\\1.Training\\안검종양\\crop_D0_04172...</td>\n",
       "    </tr>\n",
       "    <tr>\n",
       "      <th>3</th>\n",
       "      <td>말티즈</td>\n",
       "      <td>0.0</td>\n",
       "      <td>1.0</td>\n",
       "      <td>오른쪽눈</td>\n",
       "      <td>안검종양</td>\n",
       "      <td>무</td>\n",
       "      <td>무</td>\n",
       "      <td>무</td>\n",
       "      <td>D:\\반려동물 안구질환 데이터\\1.Training\\안검종양\\crop_D0_04499...</td>\n",
       "    </tr>\n",
       "    <tr>\n",
       "      <th>4</th>\n",
       "      <td>포메라니안</td>\n",
       "      <td>5.0</td>\n",
       "      <td>1.0</td>\n",
       "      <td>왼쪽눈</td>\n",
       "      <td>안검종양</td>\n",
       "      <td>무</td>\n",
       "      <td>무</td>\n",
       "      <td>무</td>\n",
       "      <td>D:\\반려동물 안구질환 데이터\\1.Training\\안검종양\\crop_D0_05bdf...</td>\n",
       "    </tr>\n",
       "    <tr>\n",
       "      <th>...</th>\n",
       "      <td>...</td>\n",
       "      <td>...</td>\n",
       "      <td>...</td>\n",
       "      <td>...</td>\n",
       "      <td>...</td>\n",
       "      <td>...</td>\n",
       "      <td>...</td>\n",
       "      <td>...</td>\n",
       "      <td>...</td>\n",
       "    </tr>\n",
       "    <tr>\n",
       "      <th>9605</th>\n",
       "      <td>시츄</td>\n",
       "      <td>14.0</td>\n",
       "      <td>0.0</td>\n",
       "      <td>왼쪽눈</td>\n",
       "      <td>안검종양</td>\n",
       "      <td>유</td>\n",
       "      <td>유</td>\n",
       "      <td>유</td>\n",
       "      <td>D:\\반려동물 안구질환 데이터\\1.Training\\안검종양\\crop_D9_3b103...</td>\n",
       "    </tr>\n",
       "    <tr>\n",
       "      <th>9606</th>\n",
       "      <td>시츄</td>\n",
       "      <td>14.0</td>\n",
       "      <td>1.0</td>\n",
       "      <td>오른쪽눈</td>\n",
       "      <td>안검종양</td>\n",
       "      <td>유</td>\n",
       "      <td>유</td>\n",
       "      <td>유</td>\n",
       "      <td>D:\\반려동물 안구질환 데이터\\1.Training\\안검종양\\crop_D9_3d8b3...</td>\n",
       "    </tr>\n",
       "    <tr>\n",
       "      <th>9607</th>\n",
       "      <td>시츄</td>\n",
       "      <td>14.0</td>\n",
       "      <td>1.0</td>\n",
       "      <td>오른쪽눈</td>\n",
       "      <td>안검종양</td>\n",
       "      <td>무</td>\n",
       "      <td>유</td>\n",
       "      <td>유</td>\n",
       "      <td>D:\\반려동물 안구질환 데이터\\1.Training\\안검종양\\crop_D9_3db32...</td>\n",
       "    </tr>\n",
       "    <tr>\n",
       "      <th>9608</th>\n",
       "      <td>시츄</td>\n",
       "      <td>11.0</td>\n",
       "      <td>1.0</td>\n",
       "      <td>오른쪽눈</td>\n",
       "      <td>안검종양</td>\n",
       "      <td>유</td>\n",
       "      <td>유</td>\n",
       "      <td>유</td>\n",
       "      <td>D:\\반려동물 안구질환 데이터\\1.Training\\안검종양\\crop_D9_3db41...</td>\n",
       "    </tr>\n",
       "    <tr>\n",
       "      <th>9609</th>\n",
       "      <td>저먼 스피츠</td>\n",
       "      <td>12.0</td>\n",
       "      <td>0.0</td>\n",
       "      <td>왼쪽눈</td>\n",
       "      <td>안검종양</td>\n",
       "      <td>유</td>\n",
       "      <td>유</td>\n",
       "      <td>유</td>\n",
       "      <td>D:\\반려동물 안구질환 데이터\\1.Training\\안검종양\\crop_D9_3df55...</td>\n",
       "    </tr>\n",
       "  </tbody>\n",
       "</table>\n",
       "<p>9610 rows × 9 columns</p>\n",
       "</div>"
      ],
      "text/plain": [
       "        breed   age  gender eye_position lesions label_disease_lv_1  \\\n",
       "0     요크셔 테리어  16.0     0.0          왼쪽눈    안검종양                  유   \n",
       "1       포메라니안   4.0     0.0         오른쪽눈    안검종양                  무   \n",
       "2      비숑 프리제   1.0     1.0         오른쪽눈    안검종양                  무   \n",
       "3         말티즈   0.0     1.0         오른쪽눈    안검종양                  무   \n",
       "4       포메라니안   5.0     1.0          왼쪽눈    안검종양                  무   \n",
       "...       ...   ...     ...          ...     ...                ...   \n",
       "9605       시츄  14.0     0.0          왼쪽눈    안검종양                  유   \n",
       "9606       시츄  14.0     1.0         오른쪽눈    안검종양                  유   \n",
       "9607       시츄  14.0     1.0         오른쪽눈    안검종양                  무   \n",
       "9608       시츄  11.0     1.0         오른쪽눈    안검종양                  유   \n",
       "9609   저먼 스피츠  12.0     0.0          왼쪽눈    안검종양                  유   \n",
       "\n",
       "     label_disease_lv_2 label_disease_lv_3  \\\n",
       "0                     유                  유   \n",
       "1                     무                  무   \n",
       "2                     무                  무   \n",
       "3                     무                  무   \n",
       "4                     무                  무   \n",
       "...                 ...                ...   \n",
       "9605                  유                  유   \n",
       "9606                  유                  유   \n",
       "9607                  유                  유   \n",
       "9608                  유                  유   \n",
       "9609                  유                  유   \n",
       "\n",
       "                                               img_path  \n",
       "0     D:\\반려동물 안구질환 데이터\\1.Training\\안검종양\\crop_D0_030b3...  \n",
       "1     D:\\반려동물 안구질환 데이터\\1.Training\\안검종양\\crop_D0_04133...  \n",
       "2     D:\\반려동물 안구질환 데이터\\1.Training\\안검종양\\crop_D0_04172...  \n",
       "3     D:\\반려동물 안구질환 데이터\\1.Training\\안검종양\\crop_D0_04499...  \n",
       "4     D:\\반려동물 안구질환 데이터\\1.Training\\안검종양\\crop_D0_05bdf...  \n",
       "...                                                 ...  \n",
       "9605  D:\\반려동물 안구질환 데이터\\1.Training\\안검종양\\crop_D9_3b103...  \n",
       "9606  D:\\반려동물 안구질환 데이터\\1.Training\\안검종양\\crop_D9_3d8b3...  \n",
       "9607  D:\\반려동물 안구질환 데이터\\1.Training\\안검종양\\crop_D9_3db32...  \n",
       "9608  D:\\반려동물 안구질환 데이터\\1.Training\\안검종양\\crop_D9_3db41...  \n",
       "9609  D:\\반려동물 안구질환 데이터\\1.Training\\안검종양\\crop_D9_3df55...  \n",
       "\n",
       "[9610 rows x 9 columns]"
      ]
     },
     "execution_count": 5,
     "metadata": {},
     "output_type": "execute_result"
    }
   ],
   "source": [
    "# 데이터프레임 생성\n",
    "df = pd.DataFrame(data_list, columns=[\"breed\", \"age\", \"gender\", \"eye_position\", \"lesions\", \"label_disease_lv_1\", \"label_disease_lv_2\", \"label_disease_lv_3\", \"img_path\"])\n",
    "df"
   ]
  },
  {
   "cell_type": "code",
   "execution_count": 6,
   "metadata": {
    "ExecuteTime": {
     "end_time": "2024-03-28T09:23:46.959786Z",
     "start_time": "2024-03-28T09:23:46.928153Z"
    }
   },
   "outputs": [
    {
     "data": {
      "text/plain": [
       "(9610, 9)"
      ]
     },
     "execution_count": 6,
     "metadata": {},
     "output_type": "execute_result"
    }
   ],
   "source": [
    "df.shape"
   ]
  },
  {
   "cell_type": "code",
   "execution_count": 7,
   "metadata": {
    "ExecuteTime": {
     "end_time": "2024-03-28T09:23:46.982465Z",
     "start_time": "2024-03-28T09:23:46.962227Z"
    }
   },
   "outputs": [
    {
     "name": "stdout",
     "output_type": "stream",
     "text": [
      "<class 'pandas.core.frame.DataFrame'>\n",
      "RangeIndex: 9610 entries, 0 to 9609\n",
      "Data columns (total 9 columns):\n",
      " #   Column              Non-Null Count  Dtype  \n",
      "---  ------              --------------  -----  \n",
      " 0   breed               9610 non-null   object \n",
      " 1   age                 9610 non-null   float64\n",
      " 2   gender              9610 non-null   float64\n",
      " 3   eye_position        9610 non-null   object \n",
      " 4   lesions             9610 non-null   object \n",
      " 5   label_disease_lv_1  9610 non-null   object \n",
      " 6   label_disease_lv_2  9610 non-null   object \n",
      " 7   label_disease_lv_3  9610 non-null   object \n",
      " 8   img_path            9610 non-null   object \n",
      "dtypes: float64(2), object(7)\n",
      "memory usage: 675.8+ KB\n"
     ]
    }
   ],
   "source": [
    "df.info()"
   ]
  },
  {
   "cell_type": "code",
   "execution_count": 8,
   "metadata": {
    "ExecuteTime": {
     "end_time": "2024-03-28T09:23:46.989794Z",
     "start_time": "2024-03-28T09:23:46.983466Z"
    },
    "collapsed": false
   },
   "outputs": [],
   "source": [
    "# 이미지 데이터 시각화\n",
    "from PIL import Image\n",
    "import plotly.graph_objects as go\n",
    "import plotly.express as px\n",
    "from plotly.subplots import make_subplots\n",
    "import matplotlib.pyplot as plt\n",
    "import seaborn as sns"
   ]
  },
  {
   "cell_type": "code",
   "execution_count": 9,
   "metadata": {},
   "outputs": [
    {
     "name": "stdout",
     "output_type": "stream",
     "text": [
      "5109\n",
      "File does not exist: D:\\반려동물 안구질환 데이터\\1.Training\\안검종양\\crop_D39_0dd1859c-60a5-11ec-8402-0a7404972c70\n",
      "1\n"
     ]
    }
   ],
   "source": [
    "# 확장자 없는 애 찾기\n",
    "img_path_list = list(df['img_path'])\n",
    "\n",
    "no_file=0\n",
    "for idx, img_path in enumerate(img_path_list):\n",
    "    if os.path.exists(img_path):\n",
    "        pass\n",
    "        # print(f\"File exists: {img_path}\")\n",
    "    else:\n",
    "        print(idx)\n",
    "        no_file += 1\n",
    "        print(f\"File does not exist: {img_path}\")\n",
    "        \n",
    "print(no_file)"
   ]
  },
  {
   "cell_type": "code",
   "execution_count": 11,
   "metadata": {},
   "outputs": [
    {
     "name": "stderr",
     "output_type": "stream",
     "text": [
      "C:\\Users\\asiae\\AppData\\Local\\Temp\\ipykernel_15392\\915554443.py:1: SettingWithCopyWarning: \n",
      "A value is trying to be set on a copy of a slice from a DataFrame\n",
      "\n",
      "See the caveats in the documentation: https://pandas.pydata.org/pandas-docs/stable/user_guide/indexing.html#returning-a-view-versus-a-copy\n",
      "  df['img_path'][5109] = df['img_path'][5109]+'.jpg'\n"
     ]
    }
   ],
   "source": [
    "# # 확장자 없는 파일에 확장자 추가\n",
    "df['img_path'][5109] = df['img_path'][5109]+'.jpg'"
   ]
  },
  {
   "cell_type": "code",
   "execution_count": 12,
   "metadata": {
    "ExecuteTime": {
     "end_time": "2024-03-28T09:24:23.771493Z",
     "start_time": "2024-03-28T09:23:46.990943Z"
    },
    "collapsed": false
   },
   "outputs": [],
   "source": [
    "# 이미지 데이터 사이즈 변경\n",
    "import numpy as np\n",
    "df['image_pixel'] = df['img_path'].map(lambda x: np.asarray(Image.open(x).resize((50, 50))))"
   ]
  },
  {
   "cell_type": "code",
   "execution_count": 13,
   "metadata": {
    "ExecuteTime": {
     "end_time": "2024-03-28T09:24:33.791558Z",
     "start_time": "2024-03-28T09:24:23.772903Z"
    },
    "collapsed": false
   },
   "outputs": [
    {
     "data": {
      "text/html": [
       "<div>\n",
       "<style scoped>\n",
       "    .dataframe tbody tr th:only-of-type {\n",
       "        vertical-align: middle;\n",
       "    }\n",
       "\n",
       "    .dataframe tbody tr th {\n",
       "        vertical-align: top;\n",
       "    }\n",
       "\n",
       "    .dataframe thead th {\n",
       "        text-align: right;\n",
       "    }\n",
       "</style>\n",
       "<table border=\"1\" class=\"dataframe\">\n",
       "  <thead>\n",
       "    <tr style=\"text-align: right;\">\n",
       "      <th></th>\n",
       "      <th>breed</th>\n",
       "      <th>age</th>\n",
       "      <th>gender</th>\n",
       "      <th>eye_position</th>\n",
       "      <th>lesions</th>\n",
       "      <th>label_disease_lv_1</th>\n",
       "      <th>label_disease_lv_2</th>\n",
       "      <th>label_disease_lv_3</th>\n",
       "      <th>img_path</th>\n",
       "      <th>image_pixel</th>\n",
       "    </tr>\n",
       "  </thead>\n",
       "  <tbody>\n",
       "    <tr>\n",
       "      <th>0</th>\n",
       "      <td>요크셔 테리어</td>\n",
       "      <td>16.0</td>\n",
       "      <td>0.0</td>\n",
       "      <td>왼쪽눈</td>\n",
       "      <td>안검종양</td>\n",
       "      <td>유</td>\n",
       "      <td>유</td>\n",
       "      <td>유</td>\n",
       "      <td>D:\\반려동물 안구질환 데이터\\1.Training\\안검종양\\crop_D0_030b3...</td>\n",
       "      <td>[[[0, 0, 0], [0, 0, 0], [0, 0, 0], [0, 0, 0], ...</td>\n",
       "    </tr>\n",
       "    <tr>\n",
       "      <th>1</th>\n",
       "      <td>포메라니안</td>\n",
       "      <td>4.0</td>\n",
       "      <td>0.0</td>\n",
       "      <td>오른쪽눈</td>\n",
       "      <td>안검종양</td>\n",
       "      <td>무</td>\n",
       "      <td>무</td>\n",
       "      <td>무</td>\n",
       "      <td>D:\\반려동물 안구질환 데이터\\1.Training\\안검종양\\crop_D0_04133...</td>\n",
       "      <td>[[[106, 101, 77], [105, 99, 76], [111, 106, 83...</td>\n",
       "    </tr>\n",
       "    <tr>\n",
       "      <th>2</th>\n",
       "      <td>비숑 프리제</td>\n",
       "      <td>1.0</td>\n",
       "      <td>1.0</td>\n",
       "      <td>오른쪽눈</td>\n",
       "      <td>안검종양</td>\n",
       "      <td>무</td>\n",
       "      <td>무</td>\n",
       "      <td>무</td>\n",
       "      <td>D:\\반려동물 안구질환 데이터\\1.Training\\안검종양\\crop_D0_04172...</td>\n",
       "      <td>[[[195, 190, 178], [196, 193, 181], [200, 197,...</td>\n",
       "    </tr>\n",
       "    <tr>\n",
       "      <th>3</th>\n",
       "      <td>말티즈</td>\n",
       "      <td>0.0</td>\n",
       "      <td>1.0</td>\n",
       "      <td>오른쪽눈</td>\n",
       "      <td>안검종양</td>\n",
       "      <td>무</td>\n",
       "      <td>무</td>\n",
       "      <td>무</td>\n",
       "      <td>D:\\반려동물 안구질환 데이터\\1.Training\\안검종양\\crop_D0_04499...</td>\n",
       "      <td>[[[168, 169, 164], [162, 162, 157], [160, 159,...</td>\n",
       "    </tr>\n",
       "    <tr>\n",
       "      <th>4</th>\n",
       "      <td>포메라니안</td>\n",
       "      <td>5.0</td>\n",
       "      <td>1.0</td>\n",
       "      <td>왼쪽눈</td>\n",
       "      <td>안검종양</td>\n",
       "      <td>무</td>\n",
       "      <td>무</td>\n",
       "      <td>무</td>\n",
       "      <td>D:\\반려동물 안구질환 데이터\\1.Training\\안검종양\\crop_D0_05bdf...</td>\n",
       "      <td>[[[9, 18, 9], [9, 19, 10], [25, 31, 23], [43, ...</td>\n",
       "    </tr>\n",
       "    <tr>\n",
       "      <th>...</th>\n",
       "      <td>...</td>\n",
       "      <td>...</td>\n",
       "      <td>...</td>\n",
       "      <td>...</td>\n",
       "      <td>...</td>\n",
       "      <td>...</td>\n",
       "      <td>...</td>\n",
       "      <td>...</td>\n",
       "      <td>...</td>\n",
       "      <td>...</td>\n",
       "    </tr>\n",
       "    <tr>\n",
       "      <th>9605</th>\n",
       "      <td>시츄</td>\n",
       "      <td>14.0</td>\n",
       "      <td>0.0</td>\n",
       "      <td>왼쪽눈</td>\n",
       "      <td>안검종양</td>\n",
       "      <td>유</td>\n",
       "      <td>유</td>\n",
       "      <td>유</td>\n",
       "      <td>D:\\반려동물 안구질환 데이터\\1.Training\\안검종양\\crop_D9_3b103...</td>\n",
       "      <td>[[[0, 0, 0], [0, 0, 0], [0, 0, 0], [0, 0, 0], ...</td>\n",
       "    </tr>\n",
       "    <tr>\n",
       "      <th>9606</th>\n",
       "      <td>시츄</td>\n",
       "      <td>14.0</td>\n",
       "      <td>1.0</td>\n",
       "      <td>오른쪽눈</td>\n",
       "      <td>안검종양</td>\n",
       "      <td>유</td>\n",
       "      <td>유</td>\n",
       "      <td>유</td>\n",
       "      <td>D:\\반려동물 안구질환 데이터\\1.Training\\안검종양\\crop_D9_3d8b3...</td>\n",
       "      <td>[[[0, 0, 0], [0, 0, 0], [0, 0, 0], [0, 0, 0], ...</td>\n",
       "    </tr>\n",
       "    <tr>\n",
       "      <th>9607</th>\n",
       "      <td>시츄</td>\n",
       "      <td>14.0</td>\n",
       "      <td>1.0</td>\n",
       "      <td>오른쪽눈</td>\n",
       "      <td>안검종양</td>\n",
       "      <td>무</td>\n",
       "      <td>유</td>\n",
       "      <td>유</td>\n",
       "      <td>D:\\반려동물 안구질환 데이터\\1.Training\\안검종양\\crop_D9_3db32...</td>\n",
       "      <td>[[[0, 0, 0], [0, 0, 0], [0, 0, 0], [0, 0, 0], ...</td>\n",
       "    </tr>\n",
       "    <tr>\n",
       "      <th>9608</th>\n",
       "      <td>시츄</td>\n",
       "      <td>11.0</td>\n",
       "      <td>1.0</td>\n",
       "      <td>오른쪽눈</td>\n",
       "      <td>안검종양</td>\n",
       "      <td>유</td>\n",
       "      <td>유</td>\n",
       "      <td>유</td>\n",
       "      <td>D:\\반려동물 안구질환 데이터\\1.Training\\안검종양\\crop_D9_3db41...</td>\n",
       "      <td>[[[0, 0, 0], [0, 0, 0], [0, 0, 0], [0, 0, 0], ...</td>\n",
       "    </tr>\n",
       "    <tr>\n",
       "      <th>9609</th>\n",
       "      <td>저먼 스피츠</td>\n",
       "      <td>12.0</td>\n",
       "      <td>0.0</td>\n",
       "      <td>왼쪽눈</td>\n",
       "      <td>안검종양</td>\n",
       "      <td>유</td>\n",
       "      <td>유</td>\n",
       "      <td>유</td>\n",
       "      <td>D:\\반려동물 안구질환 데이터\\1.Training\\안검종양\\crop_D9_3df55...</td>\n",
       "      <td>[[[0, 0, 0], [0, 0, 0], [0, 0, 0], [0, 0, 0], ...</td>\n",
       "    </tr>\n",
       "  </tbody>\n",
       "</table>\n",
       "<p>9610 rows × 10 columns</p>\n",
       "</div>"
      ],
      "text/plain": [
       "        breed   age  gender eye_position lesions label_disease_lv_1  \\\n",
       "0     요크셔 테리어  16.0     0.0          왼쪽눈    안검종양                  유   \n",
       "1       포메라니안   4.0     0.0         오른쪽눈    안검종양                  무   \n",
       "2      비숑 프리제   1.0     1.0         오른쪽눈    안검종양                  무   \n",
       "3         말티즈   0.0     1.0         오른쪽눈    안검종양                  무   \n",
       "4       포메라니안   5.0     1.0          왼쪽눈    안검종양                  무   \n",
       "...       ...   ...     ...          ...     ...                ...   \n",
       "9605       시츄  14.0     0.0          왼쪽눈    안검종양                  유   \n",
       "9606       시츄  14.0     1.0         오른쪽눈    안검종양                  유   \n",
       "9607       시츄  14.0     1.0         오른쪽눈    안검종양                  무   \n",
       "9608       시츄  11.0     1.0         오른쪽눈    안검종양                  유   \n",
       "9609   저먼 스피츠  12.0     0.0          왼쪽눈    안검종양                  유   \n",
       "\n",
       "     label_disease_lv_2 label_disease_lv_3  \\\n",
       "0                     유                  유   \n",
       "1                     무                  무   \n",
       "2                     무                  무   \n",
       "3                     무                  무   \n",
       "4                     무                  무   \n",
       "...                 ...                ...   \n",
       "9605                  유                  유   \n",
       "9606                  유                  유   \n",
       "9607                  유                  유   \n",
       "9608                  유                  유   \n",
       "9609                  유                  유   \n",
       "\n",
       "                                               img_path  \\\n",
       "0     D:\\반려동물 안구질환 데이터\\1.Training\\안검종양\\crop_D0_030b3...   \n",
       "1     D:\\반려동물 안구질환 데이터\\1.Training\\안검종양\\crop_D0_04133...   \n",
       "2     D:\\반려동물 안구질환 데이터\\1.Training\\안검종양\\crop_D0_04172...   \n",
       "3     D:\\반려동물 안구질환 데이터\\1.Training\\안검종양\\crop_D0_04499...   \n",
       "4     D:\\반려동물 안구질환 데이터\\1.Training\\안검종양\\crop_D0_05bdf...   \n",
       "...                                                 ...   \n",
       "9605  D:\\반려동물 안구질환 데이터\\1.Training\\안검종양\\crop_D9_3b103...   \n",
       "9606  D:\\반려동물 안구질환 데이터\\1.Training\\안검종양\\crop_D9_3d8b3...   \n",
       "9607  D:\\반려동물 안구질환 데이터\\1.Training\\안검종양\\crop_D9_3db32...   \n",
       "9608  D:\\반려동물 안구질환 데이터\\1.Training\\안검종양\\crop_D9_3db41...   \n",
       "9609  D:\\반려동물 안구질환 데이터\\1.Training\\안검종양\\crop_D9_3df55...   \n",
       "\n",
       "                                            image_pixel  \n",
       "0     [[[0, 0, 0], [0, 0, 0], [0, 0, 0], [0, 0, 0], ...  \n",
       "1     [[[106, 101, 77], [105, 99, 76], [111, 106, 83...  \n",
       "2     [[[195, 190, 178], [196, 193, 181], [200, 197,...  \n",
       "3     [[[168, 169, 164], [162, 162, 157], [160, 159,...  \n",
       "4     [[[9, 18, 9], [9, 19, 10], [25, 31, 23], [43, ...  \n",
       "...                                                 ...  \n",
       "9605  [[[0, 0, 0], [0, 0, 0], [0, 0, 0], [0, 0, 0], ...  \n",
       "9606  [[[0, 0, 0], [0, 0, 0], [0, 0, 0], [0, 0, 0], ...  \n",
       "9607  [[[0, 0, 0], [0, 0, 0], [0, 0, 0], [0, 0, 0], ...  \n",
       "9608  [[[0, 0, 0], [0, 0, 0], [0, 0, 0], [0, 0, 0], ...  \n",
       "9609  [[[0, 0, 0], [0, 0, 0], [0, 0, 0], [0, 0, 0], ...  \n",
       "\n",
       "[9610 rows x 10 columns]"
      ]
     },
     "execution_count": 13,
     "metadata": {},
     "output_type": "execute_result"
    }
   ],
   "source": [
    "df"
   ]
  },
  {
   "cell_type": "markdown",
   "metadata": {
    "collapsed": false
   },
   "source": [
    "## 전처리"
   ]
  },
  {
   "cell_type": "markdown",
   "metadata": {
    "collapsed": false
   },
   "source": [
    "### 눈 위치 인덱싱"
   ]
  },
  {
   "cell_type": "code",
   "execution_count": 14,
   "metadata": {
    "ExecuteTime": {
     "end_time": "2024-03-28T09:24:33.831037Z",
     "start_time": "2024-03-28T09:24:33.797768Z"
    },
    "collapsed": false
   },
   "outputs": [
    {
     "data": {
      "text/plain": [
       "array(['왼쪽눈', '오른쪽눈'], dtype=object)"
      ]
     },
     "execution_count": 14,
     "metadata": {},
     "output_type": "execute_result"
    }
   ],
   "source": [
    "df['eye_position'].unique()"
   ]
  },
  {
   "cell_type": "code",
   "execution_count": 15,
   "metadata": {
    "ExecuteTime": {
     "start_time": "2024-03-28T09:24:33.834075Z"
    },
    "collapsed": false,
    "is_executing": true
   },
   "outputs": [
    {
     "name": "stdout",
     "output_type": "stream",
     "text": [
      "[0 1]\n"
     ]
    }
   ],
   "source": [
    "# Dictionary mapping eye_position values to numeric representations\n",
    "eye_position_mapping = {\n",
    "    '왼쪽눈': 0,\n",
    "    '오른쪽눈': 1\n",
    "}\n",
    "\n",
    "# Replace eye_position values with numeric representations\n",
    "df['eye_position'] = df['eye_position'].map(eye_position_mapping)\n",
    "\n",
    "# Print unique numeric representations\n",
    "print(df['eye_position'].unique())\n"
   ]
  },
  {
   "cell_type": "markdown",
   "metadata": {
    "collapsed": false
   },
   "source": [
    "### 성별, 나이 정수형"
   ]
  },
  {
   "cell_type": "code",
   "execution_count": 16,
   "metadata": {
    "collapsed": false,
    "is_executing": true
   },
   "outputs": [],
   "source": [
    "df['age'] = df['age'].astype(int)\n",
    "df['gender'] = df['gender'].astype(int)"
   ]
  },
  {
   "cell_type": "markdown",
   "metadata": {
    "collapsed": false
   },
   "source": [
    "### 증상 무:0 유:1"
   ]
  },
  {
   "cell_type": "code",
   "execution_count": 17,
   "metadata": {
    "collapsed": false,
    "is_executing": true
   },
   "outputs": [
    {
     "name": "stdout",
     "output_type": "stream",
     "text": [
      "[1 0]\n",
      "[1 0]\n",
      "[1 0]\n"
     ]
    }
   ],
   "source": [
    "# Define a function to map values to 0 or 1\n",
    "def map_to_binary(value):\n",
    "    return 0 if value == '무' else 1\n",
    "\n",
    "# Apply the function to the specified columns\n",
    "columns_to_map = ['label_disease_lv_1', 'label_disease_lv_2', 'label_disease_lv_3']\n",
    "for column in columns_to_map:\n",
    "    df[column] = df[column].apply(lambda x: map_to_binary(x))\n",
    "\n",
    "# Print unique values to verify the transformation\n",
    "for column in columns_to_map:\n",
    "    print(df[column].unique())\n"
   ]
  },
  {
   "cell_type": "code",
   "execution_count": 18,
   "metadata": {
    "collapsed": false,
    "is_executing": true
   },
   "outputs": [
    {
     "name": "stdout",
     "output_type": "stream",
     "text": [
      "<class 'pandas.core.frame.DataFrame'>\n",
      "RangeIndex: 9610 entries, 0 to 9609\n",
      "Data columns (total 10 columns):\n",
      " #   Column              Non-Null Count  Dtype \n",
      "---  ------              --------------  ----- \n",
      " 0   breed               9610 non-null   object\n",
      " 1   age                 9610 non-null   int32 \n",
      " 2   gender              9610 non-null   int32 \n",
      " 3   eye_position        9610 non-null   int64 \n",
      " 4   lesions             9610 non-null   object\n",
      " 5   label_disease_lv_1  9610 non-null   int64 \n",
      " 6   label_disease_lv_2  9610 non-null   int64 \n",
      " 7   label_disease_lv_3  9610 non-null   int64 \n",
      " 8   img_path            9610 non-null   object\n",
      " 9   image_pixel         9610 non-null   object\n",
      "dtypes: int32(2), int64(4), object(4)\n",
      "memory usage: 675.8+ KB\n"
     ]
    }
   ],
   "source": [
    "df.info()"
   ]
  },
  {
   "cell_type": "markdown",
   "metadata": {
    "collapsed": false
   },
   "source": [
    "#### 하나라도 유증상이면 1"
   ]
  },
  {
   "cell_type": "code",
   "execution_count": 19,
   "metadata": {
    "collapsed": false,
    "is_executing": true
   },
   "outputs": [
    {
     "name": "stdout",
     "output_type": "stream",
     "text": [
      "[1 0]\n"
     ]
    }
   ],
   "source": [
    "def check_disease_presence(row):\n",
    "    if row['label_disease_lv_1'] == 0 and row['label_disease_lv_2'] == 0 and row['label_disease_lv_3'] == 0:\n",
    "        return 0\n",
    "    else:\n",
    "        return 1\n",
    "\n",
    "df['path'] = df.apply(check_disease_presence, axis=1)\n",
    "\n",
    "print(df['path'].unique())"
   ]
  },
  {
   "cell_type": "markdown",
   "metadata": {
    "collapsed": false
   },
   "source": [
    "## EDA"
   ]
  },
  {
   "cell_type": "code",
   "execution_count": 20,
   "metadata": {
    "collapsed": false,
    "is_executing": true
   },
   "outputs": [
    {
     "data": {
      "image/png": "[encoded data removed]",
      "text/plain": [
       "<Figure size 2200x3200 with 14 Axes>"
      ]
     },
     "metadata": {},
     "output_type": "display_data"
    }
   ],
   "source": [
    "plt.figure(figsize=(22, 32))\n",
    "for i in range(14):\n",
    "    plt.subplot(7, 5, i + 1)\n",
    "    #plt.imshow(np.squeeze(sample_data['image_pixel'][i])) # 이미지 데이터의 차원을 3차원에서 2차원으로 \n",
    "    plt.imshow(df['image_pixel'][i])  # np.squeeze 안해도 잘 보임\n",
    "    plt.title(df['path'][i])\n",
    "    plt.axis(\"off\")\n",
    "plt.show();"
   ]
  },
  {
   "cell_type": "code",
   "execution_count": 21,
   "metadata": {
    "collapsed": false,
    "is_executing": true
   },
   "outputs": [
    {
     "data": {
      "image/png": "[encoded data removed]",
      "text/plain": [
       "<Figure size 640x480 with 1 Axes>"
      ]
     },
     "metadata": {},
     "output_type": "display_data"
    }
   ],
   "source": [
    "# Extract the x and y values from the groupby count\n",
    "x_values = [0, 1]\n",
    "y_values = df.groupby('path').size().values  # Use size() instead of count()\n",
    "\n",
    "# Plot the bar chart\n",
    "plt.bar(x_values, y_values)\n",
    "plt.show()"
   ]
  },
  {
   "cell_type": "code",
   "execution_count": 22,
   "metadata": {
    "collapsed": false,
    "is_executing": true
   },
   "outputs": [
    {
     "data": {
      "text/html": [
       "<div>\n",
       "<style scoped>\n",
       "    .dataframe tbody tr th:only-of-type {\n",
       "        vertical-align: middle;\n",
       "    }\n",
       "\n",
       "    .dataframe tbody tr th {\n",
       "        vertical-align: top;\n",
       "    }\n",
       "\n",
       "    .dataframe thead th {\n",
       "        text-align: right;\n",
       "    }\n",
       "</style>\n",
       "<table border=\"1\" class=\"dataframe\">\n",
       "  <thead>\n",
       "    <tr style=\"text-align: right;\">\n",
       "      <th></th>\n",
       "      <th>breed</th>\n",
       "      <th>age</th>\n",
       "      <th>gender</th>\n",
       "      <th>eye_position</th>\n",
       "      <th>lesions</th>\n",
       "      <th>label_disease_lv_1</th>\n",
       "      <th>label_disease_lv_2</th>\n",
       "      <th>label_disease_lv_3</th>\n",
       "      <th>img_path</th>\n",
       "      <th>image_pixel</th>\n",
       "      <th>path</th>\n",
       "    </tr>\n",
       "  </thead>\n",
       "  <tbody>\n",
       "    <tr>\n",
       "      <th>0</th>\n",
       "      <td>요크셔 테리어</td>\n",
       "      <td>16</td>\n",
       "      <td>0</td>\n",
       "      <td>0</td>\n",
       "      <td>안검종양</td>\n",
       "      <td>1</td>\n",
       "      <td>1</td>\n",
       "      <td>1</td>\n",
       "      <td>D:\\반려동물 안구질환 데이터\\1.Training\\안검종양\\crop_D0_030b3...</td>\n",
       "      <td>[[[0, 0, 0], [0, 0, 0], [0, 0, 0], [0, 0, 0], ...</td>\n",
       "      <td>1</td>\n",
       "    </tr>\n",
       "    <tr>\n",
       "      <th>1</th>\n",
       "      <td>포메라니안</td>\n",
       "      <td>4</td>\n",
       "      <td>0</td>\n",
       "      <td>1</td>\n",
       "      <td>안검종양</td>\n",
       "      <td>0</td>\n",
       "      <td>0</td>\n",
       "      <td>0</td>\n",
       "      <td>D:\\반려동물 안구질환 데이터\\1.Training\\안검종양\\crop_D0_04133...</td>\n",
       "      <td>[[[106, 101, 77], [105, 99, 76], [111, 106, 83...</td>\n",
       "      <td>0</td>\n",
       "    </tr>\n",
       "    <tr>\n",
       "      <th>2</th>\n",
       "      <td>비숑 프리제</td>\n",
       "      <td>1</td>\n",
       "      <td>1</td>\n",
       "      <td>1</td>\n",
       "      <td>안검종양</td>\n",
       "      <td>0</td>\n",
       "      <td>0</td>\n",
       "      <td>0</td>\n",
       "      <td>D:\\반려동물 안구질환 데이터\\1.Training\\안검종양\\crop_D0_04172...</td>\n",
       "      <td>[[[195, 190, 178], [196, 193, 181], [200, 197,...</td>\n",
       "      <td>0</td>\n",
       "    </tr>\n",
       "    <tr>\n",
       "      <th>3</th>\n",
       "      <td>말티즈</td>\n",
       "      <td>0</td>\n",
       "      <td>1</td>\n",
       "      <td>1</td>\n",
       "      <td>안검종양</td>\n",
       "      <td>0</td>\n",
       "      <td>0</td>\n",
       "      <td>0</td>\n",
       "      <td>D:\\반려동물 안구질환 데이터\\1.Training\\안검종양\\crop_D0_04499...</td>\n",
       "      <td>[[[168, 169, 164], [162, 162, 157], [160, 159,...</td>\n",
       "      <td>0</td>\n",
       "    </tr>\n",
       "    <tr>\n",
       "      <th>4</th>\n",
       "      <td>포메라니안</td>\n",
       "      <td>5</td>\n",
       "      <td>1</td>\n",
       "      <td>0</td>\n",
       "      <td>안검종양</td>\n",
       "      <td>0</td>\n",
       "      <td>0</td>\n",
       "      <td>0</td>\n",
       "      <td>D:\\반려동물 안구질환 데이터\\1.Training\\안검종양\\crop_D0_05bdf...</td>\n",
       "      <td>[[[9, 18, 9], [9, 19, 10], [25, 31, 23], [43, ...</td>\n",
       "      <td>0</td>\n",
       "    </tr>\n",
       "    <tr>\n",
       "      <th>...</th>\n",
       "      <td>...</td>\n",
       "      <td>...</td>\n",
       "      <td>...</td>\n",
       "      <td>...</td>\n",
       "      <td>...</td>\n",
       "      <td>...</td>\n",
       "      <td>...</td>\n",
       "      <td>...</td>\n",
       "      <td>...</td>\n",
       "      <td>...</td>\n",
       "      <td>...</td>\n",
       "    </tr>\n",
       "    <tr>\n",
       "      <th>9605</th>\n",
       "      <td>시츄</td>\n",
       "      <td>14</td>\n",
       "      <td>0</td>\n",
       "      <td>0</td>\n",
       "      <td>안검종양</td>\n",
       "      <td>1</td>\n",
       "      <td>1</td>\n",
       "      <td>1</td>\n",
       "      <td>D:\\반려동물 안구질환 데이터\\1.Training\\안검종양\\crop_D9_3b103...</td>\n",
       "      <td>[[[0, 0, 0], [0, 0, 0], [0, 0, 0], [0, 0, 0], ...</td>\n",
       "      <td>1</td>\n",
       "    </tr>\n",
       "    <tr>\n",
       "      <th>9606</th>\n",
       "      <td>시츄</td>\n",
       "      <td>14</td>\n",
       "      <td>1</td>\n",
       "      <td>1</td>\n",
       "      <td>안검종양</td>\n",
       "      <td>1</td>\n",
       "      <td>1</td>\n",
       "      <td>1</td>\n",
       "      <td>D:\\반려동물 안구질환 데이터\\1.Training\\안검종양\\crop_D9_3d8b3...</td>\n",
       "      <td>[[[0, 0, 0], [0, 0, 0], [0, 0, 0], [0, 0, 0], ...</td>\n",
       "      <td>1</td>\n",
       "    </tr>\n",
       "    <tr>\n",
       "      <th>9607</th>\n",
       "      <td>시츄</td>\n",
       "      <td>14</td>\n",
       "      <td>1</td>\n",
       "      <td>1</td>\n",
       "      <td>안검종양</td>\n",
       "      <td>0</td>\n",
       "      <td>1</td>\n",
       "      <td>1</td>\n",
       "      <td>D:\\반려동물 안구질환 데이터\\1.Training\\안검종양\\crop_D9_3db32...</td>\n",
       "      <td>[[[0, 0, 0], [0, 0, 0], [0, 0, 0], [0, 0, 0], ...</td>\n",
       "      <td>1</td>\n",
       "    </tr>\n",
       "    <tr>\n",
       "      <th>9608</th>\n",
       "      <td>시츄</td>\n",
       "      <td>11</td>\n",
       "      <td>1</td>\n",
       "      <td>1</td>\n",
       "      <td>안검종양</td>\n",
       "      <td>1</td>\n",
       "      <td>1</td>\n",
       "      <td>1</td>\n",
       "      <td>D:\\반려동물 안구질환 데이터\\1.Training\\안검종양\\crop_D9_3db41...</td>\n",
       "      <td>[[[0, 0, 0], [0, 0, 0], [0, 0, 0], [0, 0, 0], ...</td>\n",
       "      <td>1</td>\n",
       "    </tr>\n",
       "    <tr>\n",
       "      <th>9609</th>\n",
       "      <td>저먼 스피츠</td>\n",
       "      <td>12</td>\n",
       "      <td>0</td>\n",
       "      <td>0</td>\n",
       "      <td>안검종양</td>\n",
       "      <td>1</td>\n",
       "      <td>1</td>\n",
       "      <td>1</td>\n",
       "      <td>D:\\반려동물 안구질환 데이터\\1.Training\\안검종양\\crop_D9_3df55...</td>\n",
       "      <td>[[[0, 0, 0], [0, 0, 0], [0, 0, 0], [0, 0, 0], ...</td>\n",
       "      <td>1</td>\n",
       "    </tr>\n",
       "  </tbody>\n",
       "</table>\n",
       "<p>9610 rows × 11 columns</p>\n",
       "</div>"
      ],
      "text/plain": [
       "        breed  age  gender  eye_position lesions  label_disease_lv_1  \\\n",
       "0     요크셔 테리어   16       0             0    안검종양                   1   \n",
       "1       포메라니안    4       0             1    안검종양                   0   \n",
       "2      비숑 프리제    1       1             1    안검종양                   0   \n",
       "3         말티즈    0       1             1    안검종양                   0   \n",
       "4       포메라니안    5       1             0    안검종양                   0   \n",
       "...       ...  ...     ...           ...     ...                 ...   \n",
       "9605       시츄   14       0             0    안검종양                   1   \n",
       "9606       시츄   14       1             1    안검종양                   1   \n",
       "9607       시츄   14       1             1    안검종양                   0   \n",
       "9608       시츄   11       1             1    안검종양                   1   \n",
       "9609   저먼 스피츠   12       0             0    안검종양                   1   \n",
       "\n",
       "      label_disease_lv_2  label_disease_lv_3  \\\n",
       "0                      1                   1   \n",
       "1                      0                   0   \n",
       "2                      0                   0   \n",
       "3                      0                   0   \n",
       "4                      0                   0   \n",
       "...                  ...                 ...   \n",
       "9605                   1                   1   \n",
       "9606                   1                   1   \n",
       "9607                   1                   1   \n",
       "9608                   1                   1   \n",
       "9609                   1                   1   \n",
       "\n",
       "                                               img_path  \\\n",
       "0     D:\\반려동물 안구질환 데이터\\1.Training\\안검종양\\crop_D0_030b3...   \n",
       "1     D:\\반려동물 안구질환 데이터\\1.Training\\안검종양\\crop_D0_04133...   \n",
       "2     D:\\반려동물 안구질환 데이터\\1.Training\\안검종양\\crop_D0_04172...   \n",
       "3     D:\\반려동물 안구질환 데이터\\1.Training\\안검종양\\crop_D0_04499...   \n",
       "4     D:\\반려동물 안구질환 데이터\\1.Training\\안검종양\\crop_D0_05bdf...   \n",
       "...                                                 ...   \n",
       "9605  D:\\반려동물 안구질환 데이터\\1.Training\\안검종양\\crop_D9_3b103...   \n",
       "9606  D:\\반려동물 안구질환 데이터\\1.Training\\안검종양\\crop_D9_3d8b3...   \n",
       "9607  D:\\반려동물 안구질환 데이터\\1.Training\\안검종양\\crop_D9_3db32...   \n",
       "9608  D:\\반려동물 안구질환 데이터\\1.Training\\안검종양\\crop_D9_3db41...   \n",
       "9609  D:\\반려동물 안구질환 데이터\\1.Training\\안검종양\\crop_D9_3df55...   \n",
       "\n",
       "                                            image_pixel  path  \n",
       "0     [[[0, 0, 0], [0, 0, 0], [0, 0, 0], [0, 0, 0], ...     1  \n",
       "1     [[[106, 101, 77], [105, 99, 76], [111, 106, 83...     0  \n",
       "2     [[[195, 190, 178], [196, 193, 181], [200, 197,...     0  \n",
       "3     [[[168, 169, 164], [162, 162, 157], [160, 159,...     0  \n",
       "4     [[[9, 18, 9], [9, 19, 10], [25, 31, 23], [43, ...     0  \n",
       "...                                                 ...   ...  \n",
       "9605  [[[0, 0, 0], [0, 0, 0], [0, 0, 0], [0, 0, 0], ...     1  \n",
       "9606  [[[0, 0, 0], [0, 0, 0], [0, 0, 0], [0, 0, 0], ...     1  \n",
       "9607  [[[0, 0, 0], [0, 0, 0], [0, 0, 0], [0, 0, 0], ...     1  \n",
       "9608  [[[0, 0, 0], [0, 0, 0], [0, 0, 0], [0, 0, 0], ...     1  \n",
       "9609  [[[0, 0, 0], [0, 0, 0], [0, 0, 0], [0, 0, 0], ...     1  \n",
       "\n",
       "[9610 rows x 11 columns]"
      ]
     },
     "execution_count": 22,
     "metadata": {},
     "output_type": "execute_result"
    }
   ],
   "source": [
    "df"
   ]
  },
  {
   "cell_type": "code",
   "execution_count": 23,
   "metadata": {
    "collapsed": false,
    "is_executing": true
   },
   "outputs": [
    {
     "name": "stdout",
     "output_type": "stream",
     "text": [
      "(9610, 50, 50, 3)\n",
      "(9610, 1)\n"
     ]
    }
   ],
   "source": [
    "# 이미지 데이터를 numpy 형식으로 변환\n",
    "X_aug = df['image_pixel'].to_numpy()\n",
    "X_aug = np.stack(X_aug, axis=0)\n",
    "Y_aug = np.array(df.iloc[:, -1:])\n",
    "print(X_aug.shape)\n",
    "print(Y_aug.shape)"
   ]
  },
  {
   "cell_type": "markdown",
   "metadata": {
    "collapsed": false
   },
   "source": [
    "## model"
   ]
  },
  {
   "cell_type": "code",
   "execution_count": 24,
   "metadata": {
    "collapsed": false,
    "is_executing": true
   },
   "outputs": [
    {
     "name": "stdout",
     "output_type": "stream",
     "text": [
      "WARNING:tensorflow:From C:\\Users\\asiae\\AppData\\Roaming\\Python\\Python311\\site-packages\\keras\\src\\losses.py:2976: The name tf.losses.sparse_softmax_cross_entropy is deprecated. Please use tf.compat.v1.losses.sparse_softmax_cross_entropy instead.\n",
      "\n"
     ]
    }
   ],
   "source": [
    "import tensorflow as tf\n",
    "from tensorflow.keras.preprocessing import image\n",
    "from tensorflow.keras.preprocessing.image import ImageDataGenerator\n",
    "from tensorflow.keras.models import Sequential\n",
    "from tensorflow.keras.layers import Conv2D, Flatten, Dense, MaxPool2D\n",
    "from tensorflow.keras.callbacks import ReduceLROnPlateau, EarlyStopping\n",
    "\n",
    "from sklearn.model_selection import train_test_split\n",
    "from sklearn.metrics import classification_report, confusion_matrix"
   ]
  },
  {
   "cell_type": "code",
   "execution_count": 25,
   "metadata": {
    "collapsed": false,
    "is_executing": true
   },
   "outputs": [],
   "source": [
    "X_train, X_test, Y_train, Y_test = train_test_split(X_aug, Y_aug, test_size=0.2, random_state=3)"
   ]
  },
  {
   "cell_type": "code",
   "execution_count": 26,
   "metadata": {
    "collapsed": false,
    "is_executing": true
   },
   "outputs": [
    {
     "data": {
      "text/plain": [
       "(7688, 50, 50, 3)"
      ]
     },
     "execution_count": 26,
     "metadata": {},
     "output_type": "execute_result"
    }
   ],
   "source": [
    "X_train.shape"
   ]
  },
  {
   "cell_type": "code",
   "execution_count": 27,
   "metadata": {
    "collapsed": false,
    "is_executing": true
   },
   "outputs": [],
   "source": [
    "test_datagen = ImageDataGenerator(rescale = 1./255)\n",
    "test_datagen.fit(X_test)"
   ]
  },
  {
   "cell_type": "code",
   "execution_count": 28,
   "metadata": {
    "collapsed": false,
    "is_executing": true
   },
   "outputs": [],
   "source": [
    "def create_model():\n",
    "    model = Sequential()\n",
    "    model.add(Conv2D(16, kernel_size=(3, 3), input_shape=[50, 50, 3], activation='relu', padding='same'))\n",
    "    model.add(MaxPool2D(pool_size=(2, 2)))\n",
    "\n",
    "    model.add(Conv2D(32, kernel_size=(3, 3), activation='relu', padding='same'))\n",
    "    model.add(MaxPool2D(pool_size=(2, 2), padding='same'))\n",
    "\n",
    "    model.add(Conv2D(64, kernel_size=(3, 3), activation='relu', padding='same'))\n",
    "    model.add(MaxPool2D(pool_size=(2, 2), padding='same'))\n",
    "\n",
    "    model.add(Conv2D(128, kernel_size=(3, 3), activation='relu', padding='same'))\n",
    "    model.add(MaxPool2D(pool_size=(2, 2), padding='same'))\n",
    "\n",
    "    model.add(Flatten())\n",
    "    model.add(Dense(32, activation='relu'))\n",
    "    model.add(Dense(7, activation='sigmoid'))\n",
    "\n",
    "    optimizer = tf.keras.optimizers.Adam(learning_rate=0.001)\n",
    "\n",
    "    model.compile(loss='sparse_categorical_crossentropy',\n",
    "                  optimizer='Adam',\n",
    "                  metrics=['accuracy'])\n",
    "    print(model.summary())\n",
    "    return model"
   ]
  },
  {
   "cell_type": "code",
   "execution_count": 29,
   "metadata": {
    "collapsed": false,
    "is_executing": true
   },
   "outputs": [],
   "source": [
    "def train_model(model, X_train, Y_train, EPOCHS):\n",
    "    early_stop = EarlyStopping(monitor='val_loss', patience=10, verbose=1, mode='auto')\n",
    "    reduce_lr = ReduceLROnPlateau(monitor='val_loss', factor=0.1, patience=3, verbose=1, mode='auto')\n",
    "    print(\"Training model...\")\n",
    "    history = model.fit(X_train, Y_train, validation_split=0.2, batch_size=64, epochs=50,\n",
    "                        callbacks=[reduce_lr, early_stop])\n",
    "    return history"
   ]
  },
  {
   "cell_type": "code",
   "execution_count": 30,
   "metadata": {
    "collapsed": false,
    "is_executing": true
   },
   "outputs": [],
   "source": [
    "def plot_model_training_curve(history):\n",
    "    fig = make_subplots(rows=1, cols=2, subplot_titles=['Model Accuracy', 'Model Loss'])\n",
    "    fig.add_trace(\n",
    "        go.Scatter(\n",
    "            y=history.history['accuracy'], name='train_acc'), row=1, col=1)\n",
    "    fig.add_trace(\n",
    "        go.Scatter(\n",
    "            y=history.history['val_accuracy'], name='val_acc'), row=1, col=1)\n",
    "    fig.add_trace(\n",
    "        go.Scatter(\n",
    "            y=history.history['loss'], name='train_loss'), row=1, col=2)\n",
    "    fig.add_trace(\n",
    "        go.Scatter(\n",
    "            y=history.history['val_loss'], name='val_loss'), row=1, col=2)\n",
    "    fig.show()"
   ]
  },
  {
   "cell_type": "code",
   "execution_count": 31,
   "metadata": {
    "collapsed": false,
    "is_executing": true
   },
   "outputs": [
    {
     "name": "stdout",
     "output_type": "stream",
     "text": [
      "WARNING:tensorflow:From C:\\Users\\asiae\\AppData\\Roaming\\Python\\Python311\\site-packages\\keras\\src\\backend.py:873: The name tf.get_default_graph is deprecated. Please use tf.compat.v1.get_default_graph instead.\n",
      "\n",
      "WARNING:tensorflow:From C:\\Users\\asiae\\AppData\\Roaming\\Python\\Python311\\site-packages\\keras\\src\\layers\\pooling\\max_pooling2d.py:161: The name tf.nn.max_pool is deprecated. Please use tf.nn.max_pool2d instead.\n",
      "\n",
      "WARNING:tensorflow:From C:\\Users\\asiae\\AppData\\Roaming\\Python\\Python311\\site-packages\\keras\\src\\optimizers\\__init__.py:309: The name tf.train.Optimizer is deprecated. Please use tf.compat.v1.train.Optimizer instead.\n",
      "\n",
      "Model: \"sequential\"\n",
      "_________________________________________________________________\n",
      " Layer (type)                Output Shape              Param #   \n",
      "=================================================================\n",
      " conv2d (Conv2D)             (None, 50, 50, 16)        448       \n",
      "                                                                 \n",
      " max_pooling2d (MaxPooling2  (None, 25, 25, 16)        0         \n",
      " D)                                                              \n",
      "                                                                 \n",
      " conv2d_1 (Conv2D)           (None, 25, 25, 32)        4640      \n",
      "                                                                 \n",
      " max_pooling2d_1 (MaxPoolin  (None, 13, 13, 32)        0         \n",
      " g2D)                                                            \n",
      "                                                                 \n",
      " conv2d_2 (Conv2D)           (None, 13, 13, 64)        18496     \n",
      "                                                                 \n",
      " max_pooling2d_2 (MaxPoolin  (None, 7, 7, 64)          0         \n",
      " g2D)                                                            \n",
      "                                                                 \n",
      " conv2d_3 (Conv2D)           (None, 7, 7, 128)         73856     \n",
      "                                                                 \n",
      " max_pooling2d_3 (MaxPoolin  (None, 4, 4, 128)         0         \n",
      " g2D)                                                            \n",
      "                                                                 \n",
      " flatten (Flatten)           (None, 2048)              0         \n",
      "                                                                 \n",
      " dense (Dense)               (None, 32)                65568     \n",
      "                                                                 \n",
      " dense_1 (Dense)             (None, 7)                 231       \n",
      "                                                                 \n",
      "=================================================================\n",
      "Total params: 163239 (637.65 KB)\n",
      "Trainable params: 163239 (637.65 KB)\n",
      "Non-trainable params: 0 (0.00 Byte)\n",
      "_________________________________________________________________\n",
      "None\n",
      "Training model...\n",
      "Epoch 1/50\n",
      "WARNING:tensorflow:From C:\\Users\\asiae\\AppData\\Roaming\\Python\\Python311\\site-packages\\keras\\src\\utils\\tf_utils.py:492: The name tf.ragged.RaggedTensorValue is deprecated. Please use tf.compat.v1.ragged.RaggedTensorValue instead.\n",
      "\n",
      "WARNING:tensorflow:From C:\\Users\\asiae\\AppData\\Roaming\\Python\\Python311\\site-packages\\keras\\src\\engine\\base_layer_utils.py:384: The name tf.executing_eagerly_outside_functions is deprecated. Please use tf.compat.v1.executing_eagerly_outside_functions instead.\n",
      "\n",
      "97/97 [==============================] - 2s 17ms/step - loss: 0.0787 - accuracy: 0.9821 - val_loss: 0.0205 - val_accuracy: 0.9961 - lr: 0.0010\n",
      "Epoch 2/50\n",
      "97/97 [==============================] - 1s 15ms/step - loss: 0.0171 - accuracy: 0.9961 - val_loss: 0.0312 - val_accuracy: 0.9941 - lr: 0.0010\n",
      "Epoch 3/50\n",
      "97/97 [==============================] - 1s 15ms/step - loss: 0.0147 - accuracy: 0.9961 - val_loss: 0.0159 - val_accuracy: 0.9967 - lr: 0.0010\n",
      "Epoch 4/50\n",
      "97/97 [==============================] - 2s 16ms/step - loss: 0.0055 - accuracy: 0.9984 - val_loss: 0.0232 - val_accuracy: 0.9967 - lr: 0.0010\n",
      "Epoch 5/50\n",
      "97/97 [==============================] - 1s 15ms/step - loss: 0.0060 - accuracy: 0.9987 - val_loss: 0.0097 - val_accuracy: 0.9967 - lr: 0.0010\n",
      "Epoch 6/50\n",
      "97/97 [==============================] - 2s 16ms/step - loss: 0.0012 - accuracy: 0.9997 - val_loss: 0.0416 - val_accuracy: 0.9948 - lr: 0.0010\n",
      "Epoch 7/50\n",
      "97/97 [==============================] - 1s 15ms/step - loss: 0.0023 - accuracy: 0.9992 - val_loss: 0.0184 - val_accuracy: 0.9967 - lr: 0.0010\n",
      "Epoch 8/50\n",
      "96/97 [============================>.] - ETA: 0s - loss: 2.2179e-04 - accuracy: 1.0000\n",
      "Epoch 8: ReduceLROnPlateau reducing learning rate to 0.00010000000474974513.\n",
      "97/97 [==============================] - 2s 16ms/step - loss: 2.2158e-04 - accuracy: 1.0000 - val_loss: 0.0400 - val_accuracy: 0.9967 - lr: 0.0010\n",
      "Epoch 9/50\n",
      "97/97 [==============================] - 1s 15ms/step - loss: 3.2957e-04 - accuracy: 0.9998 - val_loss: 0.0205 - val_accuracy: 0.9967 - lr: 1.0000e-04\n",
      "Epoch 10/50\n",
      "97/97 [==============================] - 1s 15ms/step - loss: 5.8975e-05 - accuracy: 1.0000 - val_loss: 0.0231 - val_accuracy: 0.9967 - lr: 1.0000e-04\n",
      "Epoch 11/50\n",
      "94/97 [============================>.] - ETA: 0s - loss: 4.5542e-05 - accuracy: 1.0000\n",
      "Epoch 11: ReduceLROnPlateau reducing learning rate to 1.0000000474974514e-05.\n",
      "97/97 [==============================] - 2s 17ms/step - loss: 4.4929e-05 - accuracy: 1.0000 - val_loss: 0.0246 - val_accuracy: 0.9967 - lr: 1.0000e-04\n",
      "Epoch 12/50\n",
      "97/97 [==============================] - 2s 16ms/step - loss: 4.0629e-05 - accuracy: 1.0000 - val_loss: 0.0247 - val_accuracy: 0.9967 - lr: 1.0000e-05\n",
      "Epoch 13/50\n",
      "97/97 [==============================] - 2s 15ms/step - loss: 4.0071e-05 - accuracy: 1.0000 - val_loss: 0.0249 - val_accuracy: 0.9967 - lr: 1.0000e-05\n",
      "Epoch 14/50\n",
      "94/97 [============================>.] - ETA: 0s - loss: 3.5127e-05 - accuracy: 1.0000\n",
      "Epoch 14: ReduceLROnPlateau reducing learning rate to 1.0000000656873453e-06.\n",
      "97/97 [==============================] - 2s 17ms/step - loss: 3.9515e-05 - accuracy: 1.0000 - val_loss: 0.0250 - val_accuracy: 0.9967 - lr: 1.0000e-05\n",
      "Epoch 15/50\n",
      "97/97 [==============================] - 2s 16ms/step - loss: 3.9098e-05 - accuracy: 1.0000 - val_loss: 0.0250 - val_accuracy: 0.9967 - lr: 1.0000e-06\n",
      "Epoch 15: early stopping\n"
     ]
    },
    {
     "data": {
      "application/vnd.plotly.v1+json": {
       "config": {
        "plotlyServerURL": "https://plot.ly"
       },
       "data": [
        {
         "name": "train_acc",
         "type": "scatter",
         "xaxis": "x",
         "y": [
          0.9821138381958008,
          0.9960975646972656,
          0.9960975646972656,
          0.9983739852905273,
          0.9986991882324219,
          0.9996747970581055,
          0.9991869926452637,
          1,
          0.9998373985290527,
          1,
          1,
          1,
          1,
          1,
          1
         ],
         "yaxis": "y"
        },
        {
         "name": "val_acc",
         "type": "scatter",
         "xaxis": "x",
         "y": [
          0.9960988163948059,
          0.9941482543945312,
          0.9967490434646606,
          0.9967490434646606,
          0.9967490434646606,
          0.9947984218597412,
          0.9967490434646606,
          0.9967490434646606,
          0.9967490434646606,
          0.9967490434646606,
          0.9967490434646606,
          0.9967490434646606,
          0.9967490434646606,
          0.9967490434646606,
          0.9967490434646606
         ],
         "yaxis": "y"
        },
        {
         "name": "train_loss",
         "type": "scatter",
         "xaxis": "x2",
         "y": [
          0.07869742810726166,
          0.017084766179323196,
          0.014745681546628475,
          0.005476719234138727,
          0.00604103971272707,
          0.0011996962130069733,
          0.0022972512524574995,
          0.00022157969942782074,
          0.0003295658971183002,
          0.00005897541996091604,
          0.00004492924563237466,
          0.00004062874359078705,
          0.00004007071765954606,
          0.000039515191019745544,
          0.000039097812987165526
         ],
         "yaxis": "y2"
        },
        {
         "name": "val_loss",
         "type": "scatter",
         "xaxis": "x2",
         "y": [
          0.02051243744790554,
          0.031156275421380997,
          0.015920618548989296,
          0.02318849042057991,
          0.009740825742483139,
          0.04156729578971863,
          0.01837795227766037,
          0.04004989564418793,
          0.02050614170730114,
          0.02306649647653103,
          0.024577997624874115,
          0.024709509685635567,
          0.024859266355633736,
          0.025013113394379616,
          0.02502467669546604
         ],
         "yaxis": "y2"
        }
       ],
       "layout": {
        "annotations": [
         {
          "font": {
           "size": 16
          },
          "showarrow": false,
          "text": "Model Accuracy",
          "x": 0.225,
          "xanchor": "center",
          "xref": "paper",
          "y": 1,
          "yanchor": "bottom",
          "yref": "paper"
         },
         {
          "font": {
           "size": 16
          },
          "showarrow": false,
          "text": "Model Loss",
          "x": 0.775,
          "xanchor": "center",
          "xref": "paper",
          "y": 1,
          "yanchor": "bottom",
          "yref": "paper"
         }
        ],
        "template": {
         "data": {
          "bar": [
           {
            "error_x": {
             "color": "#2a3f5f"
            },
            "error_y": {
             "color": "#2a3f5f"
            },
            "marker": {
             "line": {
              "color": "#E5ECF6",
              "width": 0.5
             },
             "pattern": {
              "fillmode": "overlay",
              "size": 10,
              "solidity": 0.2
             }
            },
            "type": "bar"
           }
          ],
          "barpolar": [
           {
            "marker": {
             "line": {
              "color": "#E5ECF6",
              "width": 0.5
             },
             "pattern": {
              "fillmode": "overlay",
              "size": 10,
              "solidity": 0.2
             }
            },
            "type": "barpolar"
           }
          ],
          "carpet": [
           {
            "aaxis": {
             "endlinecolor": "#2a3f5f",
             "gridcolor": "white",
             "linecolor": "white",
             "minorgridcolor": "white",
             "startlinecolor": "#2a3f5f"
            },
            "baxis": {
             "endlinecolor": "#2a3f5f",
             "gridcolor": "white",
             "linecolor": "white",
             "minorgridcolor": "white",
             "startlinecolor": "#2a3f5f"
            },
            "type": "carpet"
           }
          ],
          "choropleth": [
           {
            "colorbar": {
             "outlinewidth": 0,
             "ticks": ""
            },
            "type": "choropleth"
           }
          ],
          "contour": [
           {
            "colorbar": {
             "outlinewidth": 0,
             "ticks": ""
            },
            "colorscale": [
             [
              0,
              "#0d0887"
             ],
             [
              0.1111111111111111,
              "#46039f"
             ],
             [
              0.2222222222222222,
              "#7201a8"
             ],
             [
              0.3333333333333333,
              "#9c179e"
             ],
             [
              0.4444444444444444,
              "#bd3786"
             ],
             [
              0.5555555555555556,
              "#d8576b"
             ],
             [
              0.6666666666666666,
              "#ed7953"
             ],
             [
              0.7777777777777778,
              "#fb9f3a"
             ],
             [
              0.8888888888888888,
              "#fdca26"
             ],
             [
              1,
              "#f0f921"
             ]
            ],
            "type": "contour"
           }
          ],
          "contourcarpet": [
           {
            "colorbar": {
             "outlinewidth": 0,
             "ticks": ""
            },
            "type": "contourcarpet"
           }
          ],
          "heatmap": [
           {
            "colorbar": {
             "outlinewidth": 0,
             "ticks": ""
            },
            "colorscale": [
             [
              0,
              "#0d0887"
             ],
             [
              0.1111111111111111,
              "#46039f"
             ],
             [
              0.2222222222222222,
              "#7201a8"
             ],
             [
              0.3333333333333333,
              "#9c179e"
             ],
             [
              0.4444444444444444,
              "#bd3786"
             ],
             [
              0.5555555555555556,
              "#d8576b"
             ],
             [
              0.6666666666666666,
              "#ed7953"
             ],
             [
              0.7777777777777778,
              "#fb9f3a"
             ],
             [
              0.8888888888888888,
              "#fdca26"
             ],
             [
              1,
              "#f0f921"
             ]
            ],
            "type": "heatmap"
           }
          ],
          "heatmapgl": [
           {
            "colorbar": {
             "outlinewidth": 0,
             "ticks": ""
            },
            "colorscale": [
             [
              0,
              "#0d0887"
             ],
             [
              0.1111111111111111,
              "#46039f"
             ],
             [
              0.2222222222222222,
              "#7201a8"
             ],
             [
              0.3333333333333333,
              "#9c179e"
             ],
             [
              0.4444444444444444,
              "#bd3786"
             ],
             [
              0.5555555555555556,
              "#d8576b"
             ],
             [
              0.6666666666666666,
              "#ed7953"
             ],
             [
              0.7777777777777778,
              "#fb9f3a"
             ],
             [
              0.8888888888888888,
              "#fdca26"
             ],
             [
              1,
              "#f0f921"
             ]
            ],
            "type": "heatmapgl"
           }
          ],
          "histogram": [
           {
            "marker": {
             "pattern": {
              "fillmode": "overlay",
              "size": 10,
              "solidity": 0.2
             }
            },
            "type": "histogram"
           }
          ],
          "histogram2d": [
           {
            "colorbar": {
             "outlinewidth": 0,
             "ticks": ""
            },
            "colorscale": [
             [
              0,
              "#0d0887"
             ],
             [
              0.1111111111111111,
              "#46039f"
             ],
             [
              0.2222222222222222,
              "#7201a8"
             ],
             [
              0.3333333333333333,
              "#9c179e"
             ],
             [
              0.4444444444444444,
              "#bd3786"
             ],
             [
              0.5555555555555556,
              "#d8576b"
             ],
             [
              0.6666666666666666,
              "#ed7953"
             ],
             [
              0.7777777777777778,
              "#fb9f3a"
             ],
             [
              0.8888888888888888,
              "#fdca26"
             ],
             [
              1,
              "#f0f921"
             ]
            ],
            "type": "histogram2d"
           }
          ],
          "histogram2dcontour": [
           {
            "colorbar": {
             "outlinewidth": 0,
             "ticks": ""
            },
            "colorscale": [
             [
              0,
              "#0d0887"
             ],
             [
              0.1111111111111111,
              "#46039f"
             ],
             [
              0.2222222222222222,
              "#7201a8"
             ],
             [
              0.3333333333333333,
              "#9c179e"
             ],
             [
              0.4444444444444444,
              "#bd3786"
             ],
             [
              0.5555555555555556,
              "#d8576b"
             ],
             [
              0.6666666666666666,
              "#ed7953"
             ],
             [
              0.7777777777777778,
              "#fb9f3a"
             ],
             [
              0.8888888888888888,
              "#fdca26"
             ],
             [
              1,
              "#f0f921"
             ]
            ],
            "type": "histogram2dcontour"
           }
          ],
          "mesh3d": [
           {
            "colorbar": {
             "outlinewidth": 0,
             "ticks": ""
            },
            "type": "mesh3d"
           }
          ],
          "parcoords": [
           {
            "line": {
             "colorbar": {
              "outlinewidth": 0,
              "ticks": ""
             }
            },
            "type": "parcoords"
           }
          ],
          "pie": [
           {
            "automargin": true,
            "type": "pie"
           }
          ],
          "scatter": [
           {
            "fillpattern": {
             "fillmode": "overlay",
             "size": 10,
             "solidity": 0.2
            },
            "type": "scatter"
           }
          ],
          "scatter3d": [
           {
            "line": {
             "colorbar": {
              "outlinewidth": 0,
              "ticks": ""
             }
            },
            "marker": {
             "colorbar": {
              "outlinewidth": 0,
              "ticks": ""
             }
            },
            "type": "scatter3d"
           }
          ],
          "scattercarpet": [
           {
            "marker": {
             "colorbar": {
              "outlinewidth": 0,
              "ticks": ""
             }
            },
            "type": "scattercarpet"
           }
          ],
          "scattergeo": [
           {
            "marker": {
             "colorbar": {
              "outlinewidth": 0,
              "ticks": ""
             }
            },
            "type": "scattergeo"
           }
          ],
          "scattergl": [
           {
            "marker": {
             "colorbar": {
              "outlinewidth": 0,
              "ticks": ""
             }
            },
            "type": "scattergl"
           }
          ],
          "scattermapbox": [
           {
            "marker": {
             "colorbar": {
              "outlinewidth": 0,
              "ticks": ""
             }
            },
            "type": "scattermapbox"
           }
          ],
          "scatterpolar": [
           {
            "marker": {
             "colorbar": {
              "outlinewidth": 0,
              "ticks": ""
             }
            },
            "type": "scatterpolar"
           }
          ],
          "scatterpolargl": [
           {
            "marker": {
             "colorbar": {
              "outlinewidth": 0,
              "ticks": ""
             }
            },
            "type": "scatterpolargl"
           }
          ],
          "scatterternary": [
           {
            "marker": {
             "colorbar": {
              "outlinewidth": 0,
              "ticks": ""
             }
            },
            "type": "scatterternary"
           }
          ],
          "surface": [
           {
            "colorbar": {
             "outlinewidth": 0,
             "ticks": ""
            },
            "colorscale": [
             [
              0,
              "#0d0887"
             ],
             [
              0.1111111111111111,
              "#46039f"
             ],
             [
              0.2222222222222222,
              "#7201a8"
             ],
             [
              0.3333333333333333,
              "#9c179e"
             ],
             [
              0.4444444444444444,
              "#bd3786"
             ],
             [
              0.5555555555555556,
              "#d8576b"
             ],
             [
              0.6666666666666666,
              "#ed7953"
             ],
             [
              0.7777777777777778,
              "#fb9f3a"
             ],
             [
              0.8888888888888888,
              "#fdca26"
             ],
             [
              1,
              "#f0f921"
             ]
            ],
            "type": "surface"
           }
          ],
          "table": [
           {
            "cells": {
             "fill": {
              "color": "#EBF0F8"
             },
             "line": {
              "color": "white"
             }
            },
            "header": {
             "fill": {
              "color": "#C8D4E3"
             },
             "line": {
              "color": "white"
             }
            },
            "type": "table"
           }
          ]
         },
         "layout": {
          "annotationdefaults": {
           "arrowcolor": "#2a3f5f",
           "arrowhead": 0,
           "arrowwidth": 1
          },
          "autotypenumbers": "strict",
          "coloraxis": {
           "colorbar": {
            "outlinewidth": 0,
            "ticks": ""
           }
          },
          "colorscale": {
           "diverging": [
            [
             0,
             "#8e0152"
            ],
            [
             0.1,
             "#c51b7d"
            ],
            [
             0.2,
             "#de77ae"
            ],
            [
             0.3,
             "#f1b6da"
            ],
            [
             0.4,
             "#fde0ef"
            ],
            [
             0.5,
             "#f7f7f7"
            ],
            [
             0.6,
             "#e6f5d0"
            ],
            [
             0.7,
             "#b8e186"
            ],
            [
             0.8,
             "#7fbc41"
            ],
            [
             0.9,
             "#4d9221"
            ],
            [
             1,
             "#276419"
            ]
           ],
           "sequential": [
            [
             0,
             "#0d0887"
            ],
            [
             0.1111111111111111,
             "#46039f"
            ],
            [
             0.2222222222222222,
             "#7201a8"
            ],
            [
             0.3333333333333333,
             "#9c179e"
            ],
            [
             0.4444444444444444,
             "#bd3786"
            ],
            [
             0.5555555555555556,
             "#d8576b"
            ],
            [
             0.6666666666666666,
             "#ed7953"
            ],
            [
             0.7777777777777778,
             "#fb9f3a"
            ],
            [
             0.8888888888888888,
             "#fdca26"
            ],
            [
             1,
             "#f0f921"
            ]
           ],
           "sequentialminus": [
            [
             0,
             "#0d0887"
            ],
            [
             0.1111111111111111,
             "#46039f"
            ],
            [
             0.2222222222222222,
             "#7201a8"
            ],
            [
             0.3333333333333333,
             "#9c179e"
            ],
            [
             0.4444444444444444,
             "#bd3786"
            ],
            [
             0.5555555555555556,
             "#d8576b"
            ],
            [
             0.6666666666666666,
             "#ed7953"
            ],
            [
             0.7777777777777778,
             "#fb9f3a"
            ],
            [
             0.8888888888888888,
             "#fdca26"
            ],
            [
             1,
             "#f0f921"
            ]
           ]
          },
          "colorway": [
           "#636efa",
           "#EF553B",
           "#00cc96",
           "#ab63fa",
           "#FFA15A",
           "#19d3f3",
           "#FF6692",
           "#B6E880",
           "#FF97FF",
           "#FECB52"
          ],
          "font": {
           "color": "#2a3f5f"
          },
          "geo": {
           "bgcolor": "white",
           "lakecolor": "white",
           "landcolor": "#E5ECF6",
           "showlakes": true,
           "showland": true,
           "subunitcolor": "white"
          },
          "hoverlabel": {
           "align": "left"
          },
          "hovermode": "closest",
          "mapbox": {
           "style": "light"
          },
          "paper_bgcolor": "white",
          "plot_bgcolor": "#E5ECF6",
          "polar": {
           "angularaxis": {
            "gridcolor": "white",
            "linecolor": "white",
            "ticks": ""
           },
           "bgcolor": "#E5ECF6",
           "radialaxis": {
            "gridcolor": "white",
            "linecolor": "white",
            "ticks": ""
           }
          },
          "scene": {
           "xaxis": {
            "backgroundcolor": "#E5ECF6",
            "gridcolor": "white",
            "gridwidth": 2,
            "linecolor": "white",
            "showbackground": true,
            "ticks": "",
            "zerolinecolor": "white"
           },
           "yaxis": {
            "backgroundcolor": "#E5ECF6",
            "gridcolor": "white",
            "gridwidth": 2,
            "linecolor": "white",
            "showbackground": true,
            "ticks": "",
            "zerolinecolor": "white"
           },
           "zaxis": {
            "backgroundcolor": "#E5ECF6",
            "gridcolor": "white",
            "gridwidth": 2,
            "linecolor": "white",
            "showbackground": true,
            "ticks": "",
            "zerolinecolor": "white"
           }
          },
          "shapedefaults": {
           "line": {
            "color": "#2a3f5f"
           }
          },
          "ternary": {
           "aaxis": {
            "gridcolor": "white",
            "linecolor": "white",
            "ticks": ""
           },
           "baxis": {
            "gridcolor": "white",
            "linecolor": "white",
            "ticks": ""
           },
           "bgcolor": "#E5ECF6",
           "caxis": {
            "gridcolor": "white",
            "linecolor": "white",
            "ticks": ""
           }
          },
          "title": {
           "x": 0.05
          },
          "xaxis": {
           "automargin": true,
           "gridcolor": "white",
           "linecolor": "white",
           "ticks": "",
           "title": {
            "standoff": 15
           },
           "zerolinecolor": "white",
           "zerolinewidth": 2
          },
          "yaxis": {
           "automargin": true,
           "gridcolor": "white",
           "linecolor": "white",
           "ticks": "",
           "title": {
            "standoff": 15
           },
           "zerolinecolor": "white",
           "zerolinewidth": 2
          }
         }
        },
        "xaxis": {
         "anchor": "y",
         "domain": [
          0,
          0.45
         ]
        },
        "xaxis2": {
         "anchor": "y2",
         "domain": [
          0.55,
          1
         ]
        },
        "yaxis": {
         "anchor": "x",
         "domain": [
          0,
          1
         ]
        },
        "yaxis2": {
         "anchor": "x2",
         "domain": [
          0,
          1
         ]
        }
       }
      }
     },
     "metadata": {},
     "output_type": "display_data"
    }
   ],
   "source": [
    "model = create_model()\n",
    "history = train_model(model, X_train, Y_train, EPOCHS=50)\n",
    "plot_model_training_curve(history)"
   ]
  },
  {
   "cell_type": "code",
   "execution_count": 32,
   "metadata": {
    "collapsed": false,
    "is_executing": true
   },
   "outputs": [
    {
     "name": "stdout",
     "output_type": "stream",
     "text": [
      "Score: loss of 0.005834400653839111; accuracy of 99.73985552787781%\n"
     ]
    },
    {
     "name": "stderr",
     "output_type": "stream",
     "text": [
      "C:\\Users\\asiae\\AppData\\Roaming\\Python\\Python311\\site-packages\\keras\\src\\engine\\training.py:3103: UserWarning:\n",
      "\n",
      "You are saving your model as an HDF5 file via `model.save()`. This file format is considered legacy. We recommend using instead the native Keras format, e.g. `model.save('my_model.keras')`.\n",
      "\n"
     ]
    }
   ],
   "source": [
    "# 전체 데이터에 대한 성능 평가 및 저장\n",
    "scores = model.evaluate(X_test, Y_test, verbose=0)\n",
    "print(f'Score: {model.metrics_names[0]} of {scores[0]}; {model.metrics_names[1]} of {scores[1]*100}%')\n",
    "model_file = 'Eyelid_Tumor.h5'\n",
    "model.save(model_file)"
   ]
  },
  {
   "cell_type": "markdown",
   "metadata": {},
   "source": [
    "## validation 데이터로 검증"
   ]
  },
  {
   "cell_type": "markdown",
   "metadata": {},
   "source": [
    "### validation 데이터 전처리"
   ]
  },
  {
   "cell_type": "code",
   "execution_count": 36,
   "metadata": {},
   "outputs": [],
   "source": [
    "# 데이터프레임 생성\n",
    "val_df = pd.DataFrame(columns=[\"breed\", \"age\", \"gender\", \"eye_position\", \"lesions\", \"label_disease_lv_1\", \"label_disease_lv_2\", \"label_disease_lv_3\", \"path\", \"img_path\"])\n",
    "\n",
    "# 디렉토리 경로\n",
    "val_directory_paths = [r\"D:\\반려동물 안구질환 데이터\\2.Validation\\안검종양\"]\n",
    "\n",
    "# 빈 리스트 생성\n",
    "val_data_list = []\n",
    "\n",
    "# 디렉토리 내 JSON 파일 읽기\n",
    "for directory_path in val_directory_paths:\n",
    "    for filename in os.listdir(directory_path):\n",
    "        if filename.endswith('.json'):\n",
    "            with open(os.path.join(directory_path, filename), 'r', encoding='utf-8') as file:\n",
    "                json_data = json.load(file)\n",
    "\n",
    "                # 데이터프레임 생성을 위한 정보 추출\n",
    "                breed = json_data[\"images\"][\"meta\"][\"breed\"]\n",
    "                age = json_data[\"images\"][\"meta\"][\"age\"]\n",
    "                gender = json_data[\"images\"][\"meta\"][\"gender\"]\n",
    "                eye_position = json_data[\"images\"][\"meta\"][\"eye_position\"]\n",
    "                lesions = json_data[\"label\"][\"label_disease_nm\"]\n",
    "                label_disease_lv_1 = json_data[\"label\"][\"label_disease_lv_1\"]\n",
    "                label_disease_lv_2 = json_data[\"label\"][\"label_disease_lv_2\"]\n",
    "                label_disease_lv_3 = json_data[\"label\"][\"label_disease_lv_3\"]\n",
    "                img_path = os.path.join(directory_path, json_data[\"label\"][\"label_filename\"])\n",
    "\n",
    "                # 데이터 리스트에 추가\n",
    "                val_data_list.append([breed, age, gender, eye_position, lesions, label_disease_lv_1, label_disease_lv_2, label_disease_lv_3, img_path])"
   ]
  },
  {
   "cell_type": "code",
   "execution_count": 37,
   "metadata": {},
   "outputs": [
    {
     "data": {
      "text/html": [
       "<div>\n",
       "<style scoped>\n",
       "    .dataframe tbody tr th:only-of-type {\n",
       "        vertical-align: middle;\n",
       "    }\n",
       "\n",
       "    .dataframe tbody tr th {\n",
       "        vertical-align: top;\n",
       "    }\n",
       "\n",
       "    .dataframe thead th {\n",
       "        text-align: right;\n",
       "    }\n",
       "</style>\n",
       "<table border=\"1\" class=\"dataframe\">\n",
       "  <thead>\n",
       "    <tr style=\"text-align: right;\">\n",
       "      <th></th>\n",
       "      <th>breed</th>\n",
       "      <th>age</th>\n",
       "      <th>gender</th>\n",
       "      <th>eye_position</th>\n",
       "      <th>lesions</th>\n",
       "      <th>label_disease_lv_1</th>\n",
       "      <th>label_disease_lv_2</th>\n",
       "      <th>label_disease_lv_3</th>\n",
       "      <th>img_path</th>\n",
       "    </tr>\n",
       "  </thead>\n",
       "  <tbody>\n",
       "    <tr>\n",
       "      <th>0</th>\n",
       "      <td>미니어처 핀셔</td>\n",
       "      <td>7.0</td>\n",
       "      <td>1.0</td>\n",
       "      <td>왼쪽눈</td>\n",
       "      <td>안검종양</td>\n",
       "      <td>무</td>\n",
       "      <td>무</td>\n",
       "      <td>무</td>\n",
       "      <td>D:\\반려동물 안구질환 데이터\\2.Validation\\안검종양\\crop_D0_03b...</td>\n",
       "    </tr>\n",
       "    <tr>\n",
       "      <th>1</th>\n",
       "      <td>믹스</td>\n",
       "      <td>10.0</td>\n",
       "      <td>0.0</td>\n",
       "      <td>오른쪽눈</td>\n",
       "      <td>안검종양</td>\n",
       "      <td>무</td>\n",
       "      <td>무</td>\n",
       "      <td>무</td>\n",
       "      <td>D:\\반려동물 안구질환 데이터\\2.Validation\\안검종양\\crop_D0_03c...</td>\n",
       "    </tr>\n",
       "    <tr>\n",
       "      <th>2</th>\n",
       "      <td>닥스훈트</td>\n",
       "      <td>4.0</td>\n",
       "      <td>1.0</td>\n",
       "      <td>오른쪽눈</td>\n",
       "      <td>안검종양</td>\n",
       "      <td>무</td>\n",
       "      <td>무</td>\n",
       "      <td>무</td>\n",
       "      <td>D:\\반려동물 안구질환 데이터\\2.Validation\\안검종양\\crop_D0_0bf...</td>\n",
       "    </tr>\n",
       "    <tr>\n",
       "      <th>3</th>\n",
       "      <td>믹스</td>\n",
       "      <td>4.0</td>\n",
       "      <td>1.0</td>\n",
       "      <td>왼쪽눈</td>\n",
       "      <td>안검종양</td>\n",
       "      <td>무</td>\n",
       "      <td>무</td>\n",
       "      <td>무</td>\n",
       "      <td>D:\\반려동물 안구질환 데이터\\2.Validation\\안검종양\\crop_D0_0c1...</td>\n",
       "    </tr>\n",
       "    <tr>\n",
       "      <th>4</th>\n",
       "      <td>토이 푸들</td>\n",
       "      <td>7.0</td>\n",
       "      <td>0.0</td>\n",
       "      <td>왼쪽눈</td>\n",
       "      <td>안검종양</td>\n",
       "      <td>무</td>\n",
       "      <td>무</td>\n",
       "      <td>무</td>\n",
       "      <td>D:\\반려동물 안구질환 데이터\\2.Validation\\안검종양\\crop_D0_0c4...</td>\n",
       "    </tr>\n",
       "    <tr>\n",
       "      <th>...</th>\n",
       "      <td>...</td>\n",
       "      <td>...</td>\n",
       "      <td>...</td>\n",
       "      <td>...</td>\n",
       "      <td>...</td>\n",
       "      <td>...</td>\n",
       "      <td>...</td>\n",
       "      <td>...</td>\n",
       "      <td>...</td>\n",
       "    </tr>\n",
       "    <tr>\n",
       "      <th>1171</th>\n",
       "      <td>말티즈</td>\n",
       "      <td>5.0</td>\n",
       "      <td>0.0</td>\n",
       "      <td>오른쪽눈</td>\n",
       "      <td>안검종양</td>\n",
       "      <td>유</td>\n",
       "      <td>유</td>\n",
       "      <td>유</td>\n",
       "      <td>D:\\반려동물 안구질환 데이터\\2.Validation\\안검종양\\crop_D9_355...</td>\n",
       "    </tr>\n",
       "    <tr>\n",
       "      <th>1172</th>\n",
       "      <td>페키니즈</td>\n",
       "      <td>15.0</td>\n",
       "      <td>0.0</td>\n",
       "      <td>왼쪽눈</td>\n",
       "      <td>안검종양</td>\n",
       "      <td>유</td>\n",
       "      <td>유</td>\n",
       "      <td>유</td>\n",
       "      <td>D:\\반려동물 안구질환 데이터\\2.Validation\\안검종양\\crop_D9_355...</td>\n",
       "    </tr>\n",
       "    <tr>\n",
       "      <th>1173</th>\n",
       "      <td>말티즈</td>\n",
       "      <td>15.0</td>\n",
       "      <td>0.0</td>\n",
       "      <td>오른쪽눈</td>\n",
       "      <td>안검종양</td>\n",
       "      <td>유</td>\n",
       "      <td>유</td>\n",
       "      <td>유</td>\n",
       "      <td>D:\\반려동물 안구질환 데이터\\2.Validation\\안검종양\\crop_D9_355...</td>\n",
       "    </tr>\n",
       "    <tr>\n",
       "      <th>1174</th>\n",
       "      <td>오스트레일리언 실키 테리어</td>\n",
       "      <td>15.0</td>\n",
       "      <td>0.0</td>\n",
       "      <td>오른쪽눈</td>\n",
       "      <td>안검종양</td>\n",
       "      <td>무</td>\n",
       "      <td>유</td>\n",
       "      <td>유</td>\n",
       "      <td>D:\\반려동물 안구질환 데이터\\2.Validation\\안검종양\\crop_D9_3dc...</td>\n",
       "    </tr>\n",
       "    <tr>\n",
       "      <th>1175</th>\n",
       "      <td>오스트레일리언 실키 테리어</td>\n",
       "      <td>15.0</td>\n",
       "      <td>0.0</td>\n",
       "      <td>오른쪽눈</td>\n",
       "      <td>안검종양</td>\n",
       "      <td>무</td>\n",
       "      <td>유</td>\n",
       "      <td>유</td>\n",
       "      <td>D:\\반려동물 안구질환 데이터\\2.Validation\\안검종양\\crop_D9_3dc...</td>\n",
       "    </tr>\n",
       "  </tbody>\n",
       "</table>\n",
       "<p>1176 rows × 9 columns</p>\n",
       "</div>"
      ],
      "text/plain": [
       "               breed   age  gender eye_position lesions label_disease_lv_1  \\\n",
       "0            미니어처 핀셔   7.0     1.0          왼쪽눈    안검종양                  무   \n",
       "1                 믹스  10.0     0.0         오른쪽눈    안검종양                  무   \n",
       "2               닥스훈트   4.0     1.0         오른쪽눈    안검종양                  무   \n",
       "3                 믹스   4.0     1.0          왼쪽눈    안검종양                  무   \n",
       "4              토이 푸들   7.0     0.0          왼쪽눈    안검종양                  무   \n",
       "...              ...   ...     ...          ...     ...                ...   \n",
       "1171             말티즈   5.0     0.0         오른쪽눈    안검종양                  유   \n",
       "1172            페키니즈  15.0     0.0          왼쪽눈    안검종양                  유   \n",
       "1173             말티즈  15.0     0.0         오른쪽눈    안검종양                  유   \n",
       "1174  오스트레일리언 실키 테리어  15.0     0.0         오른쪽눈    안검종양                  무   \n",
       "1175  오스트레일리언 실키 테리어  15.0     0.0         오른쪽눈    안검종양                  무   \n",
       "\n",
       "     label_disease_lv_2 label_disease_lv_3  \\\n",
       "0                     무                  무   \n",
       "1                     무                  무   \n",
       "2                     무                  무   \n",
       "3                     무                  무   \n",
       "4                     무                  무   \n",
       "...                 ...                ...   \n",
       "1171                  유                  유   \n",
       "1172                  유                  유   \n",
       "1173                  유                  유   \n",
       "1174                  유                  유   \n",
       "1175                  유                  유   \n",
       "\n",
       "                                               img_path  \n",
       "0     D:\\반려동물 안구질환 데이터\\2.Validation\\안검종양\\crop_D0_03b...  \n",
       "1     D:\\반려동물 안구질환 데이터\\2.Validation\\안검종양\\crop_D0_03c...  \n",
       "2     D:\\반려동물 안구질환 데이터\\2.Validation\\안검종양\\crop_D0_0bf...  \n",
       "3     D:\\반려동물 안구질환 데이터\\2.Validation\\안검종양\\crop_D0_0c1...  \n",
       "4     D:\\반려동물 안구질환 데이터\\2.Validation\\안검종양\\crop_D0_0c4...  \n",
       "...                                                 ...  \n",
       "1171  D:\\반려동물 안구질환 데이터\\2.Validation\\안검종양\\crop_D9_355...  \n",
       "1172  D:\\반려동물 안구질환 데이터\\2.Validation\\안검종양\\crop_D9_355...  \n",
       "1173  D:\\반려동물 안구질환 데이터\\2.Validation\\안검종양\\crop_D9_355...  \n",
       "1174  D:\\반려동물 안구질환 데이터\\2.Validation\\안검종양\\crop_D9_3dc...  \n",
       "1175  D:\\반려동물 안구질환 데이터\\2.Validation\\안검종양\\crop_D9_3dc...  \n",
       "\n",
       "[1176 rows x 9 columns]"
      ]
     },
     "execution_count": 37,
     "metadata": {},
     "output_type": "execute_result"
    }
   ],
   "source": [
    "# 데이터프레임 생성\n",
    "val_df = pd.DataFrame(val_data_list, columns=[\"breed\", \"age\", \"gender\", \"eye_position\", \"lesions\", \"label_disease_lv_1\", \"label_disease_lv_2\", \"label_disease_lv_3\", \"img_path\"])\n",
    "val_df"
   ]
  },
  {
   "cell_type": "code",
   "execution_count": 38,
   "metadata": {},
   "outputs": [
    {
     "name": "stdout",
     "output_type": "stream",
     "text": [
      "0\n"
     ]
    }
   ],
   "source": [
    "# 확장자 없는 애 찾기\n",
    "val_img_path_list = list(val_df['img_path'])\n",
    "\n",
    "no_file=0\n",
    "for idx, img_path in enumerate(val_img_path_list):\n",
    "    if os.path.exists(img_path):\n",
    "        pass\n",
    "        # print(f\"File exists: {img_path}\")\n",
    "    else:\n",
    "        print(idx)\n",
    "        no_file += 1\n",
    "        print(f\"File does not exist: {img_path}\")\n",
    "        \n",
    "print(no_file)"
   ]
  },
  {
   "cell_type": "code",
   "execution_count": 39,
   "metadata": {},
   "outputs": [
    {
     "name": "stdout",
     "output_type": "stream",
     "text": [
      "[0 1]\n",
      "[0 1]\n",
      "[0 1]\n",
      "[0 1]\n"
     ]
    }
   ],
   "source": [
    "# 이미지 데이터 사이즈 변경\n",
    "import numpy as np\n",
    "val_df['image_pixel'] = val_df['img_path'].map(lambda x: np.asarray(Image.open(x).resize((50,50))))\n",
    "\n",
    "# Define a function to map values to 0 or 1\n",
    "def map_to_binary(value):\n",
    "    return 0 if value == '무' else 1\n",
    "\n",
    "# Apply the function to the specified columns\n",
    "columns_to_map = ['label_disease_lv_1', 'label_disease_lv_2', 'label_disease_lv_3']\n",
    "for column in columns_to_map:\n",
    "    val_df[column] = val_df[column].apply(lambda x: map_to_binary(x))\n",
    "\n",
    "# Print unique values to verify the transformation\n",
    "for column in columns_to_map:\n",
    "    print(val_df[column].unique())\n",
    "\n",
    "def check_disease_presence(row):\n",
    "    if row['label_disease_lv_1'] == 0 and row['label_disease_lv_2'] == 0 and row['label_disease_lv_3'] == 0:\n",
    "        return 0\n",
    "    else:\n",
    "        return 1\n",
    "\n",
    "val_df['path'] = val_df.apply(check_disease_presence, axis=1)\n",
    "\n",
    "print(val_df['path'].unique())"
   ]
  },
  {
   "cell_type": "code",
   "execution_count": 40,
   "metadata": {},
   "outputs": [
    {
     "name": "stdout",
     "output_type": "stream",
     "text": [
      "Test Loss: 0.005196868907660246\n",
      "Test Accuracy: 0.9989594221115112\n"
     ]
    }
   ],
   "source": [
    "# 1. 모델 불러오기\n",
    "from keras.models import load_model\n",
    "model = load_model('Eyelid_Tumor.h5')\n",
    "\n",
    "# 2. 모델 컴파일\n",
    "model.compile(optimizer='adam', loss='sparse_categorical_crossentropy', metrics=['accuracy'])\n",
    "\n",
    "\n",
    "# 3. Evaluate the model on the test data\n",
    "loss, accuracy = model.evaluate(X_aug, Y_aug, verbose=0)\n",
    "print(f'Test Loss: {loss}')\n",
    "print(f'Test Accuracy: {accuracy}')"
   ]
  }
 ],
 "metadata": {
  "anaconda-cloud": {},
  "kernelspec": {
   "display_name": "Python 3 (ipykernel)",
   "language": "python",
   "name": "python3"
  },
  "language_info": {
   "codemirror_mode": {
    "name": "ipython",
    "version": 3
   },
   "file_extension": ".py",
   "mimetype": "text/x-python",
   "name": "python",
   "nbconvert_exporter": "python",
   "pygments_lexer": "ipython3",
   "version": "3.11.5"
  },
  "latex_envs": {
   "LaTeX_envs_menu_present": true,
   "autoclose": false,
   "autocomplete": true,
   "bibliofile": "biblio.bib",
   "cite_by": "apalike",
   "current_citInitial": 1,
   "eqLabelWithNumbers": true,
   "eqNumInitial": 1,
   "hotkeys": {
    "equation": "Ctrl-E",
    "itemize": "Ctrl-I"
   },
   "labels_anchors": false,
   "latex_user_defs": false,
   "report_style_numbering": false,
   "user_envs_cfg": false
  },
  "nav_menu": {},
  "toc": {
   "base_numbering": 1,
   "nav_menu": {
    "height": "400px",
    "width": "252px"
   },
   "number_sections": false,
   "sideBar": true,
   "skip_h1_title": false,
   "title_cell": "Table of Contents",
   "title_sidebar": "Contents",
   "toc_cell": false,
   "toc_position": {
    "height": "545px",
    "left": "0px",
    "right": "1154px",
    "top": "111px",
    "width": "212px"
   },
   "toc_section_display": "block",
   "toc_window_display": false
  },
  "toc_position": {
   "height": "503px",
   "left": "0px",
   "right": "952.167px",
   "top": "107px",
   "width": "300px"
  }
 },
 "nbformat": 4,
 "nbformat_minor": 2
}
