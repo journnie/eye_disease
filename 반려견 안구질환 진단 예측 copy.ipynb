{
 "cells": [
  {
   "cell_type": "markdown",
   "metadata": {},
   "source": [
    "# 반려견 안구질환 진단 예측 프로젝트 - 두부는 단단"
   ]
  },
  {
   "cell_type": "code",
   "execution_count": 1,
   "metadata": {},
   "outputs": [],
   "source": [
    "# 라이브러리 임포트\n",
    "import os\n",
    "import glob\n",
    "import json\n",
    "import pandas as pd"
   ]
  },
  {
   "cell_type": "code",
   "execution_count": null,
   "metadata": {},
   "outputs": [],
   "source": [
    "# 데이터프레임 생성\n",
    "df = pd.DataFrame(columns=[\"breed\", \"age\", \"gender\", \"region\", \"lesions\", \"Path\", \"src_path\", \"label_path\"])\n",
    "\n",
    "# 디렉토리 경로\n",
    "directory_paths = [r\"D:\\반려동물 피부질환 데이터\\1.Training\\유증상\\A1_구진_플라크\", \n",
    "                   r\"D:\\반려동물 피부질환 데이터\\1.Training\\무증상\\A1_구진_플라크\"]\n",
    "\n",
    "# 빈 리스트 생성\n",
    "data_list = []\n",
    "\n",
    "# 디렉토리 내의 파일들에 대해 반복하여 정보를 데이터프레임에 추가\n",
    "for directory_path in directory_paths:\n",
    "    for file_path in glob.glob(os.path.join(directory_path, \"*.json\")):\n",
    "        with open(file_path, 'r', encoding='utf-8') as file:  # 인코딩 추가\n",
    "            json_data = json.load(file)\n",
    "            data = {\n",
    "                \"breed\": json_data['metaData']['breed'],\n",
    "                \"age\": json_data['metaData']['age'],\n",
    "                \"gender\": json_data['metaData']['gender'],\n",
    "                \"region\": json_data['metaData']['region'],\n",
    "                \"lesions\": json_data['metaData']['lesions'],\n",
    "                \"Path\": json_data['metaData']['Path'],\n",
    "                \"src_path\": json_data['metaData']['src_path'],\n",
    "                \"label_path\": json_data['metaData']['label_path']\n",
    "            }\n",
    "            data_list.append(data)\n",
    "\n",
    "# 데이터프레임 생성\n",
    "df = pd.DataFrame(data_list)\n",
    "df"
   ]
  }
 ],
 "metadata": {
  "anaconda-cloud": {},
  "kernelspec": {
   "display_name": "Python 3 (ipykernel)",
   "language": "python",
   "name": "python3"
  },
  "language_info": {
   "codemirror_mode": {
    "name": "ipython",
    "version": 3
   },
   "file_extension": ".py",
   "mimetype": "text/x-python",
   "name": "python",
   "nbconvert_exporter": "python",
   "pygments_lexer": "ipython3",
   "version": "3.11.5"
  },
  "latex_envs": {
   "LaTeX_envs_menu_present": true,
   "autoclose": false,
   "autocomplete": true,
   "bibliofile": "biblio.bib",
   "cite_by": "apalike",
   "current_citInitial": 1,
   "eqLabelWithNumbers": true,
   "eqNumInitial": 1,
   "hotkeys": {
    "equation": "Ctrl-E",
    "itemize": "Ctrl-I"
   },
   "labels_anchors": false,
   "latex_user_defs": false,
   "report_style_numbering": false,
   "user_envs_cfg": false
  },
  "nav_menu": {},
  "toc": {
   "base_numbering": 1,
   "nav_menu": {
    "height": "400px",
    "width": "252px"
   },
   "number_sections": false,
   "sideBar": true,
   "skip_h1_title": false,
   "title_cell": "Table of Contents",
   "title_sidebar": "Contents",
   "toc_cell": false,
   "toc_position": {
    "height": "545px",
    "left": "0px",
    "right": "1154px",
    "top": "111px",
    "width": "212px"
   },
   "toc_section_display": "block",
   "toc_window_display": false
  },
  "toc_position": {
   "height": "503px",
   "left": "0px",
   "right": "952.167px",
   "top": "107px",
   "width": "300px"
  }
 },
 "nbformat": 4,
 "nbformat_minor": 2
}
