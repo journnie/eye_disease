{
 "cells": [
  {
   "cell_type": "markdown",
   "metadata": {},
   "source": [
    "# 반려견 안구질환 진단 예측 프로젝트 - 두부는 단단"
   ]
  },
  {
   "cell_type": "code",
   "execution_count": 1,
   "metadata": {
    "ExecuteTime": {
     "end_time": "2024-03-27T08:19:28.461418Z",
     "start_time": "2024-03-27T08:19:28.458558Z"
    }
   },
   "outputs": [],
   "source": [
    "# 라이브러리 임포트\n",
    "import os\n",
    "import glob\n",
    "import json\n",
    "import pandas as pd"
   ]
  },
  {
   "cell_type": "code",
   "execution_count": 5,
   "metadata": {},
   "outputs": [
    {
     "data": {
      "text/html": [
       "<div>\n",
       "<style scoped>\n",
       "    .dataframe tbody tr th:only-of-type {\n",
       "        vertical-align: middle;\n",
       "    }\n",
       "\n",
       "    .dataframe tbody tr th {\n",
       "        vertical-align: top;\n",
       "    }\n",
       "\n",
       "    .dataframe thead th {\n",
       "        text-align: right;\n",
       "    }\n",
       "</style>\n",
       "<table border=\"1\" class=\"dataframe\">\n",
       "  <thead>\n",
       "    <tr style=\"text-align: right;\">\n",
       "      <th></th>\n",
       "    </tr>\n",
       "  </thead>\n",
       "  <tbody>\n",
       "  </tbody>\n",
       "</table>\n",
       "</div>"
      ],
      "text/plain": [
       "Empty DataFrame\n",
       "Columns: []\n",
       "Index: []"
      ]
     },
     "execution_count": 5,
     "metadata": {},
     "output_type": "execute_result"
    }
   ],
   "source": [
    "# 데이터프레임 생성\n",
    "df = pd.DataFrame(columns=[\"breed\", \"age\", \"gender\", \"region\", \"lesions\", \"Path\", \"src_path\", \"label_path\"])\n",
    "\n",
    "# 디렉토리 경로\n",
    "directory_paths = [r\"D:\\153.반려동물 안구질환 데이터\\1.Training\\결막염\"]\n",
    "\n",
    "# 빈 리스트 생성\n",
    "data_list = []\n",
    "\n",
    "# 디렉토리 내의 파일들에 대해 반복하여 정보를 데이터프레임에 추가\n",
    "for directory_path in directory_paths:\n",
    "    for file_path in glob.glob(os.path.join(directory_path, \"*.json\")):\n",
    "        with open(file_path, 'r', encoding='utf-8') as file:  # 인코딩 추가\n",
    "            json_data = json.load(file)\n",
    "            data = {\n",
    "                \"breed\": json_data['metaData']['breed'],\n",
    "                \"age\": json_data['metaData']['age'],\n",
    "                \"gender\": json_data['metaData']['gender'],\n",
    "                \"eye_position\": json_data['metaData']['eye_position'],\n",
    "                \"lesions\": json_data['metaData']['label_disease_nm'],\n",
    "                \"Path\": json_data['metaData']['Path'],\n",
    "                \"disease_lv_1\": json_data['metaData']['label_disease_lv_1'],\n",
    "                \"disease_lv_2\": json_data['metaData']['label_disease_lv_2'],\n",
    "                \"disease_lv_3\": json_data['metaData']['label_disease_lv_3'],\n",
    "                \"img_path\": \"D:\\153.반려동물 안구질환 데이터\\1.Training\\결막염\"+json_data['metaData']['label_filename']\n",
    "            }\n",
    "            data_list.append(data)\n",
    "\n",
    "# 데이터프레임 생성\n",
    "df = pd.DataFrame(data_list)\n",
    "df"
   ]
  },
  {
   "cell_type": "code",
   "execution_count": 8,
   "metadata": {},
   "outputs": [
    {
     "data": {
      "text/html": [
       "<div>\n",
       "<style scoped>\n",
       "    .dataframe tbody tr th:only-of-type {\n",
       "        vertical-align: middle;\n",
       "    }\n",
       "\n",
       "    .dataframe tbody tr th {\n",
       "        vertical-align: top;\n",
       "    }\n",
       "\n",
       "    .dataframe thead th {\n",
       "        text-align: right;\n",
       "    }\n",
       "</style>\n",
       "<table border=\"1\" class=\"dataframe\">\n",
       "  <thead>\n",
       "    <tr style=\"text-align: right;\">\n",
       "      <th></th>\n",
       "    </tr>\n",
       "  </thead>\n",
       "  <tbody>\n",
       "  </tbody>\n",
       "</table>\n",
       "</div>"
      ],
      "text/plain": [
       "Empty DataFrame\n",
       "Columns: []\n",
       "Index: []"
      ]
     },
     "execution_count": 8,
     "metadata": {},
     "output_type": "execute_result"
    }
   ],
   "source": [
    "# 데이터프레임 생성\n",
    "df = pd.DataFrame(columns=[\"breed\", \"age\", \"gender\", \"eye_position\", \"lesions\", \"Path\", \"img_path\", \"label_path\"])\n",
    "\n",
    "# 디렉토리 경로\n",
    "directory_path = r\"D:\\반려동물 안구질환 데이터\\1.Training\\결막염\"\n",
    "\n",
    "# 빈 리스트 생성\n",
    "data_list = []\n",
    "\n",
    "# 디렉토리 내의 파일들에 대해 반복하여 정보를 데이터프레임에 추가\n",
    "for file_path in glob.glob(os.path.join(directory_path, \"*.json\")):\n",
    "    with open(file_path, 'r', encoding='utf-8') as file:\n",
    "        json_data = json.load(file)\n",
    "        img_file_name = json_data['images']['meta']['file_name']\n",
    "        label_file_name = json_data['label']['label_filename']\n",
    "        img_path = os.path.join(directory_path, img_file_name)\n",
    "        label_path = os.path.join(directory_path, label_file_name)\n",
    "        \n",
    "        data = {\n",
    "            \"breed\": json_data['images']['meta']['breed'],\n",
    "            \"age\": json_data['images']['meta']['age'],\n",
    "            \"gender\": json_data['images']['meta']['gender'],\n",
    "            \"eye_position\": json_data['images']['meta']['eye_position'],\n",
    "            \"lesions\": json_data['label']['label_disease_nm'],\n",
    "            \"Path\": json_data['label']['label_disease_lv_2'],  # 이 부분이 변경되었습니다.\n",
    "            \"img_path\": img_path,\n",
    "            \"label_path\": label_path\n",
    "        }\n",
    "        data_list.append(data)\n",
    "\n",
    "# 데이터프레임 생성\n",
    "df = pd.DataFrame(data_list)\n",
    "df"
   ]
  },
  {
   "cell_type": "code",
   "execution_count": 23,
   "metadata": {},
   "outputs": [
    {
     "data": {
      "text/html": [
       "<div>\n",
       "<style scoped>\n",
       "    .dataframe tbody tr th:only-of-type {\n",
       "        vertical-align: middle;\n",
       "    }\n",
       "\n",
       "    .dataframe tbody tr th {\n",
       "        vertical-align: top;\n",
       "    }\n",
       "\n",
       "    .dataframe thead th {\n",
       "        text-align: right;\n",
       "    }\n",
       "</style>\n",
       "<table border=\"1\" class=\"dataframe\">\n",
       "  <thead>\n",
       "    <tr style=\"text-align: right;\">\n",
       "      <th></th>\n",
       "    </tr>\n",
       "  </thead>\n",
       "  <tbody>\n",
       "  </tbody>\n",
       "</table>\n",
       "</div>"
      ],
      "text/plain": [
       "Empty DataFrame\n",
       "Columns: []\n",
       "Index: []"
      ]
     },
     "execution_count": 23,
     "metadata": {},
     "output_type": "execute_result"
    }
   ],
   "source": [
    "# 데이터프레임 생성을 위한 빈 리스트\n",
    "data_list = []\n",
    "\n",
    "# 디렉토리 경로\n",
    "directory_path = r\"D:\\반려동물 안질환 데이터\\1.Training\\결막염\"\n",
    "\n",
    "# 빈 리스트 생성\n",
    "data_list = []\n",
    "\n",
    "# 디렉토리 내의 JSON 파일들에 대해 반복하여 정보를 데이터프레임에 추가\n",
    "for file_path in glob.glob(os.path.join(directory_path, \"*.json\")):\n",
    "    with open(file_path, 'r', encoding='utf-8') as file:\n",
    "        json_data = json.load(file)\n",
    "        \n",
    "        # label_disease_lv_1, label_disease_lv_2, label_disease_lv_3 중 하나라도 값이 '유'인 경우에는 '유', 그렇지 않으면 '무' 출력\n",
    "        path_value = '유' if '유' in [json_data['label'][f'label_disease_lv_{i}'] for i in range(1, 4)] else '무'\n",
    "        \n",
    "        # 데이터 리스트에 추가\n",
    "        data_list.append({\n",
    "            \"breed\": json_data['images']['meta']['breed'],\n",
    "            \"age\": json_data['images']['meta']['age'],\n",
    "            \"gender\": json_data['images']['meta']['gender'],\n",
    "            \"eye_position\": json_data['images']['meta']['eye_position'],\n",
    "            \"lesions\": json_data['label']['label_disease_nm'],\n",
    "            \"Path\": path_value,\n",
    "            \"img_path\": os.path.join(directory_path, json_data['images']['meta']['file_name']),\n",
    "            \"label_path\": os.path.join(directory_path, json_data['label']['label_filename'])\n",
    "        })\n",
    "        data_list.append(data)\n",
    "\n",
    "# 데이터프레임 생성\n",
    "df = pd.DataFrame(data_list)\n",
    "df"
   ]
  },
  {
   "cell_type": "code",
   "execution_count": 2,
   "metadata": {},
   "outputs": [
    {
     "ename": "NameError",
     "evalue": "name 'json_data' is not defined",
     "output_type": "error",
     "traceback": [
      "\u001b[1;31m---------------------------------------------------------------------------\u001b[0m",
      "\u001b[1;31mNameError\u001b[0m                                 Traceback (most recent call last)",
      "Cell \u001b[1;32mIn[2], line 3\u001b[0m\n\u001b[0;32m      1\u001b[0m \u001b[38;5;66;03m# 데이터프레임 생성\u001b[39;00m\n\u001b[0;32m      2\u001b[0m data \u001b[38;5;241m=\u001b[39m {\n\u001b[1;32m----> 3\u001b[0m     \u001b[38;5;124m\"\u001b[39m\u001b[38;5;124mbreed\u001b[39m\u001b[38;5;124m\"\u001b[39m: [json_data[\u001b[38;5;124m\"\u001b[39m\u001b[38;5;124mimages\u001b[39m\u001b[38;5;124m\"\u001b[39m][\u001b[38;5;124m\"\u001b[39m\u001b[38;5;124mmeta\u001b[39m\u001b[38;5;124m\"\u001b[39m][\u001b[38;5;124m\"\u001b[39m\u001b[38;5;124mbreed\u001b[39m\u001b[38;5;124m\"\u001b[39m]],\n\u001b[0;32m      4\u001b[0m     \u001b[38;5;124m\"\u001b[39m\u001b[38;5;124mage\u001b[39m\u001b[38;5;124m\"\u001b[39m: [json_data[\u001b[38;5;124m\"\u001b[39m\u001b[38;5;124mimages\u001b[39m\u001b[38;5;124m\"\u001b[39m][\u001b[38;5;124m\"\u001b[39m\u001b[38;5;124mmeta\u001b[39m\u001b[38;5;124m\"\u001b[39m][\u001b[38;5;124m\"\u001b[39m\u001b[38;5;124mage\u001b[39m\u001b[38;5;124m\"\u001b[39m]],\n\u001b[0;32m      5\u001b[0m     \u001b[38;5;124m\"\u001b[39m\u001b[38;5;124mgender\u001b[39m\u001b[38;5;124m\"\u001b[39m: [json_data[\u001b[38;5;124m\"\u001b[39m\u001b[38;5;124mimages\u001b[39m\u001b[38;5;124m\"\u001b[39m][\u001b[38;5;124m\"\u001b[39m\u001b[38;5;124mmeta\u001b[39m\u001b[38;5;124m\"\u001b[39m][\u001b[38;5;124m\"\u001b[39m\u001b[38;5;124mgender\u001b[39m\u001b[38;5;124m\"\u001b[39m]],\n\u001b[0;32m      6\u001b[0m     \u001b[38;5;124m\"\u001b[39m\u001b[38;5;124mregion\u001b[39m\u001b[38;5;124m\"\u001b[39m: json_data[\u001b[38;5;124m\"\u001b[39m\u001b[38;5;124mimages\u001b[39m\u001b[38;5;124m\"\u001b[39m][\u001b[38;5;124m\"\u001b[39m\u001b[38;5;124mmeta\u001b[39m\u001b[38;5;124m\"\u001b[39m][\u001b[38;5;124m\"\u001b[39m\u001b[38;5;124meye_position\u001b[39m\u001b[38;5;124m\"\u001b[39m],\n\u001b[0;32m      7\u001b[0m     \u001b[38;5;124m\"\u001b[39m\u001b[38;5;124mlesions\u001b[39m\u001b[38;5;124m\"\u001b[39m: json_data[\u001b[38;5;124m\"\u001b[39m\u001b[38;5;124mlabel\u001b[39m\u001b[38;5;124m\"\u001b[39m][\u001b[38;5;124m\"\u001b[39m\u001b[38;5;124mlabel_disease_nm\u001b[39m\u001b[38;5;124m\"\u001b[39m],\n\u001b[0;32m      8\u001b[0m     \u001b[38;5;124m\"\u001b[39m\u001b[38;5;124mPath\u001b[39m\u001b[38;5;124m\"\u001b[39m: [json_data[\u001b[38;5;124m\"\u001b[39m\u001b[38;5;124mlabel\u001b[39m\u001b[38;5;124m\"\u001b[39m][\u001b[38;5;124m\"\u001b[39m\u001b[38;5;124mlabel_path\u001b[39m\u001b[38;5;124m\"\u001b[39m]],\n\u001b[0;32m      9\u001b[0m     \u001b[38;5;124m\"\u001b[39m\u001b[38;5;124msrc_path\u001b[39m\u001b[38;5;124m\"\u001b[39m: [\u001b[38;5;124m\"\u001b[39m\u001b[38;5;124m주어진 JSON 데이터의 경로\u001b[39m\u001b[38;5;124m\"\u001b[39m],  \u001b[38;5;66;03m# 주어진 데이터에는 src_path 정보가 없어 임의로 채움\u001b[39;00m\n\u001b[0;32m     10\u001b[0m     \u001b[38;5;124m\"\u001b[39m\u001b[38;5;124mlabel_path\u001b[39m\u001b[38;5;124m\"\u001b[39m: [json_data[\u001b[38;5;124m\"\u001b[39m\u001b[38;5;124mlabel\u001b[39m\u001b[38;5;124m\"\u001b[39m][\u001b[38;5;124m\"\u001b[39m\u001b[38;5;124mlabel_path\u001b[39m\u001b[38;5;124m\"\u001b[39m]]\n\u001b[0;32m     11\u001b[0m }\n\u001b[0;32m     13\u001b[0m df \u001b[38;5;241m=\u001b[39m pd\u001b[38;5;241m.\u001b[39mDataFrame(data)\n\u001b[0;32m     15\u001b[0m \u001b[38;5;28mprint\u001b[39m(df)\n",
      "\u001b[1;31mNameError\u001b[0m: name 'json_data' is not defined"
     ]
    }
   ],
   "source": [
    "# 데이터프레임 생성\n",
    "data = {\n",
    "    \"breed\": [json_data[\"images\"][\"meta\"][\"breed\"]],\n",
    "    \"age\": [json_data[\"images\"][\"meta\"][\"age\"]],\n",
    "    \"gender\": [json_data[\"images\"][\"meta\"][\"gender\"]],\n",
    "    \"region\": json_data[\"images\"][\"meta\"][\"eye_position\"],\n",
    "    \"lesions\": json_data[\"label\"][\"label_disease_nm\"],\n",
    "    \"Path\": [json_data[\"label\"][\"label_path\"]],\n",
    "    \"src_path\": [\"주어진 JSON 데이터의 경로\"],  # 주어진 데이터에는 src_path 정보가 없어 임의로 채움\n",
    "    \"label_path\": [json_data[\"label\"][\"label_path\"]]\n",
    "}\n",
    "\n",
    "df = pd.DataFrame(data)\n",
    "\n",
    "print(df)"
   ]
  }
 ],
 "metadata": {
  "anaconda-cloud": {},
  "kernelspec": {
   "display_name": "Python 3 (ipykernel)",
   "language": "python",
   "name": "python3"
  },
  "language_info": {
   "codemirror_mode": {
    "name": "ipython",
    "version": 3
   },
   "file_extension": ".py",
   "mimetype": "text/x-python",
   "name": "python",
   "nbconvert_exporter": "python",
   "pygments_lexer": "ipython3",
   "version": "3.11.5"
  },
  "latex_envs": {
   "LaTeX_envs_menu_present": true,
   "autoclose": false,
   "autocomplete": true,
   "bibliofile": "biblio.bib",
   "cite_by": "apalike",
   "current_citInitial": 1,
   "eqLabelWithNumbers": true,
   "eqNumInitial": 1,
   "hotkeys": {
    "equation": "Ctrl-E",
    "itemize": "Ctrl-I"
   },
   "labels_anchors": false,
   "latex_user_defs": false,
   "report_style_numbering": false,
   "user_envs_cfg": false
  },
  "nav_menu": {},
  "toc": {
   "base_numbering": 1,
   "nav_menu": {
    "height": "400px",
    "width": "252px"
   },
   "number_sections": false,
   "sideBar": true,
   "skip_h1_title": false,
   "title_cell": "Table of Contents",
   "title_sidebar": "Contents",
   "toc_cell": false,
   "toc_position": {
    "height": "545px",
    "left": "0px",
    "right": "1154px",
    "top": "111px",
    "width": "212px"
   },
   "toc_section_display": "block",
   "toc_window_display": false
  },
  "toc_position": {
   "height": "503px",
   "left": "0px",
   "right": "952.167px",
   "top": "107px",
   "width": "300px"
  }
 },
 "nbformat": 4,
 "nbformat_minor": 2
}
