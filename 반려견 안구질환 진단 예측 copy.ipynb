{
 "cells": [
  {
   "cell_type": "code",
   "execution_count": 53,
   "metadata": {},
   "outputs": [],
   "source": [
    "# 라이브러리 임포트\n",
    "import pandas as pd\n",
    "import numpy as np"
   ]
  },
  {
   "cell_type": "code",
   "execution_count": 54,
   "metadata": {},
   "outputs": [],
   "source": [
    "# 디렉토리에 해당 파일 없으면 디렉토리 변경\n",
    "# import os\n",
    "# data_directory = '/Users/hamhyewon/Desktop/aepython/찐감자와 공주들'\n",
    "# os.chdir(data_directory)\n",
    "# os.getcwd()"
   ]
  },
  {
   "cell_type": "code",
   "execution_count": 65,
   "metadata": {},
   "outputs": [],
   "source": [
    "# 선수 파일 불러오기\n",
    "name = '박석민'\n",
    "player_file_path = f'./merged_data_{name}.xlsx'\n",
    "\n",
    "# 데이터 읽기\n",
    "df = pd.read_excel(player_file_path)\n",
    "\n",
    "# 경기력 일관성 칼럼 추가하기\n",
    "df['경기력 일관성']=df['2타']+df['3타']+df['홈런']\n",
    "\n",
    "# 지역별 경기력 일관성 데이터 추출하기\n",
    "df_Changwon = df[(df['지역'] == '창원') & df['경기력 일관성']]\n"
   ]
  },
  {
   "cell_type": "code",
   "execution_count": 66,
   "metadata": {},
   "outputs": [
    {
     "name": "stdout",
     "output_type": "stream",
     "text": [
      "['9.0 - 12.94', '12.94 - 16.88', '16.88 - 20.82', '20.82 - 24.76', '24.76 - 28.7']\n",
      "['0.8 - 1.22', '1.22 - 1.64', '1.64 - 2.06', '2.06 - 2.48', '2.48 - 2.9']\n",
      "['-9.8 - -3.0', '-3.0 - 3.8', '3.8 - 10.6', '10.6 - 17.4', '17.4 - 24.2']\n"
     ]
    }
   ],
   "source": [
    "# 1. 날씨(기온, 풍속, 이슬점) 데이터의 x축 범위를 5구간으로 나누는 사용자 정의 함수 만들기\n",
    "# 1-1) 범위: (각 데이터별 최고값 - 각 데이터별 최저값) / 5의 값만큼 각 범위에 더해주기\n",
    "# 1-2) 반올림: 범위별 나온 값을 소수점 셋째 자리까지 반올림한 범위를 만들기\n",
    "def ranges_and_labels(data, weather_column):\n",
    "    max_val, min_val = max(data[weather_column]), min(data[weather_column])\n",
    "    width = (max_val - min_val) / 5\n",
    "    ranges = [(min_val + num * width, min_val + (num + 1) * width) for num in range(5)]\n",
    "    rounded_ranges = [(round(start, 3), round(end, 3)) for start, end in ranges]\n",
    "    labels_x = [f\"{start} - {end}\" for start, end in rounded_ranges]\n",
    "    return ranges, labels_x\n",
    "\n",
    "# 1-3) x_range_weather_val에 x 축 범위 구간 저장\n",
    "range_temp, x_range_temp = ranges_and_labels(df_Changwon, '평균기온(°C)')\n",
    "range_wind, x_range_wind = ranges_and_labels(df_Changwon, '평균 풍속(m/s)')\n",
    "range_humid, x_range_humid = ranges_and_labels(df_Changwon, '평균 이슬점온도(°C)')\n",
    "\n",
    "print(x_range_temp)\n",
    "print(x_range_wind)\n",
    "print(x_range_humid)"
   ]
  },
  {
   "cell_type": "code",
   "execution_count": 67,
   "metadata": {},
   "outputs": [
    {
     "name": "stdout",
     "output_type": "stream",
     "text": [
      "[3, 4, 8, 10, 7]\n",
      "[10, 10, 10, 1, 0]\n",
      "[0, 5, 5, 7, 15]\n"
     ]
    }
   ],
   "source": [
    "# 2. 날씨(기온, 풍속, 이슬점) 데이터의 y축 범위를 5구간으로 나누는 사용자 정의 함수 만들기\n",
    "# 2-1) 인덱스 초기화해 for문 돌아갈 때 인덱스 순서대로 조회될 수 있게 함\n",
    "# 2-2) 초기화된 리스트에 y 범위별 값을 for문을 돌면서 부여하기 \n",
    "df_Changwon_reset_idx=df_Changwon.reset_index(drop=True)\n",
    "\n",
    "def weather_and_hits(data, weather_column, total_hits_column):\n",
    "    labels_y = [0] * 5\n",
    "    max_val, min_val = max(data[weather_column]), min(data[weather_column])\n",
    "    width = (max_val - min_val) / 5\n",
    "\n",
    "    for date in range(len(data['날짜'])):\n",
    "        temp = data[weather_column][date]\n",
    "        for num in range(5):\n",
    "            min_range = min_val + num * width\n",
    "            max_range = min_val + (num + 1) * width\n",
    "            labels_y[num] += data[total_hits_column][date] if min_range < temp <= max_range else 0\n",
    "\n",
    "    return labels_y\n",
    "\n",
    "y_range_temp = weather_and_hits(df_Changwon_reset_idx, '평균기온(°C)', '경기력 일관성')\n",
    "y_range_wind = weather_and_hits(df_Changwon_reset_idx, '평균 풍속(m/s)', '경기력 일관성')\n",
    "y_range_humid = weather_and_hits(df_Changwon_reset_idx, '평균 이슬점온도(°C)', '경기력 일관성')\n",
    "\n",
    "print(y_range_temp)\n",
    "print(y_range_wind)\n",
    "print(y_range_humid)\n"
   ]
  },
  {
   "cell_type": "code",
   "execution_count": 68,
   "metadata": {},
   "outputs": [
    {
     "name": "stdout",
     "output_type": "stream",
     "text": [
      "0.25380710659898476\n",
      "-5.9523809523809526\n",
      "0.5514705882352942\n"
     ]
    }
   ],
   "source": [
    "# 3. 날씨(기온, 풍속, 이슬점) 데이터별 x, y 그래프 상 기울기의 평균 구하기\n",
    "def slope(data, y_range, weather_column):\n",
    "    max_val, min_val = max(data[weather_column]), min(data[weather_column])\n",
    "    width = (max_val - min_val) / 5\n",
    "    slope_list = []\n",
    "\n",
    "    for j in range(len(y_range)-1):\n",
    "        slope_value = (y_range[j + 1] - y_range[j]) / width\n",
    "        slope_list.append(slope_value)\n",
    "    slope_weather = sum(slope_list) / len(slope_list)\n",
    "    return slope_weather\n",
    "\n",
    "slope_temp = slope(df_Changwon_reset_idx, y_range_temp, '평균기온(°C)')\n",
    "slope_wind = slope(df_Changwon_reset_idx, y_range_wind, '평균 풍속(m/s)')\n",
    "slope_humid = slope(df_Changwon_reset_idx, y_range_humid, '평균 이슬점온도(°C)')\n",
    "\n",
    "print(slope_temp)\n",
    "print(slope_wind)\n",
    "print(slope_humid)"
   ]
  },
  {
   "cell_type": "code",
   "execution_count": 69,
   "metadata": {},
   "outputs": [
    {
     "name": "stdout",
     "output_type": "stream",
     "text": [
      "20.709090909090907\n",
      "1.4878787878787878\n",
      "13.28787878787879\n"
     ]
    }
   ],
   "source": [
    "# 4. 구장별 날씨(기온, 풍속, 이슬점) 데이터별 평균값 구하기\n",
    "def ballpark_weather_avg(data, weather_column):\n",
    "    initial_val =0\n",
    "\n",
    "    for val in range(len(data[weather_column])):\n",
    "        initial_val += data[weather_column][val]\n",
    "    final_val = initial_val/len(data[weather_column])\n",
    "    return final_val\n",
    "\n",
    "ballpark_temp_avg = ballpark_weather_avg(df_Changwon_reset_idx, '평균기온(°C)')\n",
    "ballpark_wind_avg = ballpark_weather_avg(df_Changwon_reset_idx, '평균 풍속(m/s)')\n",
    "ballpark_humid_avg = ballpark_weather_avg(df_Changwon_reset_idx, '평균 이슬점온도(°C)')\n",
    "\n",
    "print(ballpark_temp_avg)\n",
    "print(ballpark_wind_avg)\n",
    "print(ballpark_humid_avg)"
   ]
  },
  {
   "cell_type": "code",
   "execution_count": 70,
   "metadata": {},
   "outputs": [],
   "source": [
    "# 5. 구장별 파크팩터 구하기\n",
    "# 5-1) 파크팩터 파일 불러오기\n",
    "parkfactor_file_path ='./구장별 파크팩터_논문참고.xlsx'\n",
    "df_parkfactor = pd.read_excel(parkfactor_file_path)\n",
    "df_parkfactor\n",
    "\n",
    "\n",
    "# 5-2) 파크팩터 중 창원의 2루타, 3루타, 홈런의 평균을 구하고 1000으로 나눠주기\n",
    "df_parkfactor_changwon = df_parkfactor.loc[(df_parkfactor['구장'] == '창원'), ['2루타', '3루타', '홈런']]\n",
    "df_parkfactor_changwon_avg = df_parkfactor_changwon.mean(axis=1).iloc[0] / 1000\n"
   ]
  },
  {
   "cell_type": "code",
   "execution_count": 71,
   "metadata": {},
   "outputs": [
    {
     "data": {
      "text/plain": [
       "4.8042"
      ]
     },
     "execution_count": 71,
     "metadata": {},
     "output_type": "execute_result"
    }
   ],
   "source": [
    "# 5. 선수의 구장별 환경 점수\n",
    "# 환경 점수 = (3. 기온 기울기) x (4. 구장별 기온 평균값) + (3. 풍속 기울기) x (4. 구장별 풍속 평균값) + \n",
    "#           (3. 이슬점 기울기) x (4. 구장별 이슬점 평균값) + 구장별 파크팩터/1000\n",
    "\n",
    "player_stat = ((slope_temp * ballpark_temp_avg) + (slope_wind * ballpark_wind_avg) + \\\n",
    "            (slope_humid * ballpark_humid_avg) + df_parkfactor_changwon_avg).round(4)\n",
    "player_stat"
   ]
  },
  {
   "cell_type": "markdown",
   "metadata": {},
   "source": [
    "결과값 정리\n",
    "1. 권희동의 환경점수: -0.317 (150경기)\n",
    "2. 나성범의 환경점수: 3.3258 (156경기)\n",
    "3. 노진혁의 환경점수: 1.6703 (176경기)\n",
    "4. 양의지의 환경점수: 8.7981 (197경기)\n",
    "5. 박석민의 환경점수: 4.8042(152경기)"
   ]
  }
 ],
 "metadata": {
  "anaconda-cloud": {},
  "kernelspec": {
   "display_name": "Python 3 (ipykernel)",
   "language": "python",
   "name": "python3"
  },
  "language_info": {
   "codemirror_mode": {
    "name": "ipython",
    "version": 3
   },
   "file_extension": ".py",
   "mimetype": "text/x-python",
   "name": "python",
   "nbconvert_exporter": "python",
   "pygments_lexer": "ipython3",
   "version": "3.11.5"
  },
  "latex_envs": {
   "LaTeX_envs_menu_present": true,
   "autoclose": false,
   "autocomplete": true,
   "bibliofile": "biblio.bib",
   "cite_by": "apalike",
   "current_citInitial": 1,
   "eqLabelWithNumbers": true,
   "eqNumInitial": 1,
   "hotkeys": {
    "equation": "Ctrl-E",
    "itemize": "Ctrl-I"
   },
   "labels_anchors": false,
   "latex_user_defs": false,
   "report_style_numbering": false,
   "user_envs_cfg": false
  },
  "nav_menu": {},
  "toc": {
   "base_numbering": 1,
   "nav_menu": {
    "height": "400px",
    "width": "252px"
   },
   "number_sections": false,
   "sideBar": true,
   "skip_h1_title": false,
   "title_cell": "Table of Contents",
   "title_sidebar": "Contents",
   "toc_cell": false,
   "toc_position": {
    "height": "545px",
    "left": "0px",
    "right": "1154px",
    "top": "111px",
    "width": "212px"
   },
   "toc_section_display": "block",
   "toc_window_display": false
  },
  "toc_position": {
   "height": "503px",
   "left": "0px",
   "right": "952.167px",
   "top": "107px",
   "width": "300px"
  }
 },
 "nbformat": 4,
 "nbformat_minor": 2
}
